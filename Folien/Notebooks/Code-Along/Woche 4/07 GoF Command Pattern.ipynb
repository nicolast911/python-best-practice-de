{
 "cells": [
  {
   "cell_type": "markdown",
   "id": "817035fd06430814",
   "metadata": {
    "lang": "de",
    "slideshow": {
     "slide_type": "slide"
    },
    "tags": [
     "slide"
    ]
   },
   "source": [
    "\n",
    "<img src=\"data:image/svg+xml;base64,PHN2ZyB4bWxucz0iaHR0cDovL3d3dy53My5vcmcvMjAwMC9zdmciIHhtbG5zOnhsaW5rPSJodHRw\n",
    "Oi8vd3d3LnczLm9yZy8xOTk5L3hsaW5rIiB3aWR0aD0iMTExLjE2MSIgaGVpZ2h0PSIxMzQuNjY4\n",
    "IiB2ZXJzaW9uPSIxLjAiPjxkZWZzPjxsaW5lYXJHcmFkaWVudCBpZD0iYyI+PHN0b3Agb2Zmc2V0\n",
    "PSIwIiBzdHlsZT0ic3RvcC1jb2xvcjojYjhiOGI4O3N0b3Atb3BhY2l0eTouNDk4MDM5MjIiLz48\n",
    "c3RvcCBvZmZzZXQ9IjEiIHN0eWxlPSJzdG9wLWNvbG9yOiM3ZjdmN2Y7c3RvcC1vcGFjaXR5OjAi\n",
    "Lz48L2xpbmVhckdyYWRpZW50PjxsaW5lYXJHcmFkaWVudCBpZD0iYSI+PHN0b3Agb2Zmc2V0PSIw\n",
    "IiBzdHlsZT0ic3RvcC1jb2xvcjojZmZkNDNiO3N0b3Atb3BhY2l0eToxIi8+PHN0b3Agb2Zmc2V0\n",
    "PSIxIiBzdHlsZT0ic3RvcC1jb2xvcjojZmZlODczO3N0b3Atb3BhY2l0eToxIi8+PC9saW5lYXJH\n",
    "cmFkaWVudD48bGluZWFyR3JhZGllbnQgaWQ9ImIiPjxzdG9wIG9mZnNldD0iMCIgc3R5bGU9InN0\n",
    "b3AtY29sb3I6IzVhOWZkNDtzdG9wLW9wYWNpdHk6MSIvPjxzdG9wIG9mZnNldD0iMSIgc3R5bGU9\n",
    "InN0b3AtY29sb3I6IzMwNjk5ODtzdG9wLW9wYWNpdHk6MSIvPjwvbGluZWFyR3JhZGllbnQ+PGxp\n",
    "bmVhckdyYWRpZW50IHhsaW5rOmhyZWY9IiNhIiBpZD0iZSIgeDE9IjE1MC45NjEiIHgyPSIxMTIu\n",
    "MDMxIiB5MT0iMTkyLjM1MiIgeTI9IjEzNy4yNzMiIGdyYWRpZW50VHJhbnNmb3JtPSJtYXRyaXgo\n",
    "LjU2MjU0IDAgMCAuNTY3OTcgLTE0Ljk5MSAtMTEuNzAyKSIgZ3JhZGllbnRVbml0cz0idXNlclNw\n",
    "YWNlT25Vc2UiLz48bGluZWFyR3JhZGllbnQgeGxpbms6aHJlZj0iI2IiIGlkPSJkIiB4MT0iMjYu\n",
    "NjQ5IiB4Mj0iMTM1LjY2NSIgeTE9IjIwLjYwNCIgeTI9IjExNC4zOTgiIGdyYWRpZW50VHJhbnNm\n",
    "b3JtPSJtYXRyaXgoLjU2MjU0IDAgMCAuNTY3OTcgLTE0Ljk5MSAtMTEuNzAyKSIgZ3JhZGllbnRV\n",
    "bml0cz0idXNlclNwYWNlT25Vc2UiLz48cmFkaWFsR3JhZGllbnQgeGxpbms6aHJlZj0iI2MiIGlk\n",
    "PSJmIiBjeD0iNjEuNTE5IiBjeT0iMTMyLjI4NiIgcj0iMjkuMDM3IiBmeD0iNjEuNTE5IiBmeT0i\n",
    "MTMyLjI4NiIgZ3JhZGllbnRUcmFuc2Zvcm09Im1hdHJpeCgwIC0uMjM5OTUgMS4wNTQ2NyAwIC04\n",
    "My43IDE0Mi40NjIpIiBncmFkaWVudFVuaXRzPSJ1c2VyU3BhY2VPblVzZSIvPjwvZGVmcz48cGF0\n",
    "aCBkPSJNNTQuOTE5IDBjLTQuNTg0LjAyMi04Ljk2MS40MTMtMTIuODEzIDEuMDk1QzMwLjc2IDMu\n",
    "MDk5IDI4LjcgNy4yOTUgMjguNyAxNS4wMzJ2MTAuMjE5aDI2LjgxM3YzLjQwNkgxOC42MzhjLTcu\n",
    "NzkzIDAtMTQuNjE2IDQuNjg0LTE2Ljc1IDEzLjU5NC0yLjQ2MiAxMC4yMTMtMi41NzEgMTYuNTg2\n",
    "IDAgMjcuMjUgMS45MDUgNy45MzggNi40NTcgMTMuNTk0IDE0LjI1IDEzLjU5NGg5LjIxOHYtMTIu\n",
    "MjVjMC04Ljg1IDcuNjU3LTE2LjY1NyAxNi43NS0xNi42NTdoMjYuNzgyYzcuNDU0IDAgMTMuNDA2\n",
    "LTYuMTM4IDEzLjQwNi0xMy42MjV2LTI1LjUzYzAtNy4yNjctNi4xMy0xMi43MjYtMTMuNDA2LTEz\n",
    "LjkzOEM2NC4yODIuMzI4IDU5LjUwMi0uMDIgNTQuOTE4IDBtLTE0LjUgOC4yMmMyLjc3IDAgNS4w\n",
    "MzEgMi4yOTggNS4wMzEgNS4xMjUgMCAyLjgxNi0yLjI2MiA1LjA5My01LjAzMSA1LjA5My0yLjc4\n",
    "IDAtNS4wMzEtMi4yNzctNS4wMzEtNS4wOTMgMC0yLjgyNyAyLjI1MS01LjEyNSA1LjAzLTUuMTI1\n",
    "IiBzdHlsZT0iZmlsbDp1cmwoI2QpO2ZpbGwtb3BhY2l0eToxIi8+PHBhdGggZD0iTTg1LjYzOCAy\n",
    "OC42NTd2MTEuOTA2YzAgOS4yMzEtNy44MjYgMTctMTYuNzUgMTdINDIuMTA2Yy03LjMzNiAwLTEz\n",
    "LjQwNiA2LjI3OS0xMy40MDYgMTMuNjI1Vjk2LjcyYzAgNy4yNjYgNi4zMTkgMTEuNTQgMTMuNDA2\n",
    "IDEzLjYyNSA4LjQ4OCAyLjQ5NSAxNi42MjcgMi45NDYgMjYuNzgyIDAgNi43NS0xLjk1NSAxMy40\n",
    "MDYtNS44ODggMTMuNDA2LTEzLjYyNVY4Ni41SDU1LjUxM3YtMy40MDVIOTUuN2M3Ljc5MyAwIDEw\n",
    "LjY5Ni01LjQzNiAxMy40MDYtMTMuNTk0IDIuOC04LjM5OSAyLjY4LTE2LjQ3NiAwLTI3LjI1LTEu\n",
    "OTI1LTcuNzU4LTUuNjA0LTEzLjU5NC0xMy40MDYtMTMuNTk0ek03MC41NzUgOTMuMzEzYzIuNzgg\n",
    "MCA1LjAzMSAyLjI3OCA1LjAzMSA1LjA5NCAwIDIuODI3LTIuMjUxIDUuMTI1LTUuMDMxIDUuMTI1\n",
    "LTIuNzcgMC01LjAzMS0yLjI5OC01LjAzMS01LjEyNSAwLTIuODE2IDIuMjYxLTUuMDk0IDUuMDMx\n",
    "LTUuMDk0IiBzdHlsZT0iZmlsbDp1cmwoI2UpO2ZpbGwtb3BhY2l0eToxIi8+PGVsbGlwc2UgY3g9\n",
    "IjU1LjgxNyIgY3k9IjEyNy43MDEiIHJ4PSIzNS45MzEiIHJ5PSI2Ljk2NyIgc3R5bGU9Im9wYWNp\n",
    "dHk6LjQ0MzgyO2ZpbGw6dXJsKCNmKTtmaWxsLW9wYWNpdHk6MTtmaWxsLXJ1bGU6bm9uemVybztz\n",
    "dHJva2U6bm9uZTtzdHJva2Utd2lkdGg6MTUuNDE3NDtzdHJva2UtbWl0ZXJsaW1pdDo0O3N0cm9r\n",
    "ZS1kYXNoYXJyYXk6bm9uZTtzdHJva2Utb3BhY2l0eToxIi8+PC9zdmc+\n",
    "\"\n",
    "     style=\"display:block;margin:auto;width:10%\" alt=\"Python Logo\"/>\n",
    "<br>\n",
    "\n",
    "<div style=\"text-align:center; font-size:200%;\">\n",
    " <b>GoF: Command Pattern</b>\n",
    "</div>\n",
    "<br/>\n",
    "<div style=\"text-align:center;\">Dr. Matthias Hölzl</div>\n",
    "<br/>"
   ]
  },
  {
   "cell_type": "markdown",
   "id": "4947084b8a647fcc",
   "metadata": {
    "lang": "de",
    "slideshow": {
     "slide_type": "subslide"
    },
    "tags": [
     "subslide"
    ]
   },
   "source": [
    "\n",
    "## Beispiel: Textverarbeitung\n",
    "\n",
    "- `Document`-Klasse mit `modify()` und `append()`-Methoden"
   ]
  },
  {
   "cell_type": "code",
   "execution_count": 3,
   "id": "3f5203df18900b5a",
   "metadata": {
    "slideshow": {
     "slide_type": "subslide"
    },
    "tags": [
     "keep",
     "subslide"
    ]
   },
   "outputs": [],
   "source": [
    "from dataclasses import dataclass"
   ]
  },
  {
   "cell_type": "code",
   "execution_count": 4,
   "id": "f5d011f839516f79",
   "metadata": {
    "tags": [
     "keep"
    ]
   },
   "outputs": [],
   "source": [
    "@dataclass\n",
    "class Document:\n",
    "    state: str = \"<empty>\"\n",
    "\n",
    "    def modify(self, change: str | None):\n",
    "        print(\"Document.modify()\")\n",
    "        print(\"  document state before: \", self.state)\n",
    "        if change is not None:\n",
    "            self.state = change\n",
    "        else:\n",
    "            self.state = \"<empty>\"\n",
    "        print(\"  document state after:  \", self.state)\n",
    "\n",
    "    def append(self, text: str, times: int = 1):\n",
    "        print(f\"Document::append({text!r}, {times!r})\")\n",
    "        print(\"  document state before: \", self.state)\n",
    "        self.state += text * times\n",
    "        print(\"  document state after:  \", self.state)"
   ]
  },
  {
   "cell_type": "code",
   "execution_count": 5,
   "id": "619dc243bb67628c",
   "metadata": {
    "lines_to_next_cell": 2,
    "slideshow": {
     "slide_type": "subslide"
    },
    "tags": [
     "keep",
     "subslide"
    ]
   },
   "outputs": [
    {
     "name": "stdout",
     "output_type": "stream",
     "text": [
      "Document.modify()\n",
      "  document state before:  <empty>\n",
      "  document state after:   Document Template\n",
      "Document::append('-append', 3)\n",
      "  document state before:  Document Template\n",
      "  document state after:   Document Template-append-append-append\n",
      "Document.modify()\n",
      "  document state before:  Document Template-append-append-append\n",
      "  document state after:   <empty>\n"
     ]
    }
   ],
   "source": [
    "doc = Document()\n",
    "doc.modify(\"Document Template\")\n",
    "doc.append(\"-append\", 3)\n",
    "doc.modify(None)"
   ]
  },
  {
   "cell_type": "markdown",
   "id": "377fd2e28d43fbd2",
   "metadata": {
    "lang": "de",
    "slideshow": {
     "slide_type": "subslide"
    },
    "tags": [
     "subslide"
    ]
   },
   "source": [
    "\n",
    "## Command-Objekte für `Document`\n",
    "\n",
    "- Wie können wir die Methoden der `Document`-Klasse aufrufen?\n",
    "- Verschiedene Aufrufmöglichkeiten:\n",
    "  - Menü-System\n",
    "  - Toolbar-Buttons\n",
    "  - Tastaturkürzel\n",
    "- Methoden haben potenziell unterschiedliche Signaturen\n",
    "- Wir wollen sie aber möglichst einheitlich handhaben"
   ]
  },
  {
   "cell_type": "code",
   "execution_count": 6,
   "id": "58eeb990a16dd49c",
   "metadata": {
    "lines_to_next_cell": 2,
    "slideshow": {
     "slide_type": "subslide"
    },
    "tags": [
     "keep",
     "subslide"
    ]
   },
   "outputs": [],
   "source": [
    "from abc import ABC, abstractmethod  # noqa: E402"
   ]
  },
  {
   "cell_type": "code",
   "execution_count": 7,
   "id": "94267067447d43f2",
   "metadata": {
    "lines_to_next_cell": 2
   },
   "outputs": [],
   "source": [
    "class CommandV1(ABC):\n",
    "    @abstractmethod\n",
    "    def execute(self, doc: Document):\n",
    "        ..."
   ]
  },
  {
   "cell_type": "markdown",
   "id": "64fdd6feeaf58947",
   "metadata": {
    "lang": "de",
    "slideshow": {
     "slide_type": "subslide"
    },
    "tags": [
     "subslide"
    ]
   },
   "source": [
    "\n",
    "### `ModifyCommandV1`"
   ]
  },
  {
   "cell_type": "code",
   "execution_count": 9,
   "id": "969500e3193ec4c2",
   "metadata": {
    "lines_to_next_cell": 2
   },
   "outputs": [],
   "source": [
    "@dataclass\n",
    "class ModifyCommandV1(CommandV1):\n",
    "    change: str | None\n",
    "\n",
    "    def execute(self, doc):\n",
    "        doc.modify(self.change)"
   ]
  },
  {
   "cell_type": "markdown",
   "id": "c99c2432c2e9278c",
   "metadata": {
    "lang": "de",
    "slideshow": {
     "slide_type": "subslide"
    },
    "tags": [
     "subslide"
    ]
   },
   "source": [
    "\n",
    "### `AppendCommandV1`"
   ]
  },
  {
   "cell_type": "code",
   "execution_count": 10,
   "id": "9a95ba6d5c8ebff6",
   "metadata": {
    "lines_to_next_cell": 2,
    "tags": [
     "keep"
    ]
   },
   "outputs": [],
   "source": [
    "@dataclass\n",
    "class AppendCommandV1(CommandV1):\n",
    "    text: str\n",
    "    times: int = 1\n",
    "\n",
    "    def execute(self, doc: Document):\n",
    "        doc.append(self.text, self.times)"
   ]
  },
  {
   "cell_type": "markdown",
   "id": "bfacec3a2431ed87",
   "metadata": {
    "lang": "de",
    "slideshow": {
     "slide_type": "subslide"
    },
    "tags": [
     "subslide"
    ]
   },
   "source": [
    "\n",
    "### Verwendung"
   ]
  },
  {
   "cell_type": "code",
   "execution_count": 11,
   "id": "56265052ee74b838",
   "metadata": {},
   "outputs": [],
   "source": [
    "template_command = ModifyCommandV1(\"Document Template\")\n",
    "append_command = AppendCommandV1(\"-append\", 3)\n",
    "clear_command = ModifyCommandV1(None)"
   ]
  },
  {
   "cell_type": "code",
   "execution_count": 12,
   "id": "4b6e1251f96e51eb",
   "metadata": {},
   "outputs": [
    {
     "name": "stdout",
     "output_type": "stream",
     "text": [
      "Document.modify()\n",
      "  document state before:  <empty>\n",
      "  document state after:   Document Template\n",
      "Document::append('-append', 3)\n",
      "  document state before:  Document Template\n",
      "  document state after:   Document Template-append-append-append\n",
      "Document.modify()\n",
      "  document state before:  Document Template-append-append-append\n",
      "  document state after:   <empty>\n"
     ]
    }
   ],
   "source": [
    "doc = Document()\n",
    "template_command.execute(doc)\n",
    "append_command.execute(doc)\n",
    "clear_command.execute(doc)"
   ]
  },
  {
   "cell_type": "markdown",
   "id": "246f032c82209cfe",
   "metadata": {
    "lang": "de",
    "slideshow": {
     "slide_type": "subslide"
    },
    "tags": [
     "subslide"
    ]
   },
   "source": [
    "\n",
    "## Funktionale Implementierung"
   ]
  },
  {
   "cell_type": "code",
   "execution_count": 20,
   "id": "bbc1d2f56e0e0b95",
   "metadata": {},
   "outputs": [],
   "source": [
    "def template_fun(doc):\n",
    "    doc.modify(\"Document Template\")"
   ]
  },
  {
   "cell_type": "code",
   "execution_count": 17,
   "id": "c53e22196cc34eea",
   "metadata": {},
   "outputs": [],
   "source": [
    "from operator import methodcaller\n",
    "append_fun = methodcaller(\"append\", \"-append\")"
   ]
  },
  {
   "cell_type": "code",
   "execution_count": 18,
   "id": "de4b60e93f1e354b",
   "metadata": {},
   "outputs": [],
   "source": [
    "clear_fun = lambda doc: doc.modify(None)"
   ]
  },
  {
   "cell_type": "code",
   "execution_count": 21,
   "id": "daeef0961764d493",
   "metadata": {},
   "outputs": [
    {
     "name": "stdout",
     "output_type": "stream",
     "text": [
      "Document.modify()\n",
      "  document state before:  <empty>\n",
      "  document state after:   Document Template\n",
      "Document::append('-append', 1)\n",
      "  document state before:  Document Template\n",
      "  document state after:   Document Template-append\n",
      "Document.modify()\n",
      "  document state before:  Document Template-append\n",
      "  document state after:   <empty>\n"
     ]
    }
   ],
   "source": [
    "doc = Document()\n",
    "template_fun(doc)\n",
    "append_fun(doc)\n",
    "clear_fun(doc)"
   ]
  },
  {
   "cell_type": "code",
   "execution_count": 22,
   "id": "5ed9f646d7efafa9",
   "metadata": {
    "lines_to_next_cell": 2,
    "slideshow": {
     "slide_type": "subslide"
    },
    "tags": [
     "keep",
     "subslide"
    ]
   },
   "outputs": [],
   "source": [
    "class CommandV2(ABC):\n",
    "    @abstractmethod\n",
    "    def execute(self): ..."
   ]
  },
  {
   "cell_type": "code",
   "execution_count": 23,
   "id": "d2bf51121627a67a",
   "metadata": {
    "slideshow": {
     "slide_type": "subslide"
    },
    "tags": [
     "keep",
     "subslide"
    ]
   },
   "outputs": [],
   "source": [
    "@dataclass\n",
    "class ModifyCommandV2(CommandV2):\n",
    "    doc: Document\n",
    "    change: str | None\n",
    "\n",
    "    def execute(self):\n",
    "        self.doc.modify(self.change)"
   ]
  },
  {
   "cell_type": "code",
   "execution_count": 24,
   "id": "9194c9be43285916",
   "metadata": {
    "lines_to_next_cell": 2,
    "tags": [
     "keep"
    ]
   },
   "outputs": [],
   "source": [
    "@dataclass\n",
    "class AppendCommandV2(CommandV2):\n",
    "    doc: Document\n",
    "    text: str\n",
    "    times: int = 1\n",
    "\n",
    "    def execute(self):\n",
    "        self.doc.append(self.text, self.times)"
   ]
  },
  {
   "cell_type": "markdown",
   "id": "853c400e966a523e",
   "metadata": {
    "lang": "de",
    "slideshow": {
     "slide_type": "subslide"
    },
    "tags": [
     "subslide"
    ]
   },
   "source": [
    "\n",
    "### Verwendung"
   ]
  },
  {
   "cell_type": "code",
   "execution_count": 27,
   "id": "e681f3a7715f414b",
   "metadata": {},
   "outputs": [],
   "source": [
    "doc = Document()\n",
    "template_command = ModifyCommandV2(doc, \"Doc Template\")\n",
    "append_command = ModifyCommandV2(doc, \"-append\")\n"
   ]
  },
  {
   "cell_type": "code",
   "execution_count": 28,
   "id": "156e8cc8061febd4",
   "metadata": {},
   "outputs": [
    {
     "name": "stdout",
     "output_type": "stream",
     "text": [
      "Document.modify()\n",
      "  document state before:  <empty>\n",
      "  document state after:   Doc Template\n",
      "Document.modify()\n",
      "  document state before:  Doc Template\n",
      "  document state after:   -append\n"
     ]
    }
   ],
   "source": [
    "template_command.execute()\n",
    "append_command.execute()"
   ]
  },
  {
   "cell_type": "markdown",
   "id": "d12ee1534e5fc87b",
   "metadata": {
    "lang": "de",
    "slideshow": {
     "slide_type": "subslide"
    },
    "tags": [
     "subslide"
    ]
   },
   "source": [
    "\n",
    "## Kommandos mit Undo-Funktionalität"
   ]
  },
  {
   "cell_type": "code",
   "execution_count": 31,
   "id": "cb8ee45cf02bfb54",
   "metadata": {
    "tags": [
     "start"
    ]
   },
   "outputs": [],
   "source": [
    "class CommandV3(ABC):\n",
    "    history = []\n",
    "\n",
    "    @staticmethod\n",
    "    def undo(): \n",
    "        if not CommandV3.history:\n",
    "            return \n",
    "        last = CommandV3.history.pop()\n",
    "        last.undo_execution()\n",
    "\n",
    "\n",
    "    @abstractmethod\n",
    "    def execute(self): ...\n",
    "    @abstractmethod\n",
    "    def undo_execution(self): ..."
   ]
  },
  {
   "cell_type": "markdown",
   "id": "27def35ee5076979",
   "metadata": {
    "lang": "de",
    "slideshow": {
     "slide_type": "subslide"
    },
    "tags": [
     "subslide"
    ]
   },
   "source": [
    "\n",
    "### `ModifyCommandV3`"
   ]
  },
  {
   "cell_type": "code",
   "execution_count": 34,
   "id": "76a472a3a90d1507",
   "metadata": {
    "tags": [
     "start"
    ]
   },
   "outputs": [],
   "source": [
    "@dataclass\n",
    "class ModifyCommandV3(CommandV3):  # noqa\n",
    "    doc: Document\n",
    "    change: str | None\n",
    "    saved_state: str = \"\"\n",
    "\n",
    "    def execute(self):\n",
    "        self.saved_state = self.doc.state\n",
    "        CommandV3.history.append(self)\n",
    "        self.doc.modify(self.change)\n",
    "\n",
    "    def undo_execution(self):\n",
    "        self.doc.modify(self.saved_state)"
   ]
  },
  {
   "cell_type": "markdown",
   "id": "4864aa130fcf50a8",
   "metadata": {
    "lang": "de",
    "slideshow": {
     "slide_type": "subslide"
    },
    "tags": [
     "subslide"
    ]
   },
   "source": [
    "\n",
    "### `AppendCommandV3`"
   ]
  },
  {
   "cell_type": "code",
   "execution_count": 37,
   "id": "f7a0c0124dec1faa",
   "metadata": {
    "lines_to_next_cell": 2,
    "tags": [
     "start"
    ]
   },
   "outputs": [],
   "source": [
    "@dataclass\n",
    "class AppendCommandV3(CommandV3):  # noqa\n",
    "    doc: Document\n",
    "    text: str\n",
    "    times: int = 1\n",
    "    saved_state: str = \"\"\n",
    "\n",
    "    def execute(self):\n",
    "        self.saved_state = self.doc.state\n",
    "        CommandV3.history.append(self)\n",
    "        self.doc.append(self.text, self.times)\n",
    "        \n",
    "    def undo_execution(self):\n",
    "        self.doc.modify(self.saved_state)\n",
    "        "
   ]
  },
  {
   "cell_type": "markdown",
   "id": "a74de8593337e489",
   "metadata": {
    "lang": "de",
    "slideshow": {
     "slide_type": "subslide"
    },
    "tags": [
     "subslide"
    ]
   },
   "source": [
    "\n",
    "### Verwendung"
   ]
  },
  {
   "cell_type": "code",
   "execution_count": 38,
   "id": "2e5226ad34095146",
   "metadata": {
    "tags": [
     "keep"
    ]
   },
   "outputs": [],
   "source": [
    "doc = Document()\n",
    "template_command = ModifyCommandV3(doc, \"Document Template\")\n",
    "append_command = AppendCommandV3(doc, \"-append\", 3)\n",
    "clear_command = ModifyCommandV3(doc, None)"
   ]
  },
  {
   "cell_type": "code",
   "execution_count": 39,
   "id": "cf774fc0b63034f8",
   "metadata": {
    "tags": [
     "keep"
    ]
   },
   "outputs": [
    {
     "name": "stdout",
     "output_type": "stream",
     "text": [
      "Document.modify()\n",
      "  document state before:  <empty>\n",
      "  document state after:   Document Template\n",
      "Document::append('-append', 3)\n",
      "  document state before:  Document Template\n",
      "  document state after:   Document Template-append-append-append\n",
      "Document.modify()\n",
      "  document state before:  Document Template-append-append-append\n",
      "  document state after:   <empty>\n"
     ]
    }
   ],
   "source": [
    "template_command.execute()\n",
    "append_command.execute()\n",
    "clear_command.execute()"
   ]
  },
  {
   "cell_type": "code",
   "execution_count": 43,
   "id": "cde8fc2191f49861",
   "metadata": {},
   "outputs": [],
   "source": [
    "CommandV3.undo()"
   ]
  },
  {
   "cell_type": "code",
   "execution_count": null,
   "id": "e636b3f8f80352e0",
   "metadata": {},
   "outputs": [],
   "source": []
  },
  {
   "cell_type": "code",
   "execution_count": null,
   "id": "bf4092c4c373b815",
   "metadata": {
    "lines_to_next_cell": 2
   },
   "outputs": [],
   "source": []
  },
  {
   "cell_type": "markdown",
   "id": "39a3aab5fe71bfd8",
   "metadata": {
    "lang": "de",
    "slideshow": {
     "slide_type": "subslide"
    },
    "tags": [
     "subslide"
    ]
   },
   "source": [
    "<img src=\"img/command_example.svg\"\n",
    "     style=\"display:block;margin:auto;width:70%\"/>"
   ]
  },
  {
   "cell_type": "markdown",
   "id": "9a7d65291ceea5e2",
   "metadata": {
    "lang": "de",
    "slideshow": {
     "slide_type": "subslide"
    },
    "tags": [
     "subslide"
    ]
   },
   "source": [
    "\n",
    "## Verbesserte Implementierung"
   ]
  },
  {
   "cell_type": "code",
   "execution_count": 45,
   "id": "16321562875e4d06",
   "metadata": {
    "lines_to_next_cell": 2,
    "tags": [
     "keep"
    ]
   },
   "outputs": [],
   "source": [
    "class Command(ABC):  # noqa: F811\n",
    "    history = []  # Note this is a class variable!\n",
    "    redo_stack = []\n",
    "\n",
    "    def __init__(self, doc: Document):\n",
    "        self.doc = doc\n",
    "        self.saved_state = \"\"\n",
    "\n",
    "    @abstractmethod\n",
    "    def do_execute(self): ...\n",
    "\n",
    "    def execute(self):\n",
    "        Command.redo_stack.clear()\n",
    "        self._execute_keeping_redo_stack()\n",
    "\n",
    "    def _undo_execution(self):\n",
    "        self.doc.modify(self.saved_state)\n",
    "\n",
    "    def _execute_keeping_redo_stack(self):\n",
    "        self.saved_state = self.doc.state\n",
    "        Command.history.append(self)\n",
    "        self.do_execute()"
   ]
  },
  {
   "cell_type": "markdown",
   "id": "9d731d5c8ec33ca2",
   "metadata": {
    "lang": "de",
    "slideshow": {
     "slide_type": "subslide"
    },
    "tags": [
     "subslide"
    ]
   },
   "source": [
    "\n",
    "### Undo/Redo"
   ]
  },
  {
   "cell_type": "code",
   "execution_count": 46,
   "id": "c5defa69702a99d6",
   "metadata": {
    "tags": [
     "keep"
    ]
   },
   "outputs": [],
   "source": [
    "def undo():\n",
    "    if not Command.history:\n",
    "        return\n",
    "    last = Command.history.pop()\n",
    "    Command.redo_stack.append(last)\n",
    "    last._undo_execution()  # noqa"
   ]
  },
  {
   "cell_type": "code",
   "execution_count": 48,
   "id": "d7be9681321c66ac",
   "metadata": {
    "lines_to_next_cell": 2,
    "tags": [
     "keep"
    ]
   },
   "outputs": [],
   "source": [
    "def redo():\n",
    "    if not Command.redo_stack:\n",
    "        return\n",
    "    last = Command.redo_stack.pop()\n",
    "    last._execute_keeping_redo_stack()  # noqa"
   ]
  },
  {
   "cell_type": "markdown",
   "id": "fc4ee0b5b36bfe83",
   "metadata": {
    "lang": "de",
    "slideshow": {
     "slide_type": "subslide"
    },
    "tags": [
     "subslide"
    ]
   },
   "source": [
    "\n",
    "### `ModifyCommand`"
   ]
  },
  {
   "cell_type": "code",
   "execution_count": 54,
   "id": "ac8c381ca27ec756",
   "metadata": {
    "lines_to_next_cell": 2
   },
   "outputs": [],
   "source": [
    "class ModifyCommand(Command):\n",
    "     def __init__(self, doc, change: str | None):\n",
    "          super().__init__(doc)\n",
    "          self.change = change\n",
    "\n",
    "     def do_execute(self):\n",
    "          self.doc.modify(self.change)"
   ]
  },
  {
   "cell_type": "markdown",
   "id": "972a9782ce9840a6",
   "metadata": {
    "lang": "de",
    "slideshow": {
     "slide_type": "subslide"
    },
    "tags": [
     "subslide"
    ]
   },
   "source": [
    "\n",
    "### `AppendCommand`"
   ]
  },
  {
   "cell_type": "code",
   "execution_count": 55,
   "id": "0baca0e42f0db3e4",
   "metadata": {
    "lines_to_next_cell": 2
   },
   "outputs": [],
   "source": [
    "class AppendCommand(Command):\n",
    "     def __init__(self, doc, text: str, times: int = 1):\n",
    "          super().__init__(doc)\n",
    "          self.text = text\n",
    "          self.times = times\n",
    "\n",
    "     def do_execute(self):\n",
    "          self.doc.append(self.text, self.times)"
   ]
  },
  {
   "cell_type": "markdown",
   "id": "fc039d3c8e6101a1",
   "metadata": {
    "lang": "de",
    "slideshow": {
     "slide_type": "subslide"
    },
    "tags": [
     "subslide"
    ]
   },
   "source": [
    "\n",
    "### Beispiel-Anwendung"
   ]
  },
  {
   "cell_type": "code",
   "execution_count": 56,
   "id": "3b466bc1e3f9be8a",
   "metadata": {
    "lines_to_next_cell": 2,
    "tags": [
     "keep"
    ]
   },
   "outputs": [],
   "source": [
    "def run_text_processing():\n",
    "    doc = Document()\n",
    "    while True:\n",
    "        print(\"Document state:\", doc.state)\n",
    "        print(\"Commands: [m]odify, [a]ppend, [u]ndo, [r]edo, [q]uit\")\n",
    "        user_input = input(\"Enter command: \")\n",
    "        if not user_input or user_input.lower().startswith(\"q\"):\n",
    "            break\n",
    "        elif user_input.lower().startswith(\"u\"):\n",
    "            undo()\n",
    "        elif user_input.lower().startswith(\"r\"):\n",
    "            redo()\n",
    "        else:\n",
    "            command = create_command(doc, user_input)\n",
    "            command.execute()"
   ]
  },
  {
   "cell_type": "code",
   "execution_count": 57,
   "id": "f5822ec509404597",
   "metadata": {
    "lines_to_next_cell": 2,
    "slideshow": {
     "slide_type": "subslide"
    },
    "tags": [
     "keep",
     "subslide"
    ]
   },
   "outputs": [],
   "source": [
    "def create_command(doc: Document, user_input: str) -> Command:\n",
    "    command, *args = user_input.split()\n",
    "    if command.lower().startswith(\"m\"):\n",
    "        new_state = \" \".join(args) or \"<empty>\"\n",
    "        return ModifyCommand(doc, new_state)\n",
    "    elif command.lower().startswith(\"a\"):\n",
    "        text = args[0] if args else \"!\"\n",
    "        times = int(args[1]) if len(args) > 1 else 1\n",
    "        return AppendCommand(doc, text, times)\n",
    "    else:\n",
    "        raise ValueError(f\"Unknown command: {command}\")"
   ]
  },
  {
   "cell_type": "code",
   "execution_count": 59,
   "id": "4c127b64387eaf60",
   "metadata": {},
   "outputs": [
    {
     "name": "stdout",
     "output_type": "stream",
     "text": [
      "Document state: <empty>\n",
      "Commands: [m]odify, [a]ppend, [u]ndo, [r]edo, [q]uit\n",
      "Document.modify()\n",
      "  document state before:  <empty>\n",
      "  document state after:   hello world\n",
      "Document state: hello world\n",
      "Commands: [m]odify, [a]ppend, [u]ndo, [r]edo, [q]uit\n",
      "Document::append('!', 1)\n",
      "  document state before:  hello world\n",
      "  document state after:   hello world!\n",
      "Document state: hello world!\n",
      "Commands: [m]odify, [a]ppend, [u]ndo, [r]edo, [q]uit\n",
      "Document::append('-xxx,', 5)\n",
      "  document state before:  hello world!\n",
      "  document state after:   hello world!-xxx,-xxx,-xxx,-xxx,-xxx,\n",
      "Document state: hello world!-xxx,-xxx,-xxx,-xxx,-xxx,\n",
      "Commands: [m]odify, [a]ppend, [u]ndo, [r]edo, [q]uit\n",
      "Document::append('nix,', 3)\n",
      "  document state before:  hello world!-xxx,-xxx,-xxx,-xxx,-xxx,\n",
      "  document state after:   hello world!-xxx,-xxx,-xxx,-xxx,-xxx,nix,nix,nix,\n",
      "Document state: hello world!-xxx,-xxx,-xxx,-xxx,-xxx,nix,nix,nix,\n",
      "Commands: [m]odify, [a]ppend, [u]ndo, [r]edo, [q]uit\n",
      "Document state: hello world!-xxx,-xxx,-xxx,-xxx,-xxx,nix,nix,nix,\n",
      "Commands: [m]odify, [a]ppend, [u]ndo, [r]edo, [q]uit\n",
      "Document.modify()\n",
      "  document state before:  hello world!-xxx,-xxx,-xxx,-xxx,-xxx,nix,nix,nix,\n",
      "  document state after:   hello world!-xxx,-xxx,-xxx,-xxx,-xxx,\n",
      "Document state: hello world!-xxx,-xxx,-xxx,-xxx,-xxx,\n",
      "Commands: [m]odify, [a]ppend, [u]ndo, [r]edo, [q]uit\n",
      "Document.modify()\n",
      "  document state before:  hello world!-xxx,-xxx,-xxx,-xxx,-xxx,\n",
      "  document state after:   hello world!\n",
      "Document state: hello world!\n",
      "Commands: [m]odify, [a]ppend, [u]ndo, [r]edo, [q]uit\n",
      "Document.modify()\n",
      "  document state before:  hello world!\n",
      "  document state after:   hello world\n",
      "Document state: hello world\n",
      "Commands: [m]odify, [a]ppend, [u]ndo, [r]edo, [q]uit\n",
      "Document::append('!', 1)\n",
      "  document state before:  hello world\n",
      "  document state after:   hello world!\n",
      "Document state: hello world!\n",
      "Commands: [m]odify, [a]ppend, [u]ndo, [r]edo, [q]uit\n",
      "Document::append('-xxx,', 5)\n",
      "  document state before:  hello world!\n",
      "  document state after:   hello world!-xxx,-xxx,-xxx,-xxx,-xxx,\n",
      "Document state: hello world!-xxx,-xxx,-xxx,-xxx,-xxx,\n",
      "Commands: [m]odify, [a]ppend, [u]ndo, [r]edo, [q]uit\n",
      "Document::append('nix,', 3)\n",
      "  document state before:  hello world!-xxx,-xxx,-xxx,-xxx,-xxx,\n",
      "  document state after:   hello world!-xxx,-xxx,-xxx,-xxx,-xxx,nix,nix,nix,\n",
      "Document state: hello world!-xxx,-xxx,-xxx,-xxx,-xxx,nix,nix,nix,\n",
      "Commands: [m]odify, [a]ppend, [u]ndo, [r]edo, [q]uit\n"
     ]
    }
   ],
   "source": [
    "run_text_processing()"
   ]
  },
  {
   "cell_type": "markdown",
   "id": "71135b5fb40162f4",
   "metadata": {
    "lang": "de",
    "slideshow": {
     "slide_type": "slide"
    },
    "tags": [
     "slide"
    ]
   },
   "source": [
    "\n",
    "### Zweck\n",
    "\n",
    "Kapselung eines Requests als Objekt, um so die Parametrisierung von Clients\n",
    "mit verschiedenen Requests, Warteschlangen- oder Logging-Operationen sowie\n",
    "das Rückgängigmachen von Operationen zu ermöglichen."
   ]
  },
  {
   "cell_type": "markdown",
   "id": "be90f4b3fe1d68e8",
   "metadata": {
    "lang": "de",
    "slideshow": {
     "slide_type": "subslide"
    },
    "tags": [
     "subslide"
    ]
   },
   "source": [
    "\n",
    "### Auch bekannt als\n",
    "\n",
    "Action, Transaction"
   ]
  },
  {
   "cell_type": "markdown",
   "id": "0de6f5667ec78ed7",
   "metadata": {
    "lang": "de",
    "slideshow": {
     "slide_type": "subslide"
    },
    "tags": [
     "subslide"
    ]
   },
   "source": [
    "\n",
    "### Motivation\n",
    "\n",
    "Kommandos in grafischen Benutzeroberflächen\n",
    "\n",
    "- Können auf mehrere Arten aktiviert werden (Menü, Tastatur, Maus)\n",
    "- Sollten oft Undo/Redo unterstützen\n",
    "- Sollten geloggt werden können\n",
    "- Sollten in Warteschlangen abgelegt werden können\n",
    "- Sollten für Macros verwendet werden können"
   ]
  },
  {
   "cell_type": "markdown",
   "id": "fc4d6c178226d629",
   "metadata": {
    "lang": "de",
    "slideshow": {
     "slide_type": "subslide"
    },
    "tags": [
     "subslide"
    ]
   },
   "source": [
    "\n",
    "Mögliche Lösung: Implementierung als Objekt\n",
    "\n",
    "- Jedes Kommando wird als Objekt implementiert\n",
    "- Das Kommando-Objekt kapselt die Operation und ihre Parameter\n",
    "- Das Kommando-Objekt bietet eine Methode `execute()`, die die Operation\n",
    "  ausführt"
   ]
  },
  {
   "cell_type": "markdown",
   "id": "f31a819e5ad6b39f",
   "metadata": {
    "lang": "de",
    "slideshow": {
     "slide_type": "subslide"
    },
    "tags": [
     "subslide"
    ]
   },
   "source": [
    "\n",
    "### Struktur\n",
    "\n",
    "<img src=\"img/pat_command.svg\"\n",
    "     style=\"display:block;margin:auto;width:40%\"/>"
   ]
  },
  {
   "cell_type": "markdown",
   "id": "bed458836a0e35f7",
   "metadata": {
    "lang": "de",
    "slideshow": {
     "slide_type": "subslide"
    },
    "tags": [
     "subslide"
    ]
   },
   "source": [
    "### Teilnehmer\n",
    "\n",
    "- `Command`\n",
    "  - Deklariert eine Schnittstelle für das Ausführen einer Operation\n",
    "- `ConcreteCommand`\n",
    "  - Definiert eine Verbindung zwischen einem `Receiver`-Objekt und einer\n",
    "    Operation\n",
    "  - Implementiert `execute()` durch Aufruf der entsprechenden Operation(en)\n",
    "    auf `Receiver`\n",
    "- `Client`\n",
    "  - Erstellt ein `ConcreteCommand`-Objekt und setzt dessen `Receiver`\n",
    "- `Invoker`\n",
    "  - Ruft `execute()` auf `ConcreteCommand` auf um die Anfrage auszuführen"
   ]
  },
  {
   "cell_type": "markdown",
   "id": "d97d4ffc2f146420",
   "metadata": {
    "lang": "de",
    "slideshow": {
     "slide_type": "subslide"
    },
    "tags": [
     "subslide"
    ]
   },
   "source": [
    "### Sequenzdiagramm\n",
    "\n",
    "<img src=\"img/pat_command_seq.svg\"\n",
    "     style=\"display:block;margin:auto;width:70%\"/>"
   ]
  },
  {
   "cell_type": "markdown",
   "id": "9b23eb0dc182e1a9",
   "metadata": {
    "lang": "de",
    "slideshow": {
     "slide_type": "subslide"
    },
    "tags": [
     "subslide"
    ]
   },
   "source": [
    "\n",
    "### Konsequenzen\n",
    "\n",
    "- Einfache Erweiterung des Systems durch neue `ConcreteCommand`-Klassen\n",
    "  (Open/Closed Principle)\n",
    "- Einfache Implementierung von Undo/Redo und anderen erweiterten Funktionen\n",
    "- Entkoppelt, das Objekt, das eine Operation auslöst von dem Objekt, das sie\n",
    "  ausführt\n",
    "- Zusammengesetzte Operationen sind möglich (z.B. Makros, siehe Composite Pattern)"
   ]
  },
  {
   "cell_type": "markdown",
   "id": "e1a013916c0ffc67",
   "metadata": {
    "lang": "de",
    "slideshow": {
     "slide_type": "subslide"
    },
    "tags": [
     "subslide"
    ]
   },
   "source": [
    "### Implementierung\n",
    "\n",
    "- Für einfache Szenarien kann eine `SimpleCommand`-Klasse, die einen Zeiger\n",
    "  auf eine Funktion oder Methode speichert, verwendet werden\n",
    "- ..."
   ]
  },
  {
   "cell_type": "code",
   "execution_count": 60,
   "id": "7e9c4dbdccd942f0",
   "metadata": {
    "slideshow": {
     "slide_type": "subslide"
    },
    "tags": [
     "keep",
     "subslide"
    ]
   },
   "outputs": [],
   "source": [
    "from document_commands import Document, Command, undo, redo  # noqa\n",
    "from typing import Callable  # noqa: E402"
   ]
  },
  {
   "cell_type": "code",
   "execution_count": 63,
   "id": "208d90238971b5b7",
   "metadata": {
    "lines_to_next_cell": 2,
    "tags": [
     "keep"
    ]
   },
   "outputs": [],
   "source": [
    "class SimpleCommand(Command):\n",
    "    def __init__(self, doc: Document, action: Callable, *args, **kwargs):\n",
    "        super().__init__(doc)\n",
    "        self.action = action\n",
    "        self.args = args\n",
    "        self.kwargs = kwargs\n",
    "\n",
    "    def do_execute(self):\n",
    "        self.action(self.doc, *self.args, **self.kwargs)"
   ]
  },
  {
   "cell_type": "code",
   "execution_count": 64,
   "id": "ccaa2c6a86e38da6",
   "metadata": {
    "slideshow": {
     "slide_type": "subslide"
    },
    "tags": [
     "keep",
     "subslide"
    ]
   },
   "outputs": [],
   "source": [
    "doc = Document()\n",
    "template_command = SimpleCommand(doc, Document.modify, \"Document Template\")\n",
    "append_command = SimpleCommand(doc, Document.append, \"-123\", 2)\n",
    "modify_command = SimpleCommand(doc, Document.modify, None)"
   ]
  },
  {
   "cell_type": "code",
   "execution_count": 65,
   "id": "85dd14b8b26b872e",
   "metadata": {
    "tags": [
     "keep"
    ]
   },
   "outputs": [
    {
     "name": "stdout",
     "output_type": "stream",
     "text": [
      "Document.modify()\n",
      "  document state before:  <empty>\n",
      "  document state after:   Document Template\n",
      "Document::append('-123', 2)\n",
      "  document state before:  Document Template\n",
      "  document state after:   Document Template-123-123\n",
      "Document.modify()\n",
      "  document state before:  Document Template-123-123\n",
      "  document state after:   <empty>\n"
     ]
    }
   ],
   "source": [
    "template_command.execute()\n",
    "append_command.execute()\n",
    "modify_command.execute()"
   ]
  },
  {
   "cell_type": "code",
   "execution_count": 66,
   "id": "54c32ffe5c9c1eb5",
   "metadata": {
    "slideshow": {
     "slide_type": "subslide"
    },
    "tags": [
     "keep",
     "subslide"
    ]
   },
   "outputs": [
    {
     "name": "stdout",
     "output_type": "stream",
     "text": [
      "Document.modify()\n",
      "  document state before:  <empty>\n",
      "  document state after:   Document Template-123-123\n"
     ]
    }
   ],
   "source": [
    "undo()"
   ]
  },
  {
   "cell_type": "code",
   "execution_count": 67,
   "id": "a06ccf207cccd9a9",
   "metadata": {
    "tags": [
     "keep"
    ]
   },
   "outputs": [
    {
     "name": "stdout",
     "output_type": "stream",
     "text": [
      "Document.modify()\n",
      "  document state before:  Document Template-123-123\n",
      "  document state after:   Document Template\n"
     ]
    }
   ],
   "source": [
    "undo()"
   ]
  },
  {
   "cell_type": "code",
   "execution_count": 68,
   "id": "9457da240c08cff7",
   "metadata": {
    "tags": [
     "keep"
    ]
   },
   "outputs": [
    {
     "name": "stdout",
     "output_type": "stream",
     "text": [
      "Document::append('-123', 2)\n",
      "  document state before:  Document Template\n",
      "  document state after:   Document Template-123-123\n"
     ]
    }
   ],
   "source": [
    "redo()"
   ]
  },
  {
   "cell_type": "code",
   "execution_count": 69,
   "id": "e4383905f98107d6",
   "metadata": {
    "slideshow": {
     "slide_type": "subslide"
    },
    "tags": [
     "keep",
     "subslide"
    ]
   },
   "outputs": [
    {
     "name": "stdout",
     "output_type": "stream",
     "text": [
      "Document.modify()\n",
      "  document state before:  Document Template-123-123\n",
      "  document state after:   That's new? That's new!\n"
     ]
    }
   ],
   "source": [
    "SimpleCommand(\n",
    "    doc, lambda doc, text: doc.modify(f\"{text}? {text}!\"), \"That's new\"\n",
    ").execute()"
   ]
  },
  {
   "cell_type": "code",
   "execution_count": 70,
   "id": "80ad067d73572f84",
   "metadata": {
    "tags": [
     "keep"
    ]
   },
   "outputs": [],
   "source": [
    "redo()"
   ]
  },
  {
   "cell_type": "markdown",
   "id": "5bf1913f503e4c0c",
   "metadata": {
    "lang": "de",
    "slideshow": {
     "slide_type": "subslide"
    },
    "tags": [
     "subslide"
    ]
   },
   "source": [
    "\n",
    "## Workshop: Command Pattern\n",
    "\n",
    "### Szenario\n",
    "\n",
    "Banken bieten verschiedene Funktionalitäten an Geldautomaten an, wie\n",
    "Kontostand abfragen, Geld abheben, Geld einzahlen und Geld überweisen. In\n",
    "unserer Simulation konzentrieren wir uns auf die Einzahlungs- und\n",
    "Auszahlungsfunktionen. Wir wollen eine ATM-Software entwerfen, die nicht nur\n",
    "diese Transaktionen verarbeitet, sondern auch die letzte Transaktion\n",
    "rückgängig machen kann."
   ]
  },
  {
   "cell_type": "markdown",
   "id": "0d02b036e68db93b",
   "metadata": {
    "lang": "de",
    "slideshow": {
     "slide_type": "subslide"
    },
    "tags": [
     "subslide"
    ]
   },
   "source": [
    "\n",
    "### Ziel\n",
    "\n",
    "Ihre Aufgabe ist es, die ATM-Operationen mit dem Command Pattern zu\n",
    "implementieren, so dass die Funktionalität des Systems in der Zukunft leicht\n",
    "zu erweitern ist, und eine Undo-Funktion für die letzte Transaktion\n",
    "bereitzustellen."
   ]
  },
  {
   "cell_type": "markdown",
   "id": "2c8e8448a01af65d",
   "metadata": {
    "lang": "de",
    "slideshow": {
     "slide_type": "subslide"
    },
    "tags": [
     "subslide"
    ]
   },
   "source": [
    "### Starter Code"
   ]
  },
  {
   "cell_type": "code",
   "execution_count": 73,
   "id": "4bd02d49ed0de9a7",
   "metadata": {
    "tags": [
     "keep"
    ]
   },
   "outputs": [],
   "source": [
    "class Account:\n",
    "    def __init__(self, initial_balance):\n",
    "        self.balance = initial_balance\n",
    "\n",
    "    def deposit(self, amount):\n",
    "        self.balance += amount\n",
    "        print(f\"Deposited: ${amount}. New Balance: ${self.balance}\")\n",
    "\n",
    "    def withdraw(self, amount):\n",
    "        if amount <= self.balance:\n",
    "            self.balance -= amount\n",
    "            print(f\"Withdrew: ${amount}. New Balance: ${self.balance}\")\n",
    "        else:\n",
    "            print(f\"Insufficient funds. Current Balance: ${self.balance}\")\n",
    "\n",
    "    def get_balance(self):\n",
    "        return self.balance"
   ]
  },
  {
   "cell_type": "code",
   "execution_count": 75,
   "id": "e120eda2557e8e0b",
   "metadata": {
    "lang": "de",
    "slideshow": {
     "slide_type": "subslide"
    },
    "tags": [
     "subslide",
     "start"
    ]
   },
   "outputs": [],
   "source": [
    "class ATM:\n",
    "    def __init__(self, initial_balance):\n",
    "        self.account = Account(initial_balance)\n",
    "        self.last_command = None\n",
    "\n",
    "    def deposit(self, amount):\n",
    "        self.last_command = DepositCommand(self.account, amount)\n",
    "        self.last_command.execute()\n",
    "\n",
    "    def withdraw(self, amount):\n",
    "        self.last_command = WithdrawCommand(self.account, amount)\n",
    "        self.last_command.execute()\n",
    "\n",
    "    def undo_last_transaction(self):\n",
    "        if self.last_command:\n",
    "            self.last_command.undo()\n",
    "            self.last_command = (\n",
    "                None  # Ensure undo can only be called once for the last transaction\n",
    "            )\n",
    "        else:\n",
    "            print(\"No transaction to undo.\")"
   ]
  },
  {
   "cell_type": "code",
   "execution_count": 76,
   "id": "34c1001d",
   "metadata": {},
   "outputs": [],
   "source": [
    "from abc import ABC, abstractmethod  # noqa: E402\n",
    "\n",
    "\n",
    "class Command(ABC):\n",
    "    @abstractmethod\n",
    "    def execute(self):\n",
    "        pass\n",
    "\n",
    "    @abstractmethod\n",
    "    def undo(self):\n",
    "        pass\n",
    "\n",
    "class DepositCommand(Command):\n",
    "    def __init__(self, account, amount):\n",
    "        self.account = account\n",
    "        self.amount = amount\n",
    "\n",
    "    def execute(self):\n",
    "        self.account.deposit(self.amount)\n",
    "\n",
    "    def undo(self):\n",
    "        print(f\"Returning deposit of ${self.amount} to client.\")\n",
    "        self.account.withdraw(self.amount)  # Undo deposit by withdrawing\n",
    "\n",
    "\n",
    "class WithdrawCommand(Command):\n",
    "    def __init__(self, account, amount):\n",
    "        self.account = account\n",
    "        self.amount = amount\n",
    "\n",
    "    def execute(self):\n",
    "        self.account.withdraw(self.amount)\n",
    "\n",
    "    def undo(self):\n",
    "        print(f\"Asking client to return ${self.amount}.\")\n",
    "        self.account.deposit(self.amount)  # Undo withdrawal by depositing\n"
   ]
  },
  {
   "cell_type": "code",
   "execution_count": 77,
   "id": "e14856ce",
   "metadata": {},
   "outputs": [],
   "source": [
    "def run_atm():\n",
    "    atm = ATM(1000)\n",
    "    atm.deposit(100)\n",
    "    atm.withdraw(200)\n",
    "    atm.undo_last_transaction()\n",
    "    atm.undo_last_transaction()"
   ]
  },
  {
   "cell_type": "code",
   "execution_count": 78,
   "id": "9fdead1e",
   "metadata": {},
   "outputs": [
    {
     "name": "stdout",
     "output_type": "stream",
     "text": [
      "Deposited: $100. New Balance: $1100\n",
      "Withdrew: $200. New Balance: $900\n",
      "Asking client to return $200.\n",
      "Deposited: $200. New Balance: $1100\n",
      "No transaction to undo.\n"
     ]
    }
   ],
   "source": [
    "run_atm()"
   ]
  }
 ],
 "metadata": {
  "jupytext": {
   "cell_metadata_filter": "lang,tags,-all",
   "main_language": "python",
   "notebook_metadata_filter": "-all"
  },
  "kernelspec": {
   "display_name": "cam-basic",
   "language": "python",
   "name": "python3"
  },
  "language_info": {
   "codemirror_mode": {
    "name": "ipython",
    "version": 3
   },
   "file_extension": ".py",
   "mimetype": "text/x-python",
   "name": "python",
   "nbconvert_exporter": "python",
   "pygments_lexer": "ipython3",
   "version": "3.12.8"
  }
 },
 "nbformat": 4,
 "nbformat_minor": 5
}
