{
 "cells": [
  {
   "cell_type": "code",
   "execution_count": null,
   "id": "6b4e03423667dbb7",
   "metadata": {
    "lines_to_next_cell": 0
   },
   "outputs": [],
   "source": []
  },
  {
   "cell_type": "markdown",
   "id": "fd3f3df785971cf4",
   "metadata": {
    "lang": "de",
    "slideshow": {
     "slide_type": "slide"
    },
    "tags": [
     "slide"
    ]
   },
   "source": [
    "\n",
    "<img src=\"data:image/svg+xml;base64,PHN2ZyB4bWxucz0iaHR0cDovL3d3dy53My5vcmcvMjAwMC9zdmciIHhtbG5zOnhsaW5rPSJodHRw\n",
    "Oi8vd3d3LnczLm9yZy8xOTk5L3hsaW5rIiB3aWR0aD0iMTExLjE2MSIgaGVpZ2h0PSIxMzQuNjY4\n",
    "IiB2ZXJzaW9uPSIxLjAiPjxkZWZzPjxsaW5lYXJHcmFkaWVudCBpZD0iYyI+PHN0b3Agb2Zmc2V0\n",
    "PSIwIiBzdHlsZT0ic3RvcC1jb2xvcjojYjhiOGI4O3N0b3Atb3BhY2l0eTouNDk4MDM5MjIiLz48\n",
    "c3RvcCBvZmZzZXQ9IjEiIHN0eWxlPSJzdG9wLWNvbG9yOiM3ZjdmN2Y7c3RvcC1vcGFjaXR5OjAi\n",
    "Lz48L2xpbmVhckdyYWRpZW50PjxsaW5lYXJHcmFkaWVudCBpZD0iYSI+PHN0b3Agb2Zmc2V0PSIw\n",
    "IiBzdHlsZT0ic3RvcC1jb2xvcjojZmZkNDNiO3N0b3Atb3BhY2l0eToxIi8+PHN0b3Agb2Zmc2V0\n",
    "PSIxIiBzdHlsZT0ic3RvcC1jb2xvcjojZmZlODczO3N0b3Atb3BhY2l0eToxIi8+PC9saW5lYXJH\n",
    "cmFkaWVudD48bGluZWFyR3JhZGllbnQgaWQ9ImIiPjxzdG9wIG9mZnNldD0iMCIgc3R5bGU9InN0\n",
    "b3AtY29sb3I6IzVhOWZkNDtzdG9wLW9wYWNpdHk6MSIvPjxzdG9wIG9mZnNldD0iMSIgc3R5bGU9\n",
    "InN0b3AtY29sb3I6IzMwNjk5ODtzdG9wLW9wYWNpdHk6MSIvPjwvbGluZWFyR3JhZGllbnQ+PGxp\n",
    "bmVhckdyYWRpZW50IHhsaW5rOmhyZWY9IiNhIiBpZD0iZSIgeDE9IjE1MC45NjEiIHgyPSIxMTIu\n",
    "MDMxIiB5MT0iMTkyLjM1MiIgeTI9IjEzNy4yNzMiIGdyYWRpZW50VHJhbnNmb3JtPSJtYXRyaXgo\n",
    "LjU2MjU0IDAgMCAuNTY3OTcgLTE0Ljk5MSAtMTEuNzAyKSIgZ3JhZGllbnRVbml0cz0idXNlclNw\n",
    "YWNlT25Vc2UiLz48bGluZWFyR3JhZGllbnQgeGxpbms6aHJlZj0iI2IiIGlkPSJkIiB4MT0iMjYu\n",
    "NjQ5IiB4Mj0iMTM1LjY2NSIgeTE9IjIwLjYwNCIgeTI9IjExNC4zOTgiIGdyYWRpZW50VHJhbnNm\n",
    "b3JtPSJtYXRyaXgoLjU2MjU0IDAgMCAuNTY3OTcgLTE0Ljk5MSAtMTEuNzAyKSIgZ3JhZGllbnRV\n",
    "bml0cz0idXNlclNwYWNlT25Vc2UiLz48cmFkaWFsR3JhZGllbnQgeGxpbms6aHJlZj0iI2MiIGlk\n",
    "PSJmIiBjeD0iNjEuNTE5IiBjeT0iMTMyLjI4NiIgcj0iMjkuMDM3IiBmeD0iNjEuNTE5IiBmeT0i\n",
    "MTMyLjI4NiIgZ3JhZGllbnRUcmFuc2Zvcm09Im1hdHJpeCgwIC0uMjM5OTUgMS4wNTQ2NyAwIC04\n",
    "My43IDE0Mi40NjIpIiBncmFkaWVudFVuaXRzPSJ1c2VyU3BhY2VPblVzZSIvPjwvZGVmcz48cGF0\n",
    "aCBkPSJNNTQuOTE5IDBjLTQuNTg0LjAyMi04Ljk2MS40MTMtMTIuODEzIDEuMDk1QzMwLjc2IDMu\n",
    "MDk5IDI4LjcgNy4yOTUgMjguNyAxNS4wMzJ2MTAuMjE5aDI2LjgxM3YzLjQwNkgxOC42MzhjLTcu\n",
    "NzkzIDAtMTQuNjE2IDQuNjg0LTE2Ljc1IDEzLjU5NC0yLjQ2MiAxMC4yMTMtMi41NzEgMTYuNTg2\n",
    "IDAgMjcuMjUgMS45MDUgNy45MzggNi40NTcgMTMuNTk0IDE0LjI1IDEzLjU5NGg5LjIxOHYtMTIu\n",
    "MjVjMC04Ljg1IDcuNjU3LTE2LjY1NyAxNi43NS0xNi42NTdoMjYuNzgyYzcuNDU0IDAgMTMuNDA2\n",
    "LTYuMTM4IDEzLjQwNi0xMy42MjV2LTI1LjUzYzAtNy4yNjctNi4xMy0xMi43MjYtMTMuNDA2LTEz\n",
    "LjkzOEM2NC4yODIuMzI4IDU5LjUwMi0uMDIgNTQuOTE4IDBtLTE0LjUgOC4yMmMyLjc3IDAgNS4w\n",
    "MzEgMi4yOTggNS4wMzEgNS4xMjUgMCAyLjgxNi0yLjI2MiA1LjA5My01LjAzMSA1LjA5My0yLjc4\n",
    "IDAtNS4wMzEtMi4yNzctNS4wMzEtNS4wOTMgMC0yLjgyNyAyLjI1MS01LjEyNSA1LjAzLTUuMTI1\n",
    "IiBzdHlsZT0iZmlsbDp1cmwoI2QpO2ZpbGwtb3BhY2l0eToxIi8+PHBhdGggZD0iTTg1LjYzOCAy\n",
    "OC42NTd2MTEuOTA2YzAgOS4yMzEtNy44MjYgMTctMTYuNzUgMTdINDIuMTA2Yy03LjMzNiAwLTEz\n",
    "LjQwNiA2LjI3OS0xMy40MDYgMTMuNjI1Vjk2LjcyYzAgNy4yNjYgNi4zMTkgMTEuNTQgMTMuNDA2\n",
    "IDEzLjYyNSA4LjQ4OCAyLjQ5NSAxNi42MjcgMi45NDYgMjYuNzgyIDAgNi43NS0xLjk1NSAxMy40\n",
    "MDYtNS44ODggMTMuNDA2LTEzLjYyNVY4Ni41SDU1LjUxM3YtMy40MDVIOTUuN2M3Ljc5MyAwIDEw\n",
    "LjY5Ni01LjQzNiAxMy40MDYtMTMuNTk0IDIuOC04LjM5OSAyLjY4LTE2LjQ3NiAwLTI3LjI1LTEu\n",
    "OTI1LTcuNzU4LTUuNjA0LTEzLjU5NC0xMy40MDYtMTMuNTk0ek03MC41NzUgOTMuMzEzYzIuNzgg\n",
    "MCA1LjAzMSAyLjI3OCA1LjAzMSA1LjA5NCAwIDIuODI3LTIuMjUxIDUuMTI1LTUuMDMxIDUuMTI1\n",
    "LTIuNzcgMC01LjAzMS0yLjI5OC01LjAzMS01LjEyNSAwLTIuODE2IDIuMjYxLTUuMDk0IDUuMDMx\n",
    "LTUuMDk0IiBzdHlsZT0iZmlsbDp1cmwoI2UpO2ZpbGwtb3BhY2l0eToxIi8+PGVsbGlwc2UgY3g9\n",
    "IjU1LjgxNyIgY3k9IjEyNy43MDEiIHJ4PSIzNS45MzEiIHJ5PSI2Ljk2NyIgc3R5bGU9Im9wYWNp\n",
    "dHk6LjQ0MzgyO2ZpbGw6dXJsKCNmKTtmaWxsLW9wYWNpdHk6MTtmaWxsLXJ1bGU6bm9uemVybztz\n",
    "dHJva2U6bm9uZTtzdHJva2Utd2lkdGg6MTUuNDE3NDtzdHJva2UtbWl0ZXJsaW1pdDo0O3N0cm9r\n",
    "ZS1kYXNoYXJyYXk6bm9uZTtzdHJva2Utb3BhY2l0eToxIi8+PC9zdmc+\n",
    "\"\n",
    "     style=\"display:block;margin:auto;width:10%\" alt=\"Python Logo\"/>\n",
    "<br>\n",
    "\n",
    "<div style=\"text-align:center; font-size:200%;\">\n",
    " <b>Adventure: Spieler</b>\n",
    "</div>\n",
    "<br/>\n",
    "<div style=\"text-align:center;\">Dr. Matthias Hölzl</div>\n",
    "<br/>"
   ]
  },
  {
   "cell_type": "markdown",
   "id": "78251fcc030d31db",
   "metadata": {
    "lang": "de",
    "slideshow": {
     "slide_type": "subslide"
    },
    "tags": [
     "subslide"
    ]
   },
   "source": [
    "\n",
    "## Version 3c: Command Pattern\n",
    "\n",
    "<img src=\"img/adventure-v3c-overview.svg\" alt=\"Adventure Version 3c\"\n",
    "     style=\"display:block;margin:auto;height:80%\"/>"
   ]
  },
  {
   "cell_type": "code",
   "execution_count": 3,
   "id": "1a0c494d48cfc493",
   "metadata": {
    "slideshow": {
     "slide_type": "subslide"
    },
    "tags": [
     "keep",
     "subslide"
    ]
   },
   "outputs": [],
   "source": [
    "from abc import ABC, abstractmethod\n",
    "from dataclasses import dataclass, field\n",
    "from random import choice\n",
    "from typing import Any"
   ]
  },
  {
   "cell_type": "code",
   "execution_count": 4,
   "id": "0c720658369a8775",
   "metadata": {
    "tags": [
     "keep"
    ]
   },
   "outputs": [],
   "source": [
    "from action_v4 import Action, MoveAction\n",
    "from location_v4 import Location\n",
    "from simple_locations import simple_locations\n",
    "from world_factory_v4 import WorldFactory"
   ]
  },
  {
   "cell_type": "code",
   "execution_count": 5,
   "id": "adfe719371c31343",
   "metadata": {
    "lines_to_next_cell": 2,
    "slideshow": {
     "slide_type": "subslide"
    },
    "tags": [
     "keep",
     "subslide"
    ]
   },
   "outputs": [],
   "source": [
    "@dataclass\n",
    "class Pawn:\n",
    "    name: str\n",
    "    location: Location\n",
    "\n",
    "    def perform(self, action: Action):\n",
    "        action.perform(self)"
   ]
  },
  {
   "cell_type": "code",
   "execution_count": 6,
   "id": "4f762d09540c2936",
   "metadata": {
    "slideshow": {
     "slide_type": "subslide"
    },
    "tags": [
     "keep",
     "subslide"
    ]
   },
   "outputs": [],
   "source": [
    "world_factory = WorldFactory()\n",
    "world = world_factory.create(simple_locations)"
   ]
  },
  {
   "cell_type": "code",
   "execution_count": 7,
   "id": "e410c2dcc35d98e3",
   "metadata": {
    "tags": [
     "keep"
    ]
   },
   "outputs": [
    {
     "name": "stdout",
     "output_type": "stream",
     "text": [
      "Pawn(name='Alice', location=Location(name='Room 1', description='A small room', connections={'north': Location(name='Room 2', description='A large room', connections={'south': ...})}))\n"
     ]
    }
   ],
   "source": [
    "pawn = Pawn(\"Alice\", world.locations[\"Room 1\"])\n",
    "print(pawn)"
   ]
  },
  {
   "cell_type": "code",
   "execution_count": 8,
   "id": "c5dfa0b96da85e59",
   "metadata": {
    "lines_to_next_cell": 2,
    "tags": [
     "keep"
    ]
   },
   "outputs": [
    {
     "name": "stdout",
     "output_type": "stream",
     "text": [
      "Pawn(name='Alice', location=Location(name='Room 2', description='A large room', connections={'south': Location(name='Room 1', description='A small room', connections={'north': ...})}))\n"
     ]
    }
   ],
   "source": [
    "action = MoveAction(\"north\", world.locations[\"Room 2\"])\n",
    "pawn.perform(action)\n",
    "print(pawn)"
   ]
  },
  {
   "cell_type": "markdown",
   "id": "0162a25117983491",
   "metadata": {
    "lang": "de",
    "slideshow": {
     "slide_type": "subslide"
    },
    "tags": [
     "subslide"
    ]
   },
   "source": [
    "\n",
    "- Sowohl menschliche als auch computergesteuerte Spieler\n",
    "- Dazu notwendig:\n",
    "  - Generieren aller möglichen Aktionen (situationsabhängig)\n",
    "  - Auswählen einer Aktion\n",
    "  - Ausführen der Aktion\n",
    "- Wer soll diese Verantwortlichkeiten übernehmen?"
   ]
  },
  {
   "cell_type": "markdown",
   "id": "03145cce81cc182d",
   "metadata": {
    "lang": "de",
    "slideshow": {
     "slide_type": "subslide"
    },
    "tags": [
     "subslide"
    ]
   },
   "source": [
    "\n",
    "- Informationsexperte:\n",
    "  - Im Moment kennt niemand alle Aktionen, die möglich sind\n",
    "  - `Pawn` weiß, wo er sich befindet\n",
    "  - `Pawn` enthält wahrscheinlich die meisten benötigten Informationen für\n",
    "    weitere Aktionen\n",
    "- Sollen wir die Verantwortung an `Pawn` übergeben?"
   ]
  },
  {
   "cell_type": "markdown",
   "id": "bf6938bdd33da531",
   "metadata": {
    "lang": "de",
    "slideshow": {
     "slide_type": "subslide"
    },
    "tags": [
     "subslide"
    ]
   },
   "source": [
    "\n",
    "### Gegenargumente\n",
    "\n",
    "- Damit bekommt `Pawn` potenziell zu viele Verantwortlichkeiten\n",
    "  - Bewegung auf dem Spielfeld\n",
    "  - Darstellung der Grafik\n",
    "  - Strategie für computergesteuerte Spieler\n",
    "  - Interaktion mit menschlichem Benutzer\n",
    "- Niedrige Repräsentationslücke?"
   ]
  },
  {
   "cell_type": "markdown",
   "id": "ab22285715717ab8",
   "metadata": {
    "lang": "de",
    "slideshow": {
     "slide_type": "subslide"
    },
    "tags": [
     "subslide"
    ]
   },
   "source": [
    "\n",
    "### Domänenmodell"
   ]
  },
  {
   "cell_type": "markdown",
   "id": "4ad6721614ebe9b8",
   "metadata": {},
   "source": [
    "<img src=\"img/adv-domain-03.svg\"\n",
    "     style=\"display:block;margin:auto;width:50%\"/>"
   ]
  },
  {
   "cell_type": "markdown",
   "id": "379f03a716da7c53",
   "metadata": {
    "lang": "de",
    "slideshow": {
     "slide_type": "subslide"
    },
    "tags": [
     "subslide"
    ]
   },
   "source": [
    "\n",
    "- `Player` ist für die Strategie zuständig\n",
    "- Wir sollten eine `Player`-Klasse einführen und ihr die Verantwortung\n",
    "  für die neuen Aufgaben übergeben"
   ]
  },
  {
   "cell_type": "markdown",
   "id": "5fa7a449334f0155",
   "metadata": {
    "lang": "de",
    "slideshow": {
     "slide_type": "subslide"
    },
    "tags": [
     "subslide"
    ]
   },
   "source": [
    "\n",
    "## Version 4a: `Player`-Klasse\n",
    "\n",
    "<img src=\"img/adventure-v4a.svg\" alt=\"Adventure Version 4a\"\n",
    "     style=\"display:block;margin:auto;height:80%\"/>"
   ]
  },
  {
   "cell_type": "code",
   "execution_count": 9,
   "id": "703f7744eb37026e",
   "metadata": {
    "slideshow": {
     "slide_type": "subslide"
    },
    "tags": [
     "start",
     "subslide"
    ]
   },
   "outputs": [],
   "source": [
    "@dataclass\n",
    "class Location:\n",
    "    name: str\n",
    "    description: str = \"\"\n",
    "    connections: dict[str, \"Location\"] = field(default_factory=dict)\n",
    "\n",
    "    @classmethod\n",
    "    def from_description(cls, data: dict[str, Any]) -> \"Location\":\n",
    "        return cls(data[\"name\"], data.get(\"description\", \"\"))\n",
    "\n",
    "    def __getitem__(self, direction: str) -> \"Location | None\":\n",
    "        return self.connections.get(direction)\n",
    "    \n",
    "    @property\n",
    "    def move_actions(self) -> list[Action]:\n",
    "        return [\n",
    "            MoveAction(direction, location)\n",
    "            for direction, location in self.connections.items()\n",
    "        ]\n"
   ]
  },
  {
   "cell_type": "code",
   "execution_count": null,
   "id": "4119f04245d76590",
   "metadata": {
    "slideshow": {
     "slide_type": "subslide"
    },
    "tags": [
     "start",
     "subslide"
    ]
   },
   "outputs": [],
   "source": [
    "@dataclass\n",
    "class Pawn:\n",
    "    name: str\n",
    "    location: Location\n",
    "\n",
    "    @property\n",
    "    def actions(self):\n",
    "        return self.location.move_actions"
   ]
  },
  {
   "cell_type": "code",
   "execution_count": null,
   "id": "d67e6ed2b0689cf1",
   "metadata": {
    "slideshow": {
     "slide_type": "subslide"
    },
    "tags": [
     "start",
     "subslide"
    ]
   },
   "outputs": [],
   "source": [
    "class Action(ABC):  # noqa\n",
    "    @property\n",
    "    @abstractmethod\n",
    "    def description(self) -> str: ...\n",
    "\n",
    "    @abstractmethod\n",
    "    def perform(self, instigator: \"Player\") -> None: ..."
   ]
  },
  {
   "cell_type": "code",
   "execution_count": null,
   "id": "2aabad453c47f024",
   "metadata": {
    "slideshow": {
     "slide_type": "subslide"
    },
    "tags": [
     "start",
     "subslide"
    ]
   },
   "outputs": [],
   "source": [
    "@dataclass\n",
    "class MoveAction(Action):\n",
    "    direction: str\n",
    "    target: Location\n",
    "\n",
    "    @property\n",
    "    def description(self) -> str:\n",
    "        return f\"move {self.direction} to {self.target.name}\"\n",
    "\n",
    "    def perform(self, instigator: \"Pawn\") -> None:\n",
    "        instigator.location = self.target"
   ]
  },
  {
   "cell_type": "code",
   "execution_count": null,
   "id": "f9268fcdc3a11762",
   "metadata": {
    "slideshow": {
     "slide_type": "subslide"
    },
    "tags": [
     "start",
     "subslide"
    ]
   },
   "outputs": [],
   "source": [
    "@dataclass\n",
    "class SkipTurnAction(Action):\n",
    "    @property\n",
    "    def description(self) -> str:\n",
    "        return \"wait one turn\"\n",
    "\n",
    "    def perform(self, instigator: \"Pawn\") -> None:\n",
    "        # Do nothing...\n",
    "        pass"
   ]
  },
  {
   "cell_type": "code",
   "execution_count": null,
   "id": "5321e1ec7b6f44be",
   "metadata": {
    "lines_to_next_cell": 2,
    "slideshow": {
     "slide_type": "subslide"
    },
    "tags": [
     "subslide"
    ]
   },
   "outputs": [],
   "source": []
  },
  {
   "cell_type": "code",
   "execution_count": null,
   "id": "890140e6321719a8",
   "metadata": {
    "slideshow": {
     "slide_type": "subslide"
    },
    "tags": [
     "keep",
     "subslide"
    ]
   },
   "outputs": [],
   "source": [
    "world_factory = WorldFactory()\n",
    "world = world_factory.create(simple_locations)"
   ]
  },
  {
   "cell_type": "code",
   "execution_count": null,
   "id": "029cda0960f16d4e",
   "metadata": {
    "tags": [
     "keep"
    ]
   },
   "outputs": [],
   "source": [
    "pawn = Pawn(\"Alice\", world.locations[\"Room 1\"])\n",
    "print(pawn)"
   ]
  },
  {
   "cell_type": "code",
   "execution_count": null,
   "id": "469625a8af351df2",
   "metadata": {
    "tags": [
     "keep"
    ]
   },
   "outputs": [],
   "source": [
    "player = Player(\"Alice\", pawn)\n",
    "print(player)"
   ]
  },
  {
   "cell_type": "code",
   "execution_count": null,
   "id": "8fdb91f1a5060072",
   "metadata": {
    "tags": [
     "keep"
    ]
   },
   "outputs": [],
   "source": [
    "player.take_turn()\n",
    "print(player)"
   ]
  },
  {
   "cell_type": "code",
   "execution_count": null,
   "id": "a146d66db467bdce",
   "metadata": {
    "slideshow": {
     "slide_type": "subslide"
    },
    "tags": [
     "keep",
     "subslide"
    ]
   },
   "outputs": [],
   "source": [
    "for _ in range(10):\n",
    "    player.take_turn()"
   ]
  }
 ],
 "metadata": {
  "jupytext": {
   "cell_metadata_filter": "lang,tags,-all",
   "main_language": "python",
   "notebook_metadata_filter": "-all"
  },
  "kernelspec": {
   "display_name": "cam-basic",
   "language": "python",
   "name": "python3"
  },
  "language_info": {
   "codemirror_mode": {
    "name": "ipython",
    "version": 3
   },
   "file_extension": ".py",
   "mimetype": "text/x-python",
   "name": "python",
   "nbconvert_exporter": "python",
   "pygments_lexer": "ipython3",
   "version": "3.12.8"
  }
 },
 "nbformat": 4,
 "nbformat_minor": 5
}
