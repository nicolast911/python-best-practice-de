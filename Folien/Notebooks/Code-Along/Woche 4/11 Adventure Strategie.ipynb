{
 "cells": [
  {
   "cell_type": "code",
   "execution_count": null,
   "id": "6b4e03423667dbb7",
   "metadata": {
    "lines_to_next_cell": 0
   },
   "outputs": [],
   "source": []
  },
  {
   "cell_type": "markdown",
   "id": "80406421e3cddb21",
   "metadata": {
    "lang": "de",
    "slideshow": {
     "slide_type": "slide"
    },
    "tags": [
     "slide"
    ]
   },
   "source": [
    "\n",
    "<img src=\"data:image/svg+xml;base64,PHN2ZyB4bWxucz0iaHR0cDovL3d3dy53My5vcmcvMjAwMC9zdmciIHhtbG5zOnhsaW5rPSJodHRw\n",
    "Oi8vd3d3LnczLm9yZy8xOTk5L3hsaW5rIiB3aWR0aD0iMTExLjE2MSIgaGVpZ2h0PSIxMzQuNjY4\n",
    "IiB2ZXJzaW9uPSIxLjAiPjxkZWZzPjxsaW5lYXJHcmFkaWVudCBpZD0iYyI+PHN0b3Agb2Zmc2V0\n",
    "PSIwIiBzdHlsZT0ic3RvcC1jb2xvcjojYjhiOGI4O3N0b3Atb3BhY2l0eTouNDk4MDM5MjIiLz48\n",
    "c3RvcCBvZmZzZXQ9IjEiIHN0eWxlPSJzdG9wLWNvbG9yOiM3ZjdmN2Y7c3RvcC1vcGFjaXR5OjAi\n",
    "Lz48L2xpbmVhckdyYWRpZW50PjxsaW5lYXJHcmFkaWVudCBpZD0iYSI+PHN0b3Agb2Zmc2V0PSIw\n",
    "IiBzdHlsZT0ic3RvcC1jb2xvcjojZmZkNDNiO3N0b3Atb3BhY2l0eToxIi8+PHN0b3Agb2Zmc2V0\n",
    "PSIxIiBzdHlsZT0ic3RvcC1jb2xvcjojZmZlODczO3N0b3Atb3BhY2l0eToxIi8+PC9saW5lYXJH\n",
    "cmFkaWVudD48bGluZWFyR3JhZGllbnQgaWQ9ImIiPjxzdG9wIG9mZnNldD0iMCIgc3R5bGU9InN0\n",
    "b3AtY29sb3I6IzVhOWZkNDtzdG9wLW9wYWNpdHk6MSIvPjxzdG9wIG9mZnNldD0iMSIgc3R5bGU9\n",
    "InN0b3AtY29sb3I6IzMwNjk5ODtzdG9wLW9wYWNpdHk6MSIvPjwvbGluZWFyR3JhZGllbnQ+PGxp\n",
    "bmVhckdyYWRpZW50IHhsaW5rOmhyZWY9IiNhIiBpZD0iZSIgeDE9IjE1MC45NjEiIHgyPSIxMTIu\n",
    "MDMxIiB5MT0iMTkyLjM1MiIgeTI9IjEzNy4yNzMiIGdyYWRpZW50VHJhbnNmb3JtPSJtYXRyaXgo\n",
    "LjU2MjU0IDAgMCAuNTY3OTcgLTE0Ljk5MSAtMTEuNzAyKSIgZ3JhZGllbnRVbml0cz0idXNlclNw\n",
    "YWNlT25Vc2UiLz48bGluZWFyR3JhZGllbnQgeGxpbms6aHJlZj0iI2IiIGlkPSJkIiB4MT0iMjYu\n",
    "NjQ5IiB4Mj0iMTM1LjY2NSIgeTE9IjIwLjYwNCIgeTI9IjExNC4zOTgiIGdyYWRpZW50VHJhbnNm\n",
    "b3JtPSJtYXRyaXgoLjU2MjU0IDAgMCAuNTY3OTcgLTE0Ljk5MSAtMTEuNzAyKSIgZ3JhZGllbnRV\n",
    "bml0cz0idXNlclNwYWNlT25Vc2UiLz48cmFkaWFsR3JhZGllbnQgeGxpbms6aHJlZj0iI2MiIGlk\n",
    "PSJmIiBjeD0iNjEuNTE5IiBjeT0iMTMyLjI4NiIgcj0iMjkuMDM3IiBmeD0iNjEuNTE5IiBmeT0i\n",
    "MTMyLjI4NiIgZ3JhZGllbnRUcmFuc2Zvcm09Im1hdHJpeCgwIC0uMjM5OTUgMS4wNTQ2NyAwIC04\n",
    "My43IDE0Mi40NjIpIiBncmFkaWVudFVuaXRzPSJ1c2VyU3BhY2VPblVzZSIvPjwvZGVmcz48cGF0\n",
    "aCBkPSJNNTQuOTE5IDBjLTQuNTg0LjAyMi04Ljk2MS40MTMtMTIuODEzIDEuMDk1QzMwLjc2IDMu\n",
    "MDk5IDI4LjcgNy4yOTUgMjguNyAxNS4wMzJ2MTAuMjE5aDI2LjgxM3YzLjQwNkgxOC42MzhjLTcu\n",
    "NzkzIDAtMTQuNjE2IDQuNjg0LTE2Ljc1IDEzLjU5NC0yLjQ2MiAxMC4yMTMtMi41NzEgMTYuNTg2\n",
    "IDAgMjcuMjUgMS45MDUgNy45MzggNi40NTcgMTMuNTk0IDE0LjI1IDEzLjU5NGg5LjIxOHYtMTIu\n",
    "MjVjMC04Ljg1IDcuNjU3LTE2LjY1NyAxNi43NS0xNi42NTdoMjYuNzgyYzcuNDU0IDAgMTMuNDA2\n",
    "LTYuMTM4IDEzLjQwNi0xMy42MjV2LTI1LjUzYzAtNy4yNjctNi4xMy0xMi43MjYtMTMuNDA2LTEz\n",
    "LjkzOEM2NC4yODIuMzI4IDU5LjUwMi0uMDIgNTQuOTE4IDBtLTE0LjUgOC4yMmMyLjc3IDAgNS4w\n",
    "MzEgMi4yOTggNS4wMzEgNS4xMjUgMCAyLjgxNi0yLjI2MiA1LjA5My01LjAzMSA1LjA5My0yLjc4\n",
    "IDAtNS4wMzEtMi4yNzctNS4wMzEtNS4wOTMgMC0yLjgyNyAyLjI1MS01LjEyNSA1LjAzLTUuMTI1\n",
    "IiBzdHlsZT0iZmlsbDp1cmwoI2QpO2ZpbGwtb3BhY2l0eToxIi8+PHBhdGggZD0iTTg1LjYzOCAy\n",
    "OC42NTd2MTEuOTA2YzAgOS4yMzEtNy44MjYgMTctMTYuNzUgMTdINDIuMTA2Yy03LjMzNiAwLTEz\n",
    "LjQwNiA2LjI3OS0xMy40MDYgMTMuNjI1Vjk2LjcyYzAgNy4yNjYgNi4zMTkgMTEuNTQgMTMuNDA2\n",
    "IDEzLjYyNSA4LjQ4OCAyLjQ5NSAxNi42MjcgMi45NDYgMjYuNzgyIDAgNi43NS0xLjk1NSAxMy40\n",
    "MDYtNS44ODggMTMuNDA2LTEzLjYyNVY4Ni41SDU1LjUxM3YtMy40MDVIOTUuN2M3Ljc5MyAwIDEw\n",
    "LjY5Ni01LjQzNiAxMy40MDYtMTMuNTk0IDIuOC04LjM5OSAyLjY4LTE2LjQ3NiAwLTI3LjI1LTEu\n",
    "OTI1LTcuNzU4LTUuNjA0LTEzLjU5NC0xMy40MDYtMTMuNTk0ek03MC41NzUgOTMuMzEzYzIuNzgg\n",
    "MCA1LjAzMSAyLjI3OCA1LjAzMSA1LjA5NCAwIDIuODI3LTIuMjUxIDUuMTI1LTUuMDMxIDUuMTI1\n",
    "LTIuNzcgMC01LjAzMS0yLjI5OC01LjAzMS01LjEyNSAwLTIuODE2IDIuMjYxLTUuMDk0IDUuMDMx\n",
    "LTUuMDk0IiBzdHlsZT0iZmlsbDp1cmwoI2UpO2ZpbGwtb3BhY2l0eToxIi8+PGVsbGlwc2UgY3g9\n",
    "IjU1LjgxNyIgY3k9IjEyNy43MDEiIHJ4PSIzNS45MzEiIHJ5PSI2Ljk2NyIgc3R5bGU9Im9wYWNp\n",
    "dHk6LjQ0MzgyO2ZpbGw6dXJsKCNmKTtmaWxsLW9wYWNpdHk6MTtmaWxsLXJ1bGU6bm9uemVybztz\n",
    "dHJva2U6bm9uZTtzdHJva2Utd2lkdGg6MTUuNDE3NDtzdHJva2UtbWl0ZXJsaW1pdDo0O3N0cm9r\n",
    "ZS1kYXNoYXJyYXk6bm9uZTtzdHJva2Utb3BhY2l0eToxIi8+PC9zdmc+\n",
    "\"\n",
    "     style=\"display:block;margin:auto;width:10%\" alt=\"Python Logo\"/>\n",
    "<br>\n",
    "\n",
    "<div style=\"text-align:center; font-size:200%;\">\n",
    " <b>Adventure: Strategie</b>\n",
    "</div>\n",
    "<br/>\n",
    "<div style=\"text-align:center;\">Dr. Matthias Hölzl</div>\n",
    "<br/>"
   ]
  },
  {
   "cell_type": "markdown",
   "id": "5fa7a449334f0155",
   "metadata": {
    "lang": "de",
    "slideshow": {
     "slide_type": "subslide"
    },
    "tags": [
     "subslide"
    ]
   },
   "source": [
    "\n",
    "## Version 4a: `Player`-Klasse\n",
    "\n",
    "<img src=\"img/adventure-v4a.svg\" alt=\"Adventure Version 4a\"\n",
    "     style=\"display:block;margin:auto;height:80%\"/>"
   ]
  },
  {
   "cell_type": "markdown",
   "id": "2275c8d5259123da",
   "metadata": {
    "lang": "de",
    "slideshow": {
     "slide_type": "subslide"
    },
    "tags": [
     "subslide"
    ]
   },
   "source": [
    "\n",
    "- `Player`-Klasse ist für die Strategie zuständig\n",
    "- Im Moment nur eine fest verdrahtete Strategie:\n",
    "  - Spieler nimmt immer zufälligen Eintrag in der Liste der Aktionen\n",
    "- Wir wollen mehrere Strategien unterstützen\n",
    "- Mit einer \"interaktiven\" Strategie wollen wir den menschlichen Spieler\n",
    "  einbinden\n",
    "- Versuchen wir eine Enumeration aller möglichen Strategien"
   ]
  },
  {
   "cell_type": "markdown",
   "id": "19f0d180e24ec05c",
   "metadata": {
    "lang": "de",
    "slideshow": {
     "slide_type": "subslide"
    },
    "tags": [
     "subslide"
    ]
   },
   "source": [
    "\n",
    "## Version 4b: Mehrere Strategien\n",
    "\n",
    "<img src=\"img/adventure-v4b.svg\" alt=\"Adventure Version 4b\"\n",
    "     style=\"display:block;margin:auto;height:60%\"/>"
   ]
  },
  {
   "cell_type": "markdown",
   "id": "27448cb308ea7856",
   "metadata": {
    "lang": "de",
    "slideshow": {
     "slide_type": "subslide"
    },
    "tags": [
     "subslide"
    ]
   },
   "source": [
    "\n",
    "- Das Klassendiagramm sieht nicht so schlecht aus\n",
    "- Implementierung ist unübersichtlich\n",
    "- Open-Closed Prinzip ist verletzt\n",
    "- Besser: Strategie Pattern"
   ]
  },
  {
   "cell_type": "markdown",
   "id": "b49d8439095a8d12",
   "metadata": {
    "lang": "de",
    "slideshow": {
     "slide_type": "subslide"
    },
    "tags": [
     "subslide"
    ]
   },
   "source": [
    "\n",
    "## Version 4c: Strategy Pattern\n",
    "\n",
    "<img src=\"img/adventure-v4c.svg\" alt=\"Adventure Version 4c\"\n",
    "     style=\"display:block;margin:auto;height:60%\"/>"
   ]
  },
  {
   "cell_type": "markdown",
   "id": "c1bf9e2357ed68e6",
   "metadata": {
    "lang": "de",
    "slideshow": {
     "slide_type": "subslide"
    },
    "tags": [
     "subslide"
    ]
   },
   "source": [
    "\n",
    "## Version 4d: Vereinfachung mit First-Class-Funktionen\n",
    "\n",
    "<img src=\"img/adventure-v4d.svg\" alt=\"Adventure Version 4d\"\n",
    "     style=\"display:block;margin:auto;height:60%\"/>"
   ]
  },
  {
   "cell_type": "code",
   "execution_count": 3,
   "id": "a8467b12a915d05f",
   "metadata": {
    "slideshow": {
     "slide_type": "subslide"
    },
    "tags": [
     "keep",
     "subslide"
    ]
   },
   "outputs": [],
   "source": [
    "from dataclasses import dataclass\n",
    "from random import choice\n",
    "from typing import Callable"
   ]
  },
  {
   "cell_type": "code",
   "execution_count": 4,
   "id": "6faa594b72cda206",
   "metadata": {
    "tags": [
     "keep"
    ]
   },
   "outputs": [],
   "source": [
    "from action_v4 import Action, SkipTurnAction\n",
    "from location_v4 import Location\n",
    "from pawn_v4 import Pawn\n",
    "from simple_locations import simple_locations\n",
    "from world_factory_v4 import WorldFactory"
   ]
  },
  {
   "cell_type": "code",
   "execution_count": 5,
   "id": "9443a93863ea22a5",
   "metadata": {
    "slideshow": {
     "slide_type": "subslide"
    },
    "tags": [
     "subslide"
    ]
   },
   "outputs": [],
   "source": [
    "def random_action_strategy(player: \"Player\") -> \"Action\":\n",
    "    actions = player.actions\n",
    "    if actions:\n",
    "        return choice(actions)\n",
    "    else:\n",
    "        return SkipTurnAction()"
   ]
  },
  {
   "cell_type": "code",
   "execution_count": 6,
   "id": "9f730df5196ee8d8",
   "metadata": {
    "slideshow": {
     "slide_type": "subslide"
    },
    "tags": [
     "start",
     "subslide"
    ]
   },
   "outputs": [],
   "source": [
    "@dataclass\n",
    "class Player:\n",
    "    name: str\n",
    "    pawn: Pawn\n",
    "    select_action: Callable[[\"Player\"], Action] = random_action_strategy\n",
    "\n",
    "    def perform(self, action: Action):\n",
    "        action.perform(self)\n",
    "\n",
    "    @property\n",
    "    def location(self) -> Location:\n",
    "        return self.pawn.location\n",
    "\n",
    "    @location.setter\n",
    "    def location(self, value: Location):\n",
    "        self.pawn.location = value\n",
    "\n",
    "    @property\n",
    "    def description(self) -> str:\n",
    "        return f\"{self.name} at {self.location.name}\"\n",
    "\n",
    "    def take_turn(self):\n",
    "        action = self.select_action(self)\n",
    "        print(f\"{self.description} performs: {action.description}\")\n",
    "        action.perform(self)\n",
    "\n",
    "    @property\n",
    "    def actions(self) -> list[Action]:\n",
    "        return [*self.pawn.actions, SkipTurnAction()]"
   ]
  },
  {
   "cell_type": "code",
   "execution_count": 7,
   "id": "4f762d09540c2936",
   "metadata": {
    "slideshow": {
     "slide_type": "subslide"
    },
    "tags": [
     "keep",
     "subslide"
    ]
   },
   "outputs": [],
   "source": [
    "world_factory = WorldFactory()\n",
    "world = world_factory.create(simple_locations)"
   ]
  },
  {
   "cell_type": "code",
   "execution_count": 8,
   "id": "e410c2dcc35d98e3",
   "metadata": {
    "tags": [
     "keep"
    ]
   },
   "outputs": [
    {
     "name": "stdout",
     "output_type": "stream",
     "text": [
      "Pawn(name='Alice', location=Location(name='Room 1', description='A small room', connections={'north': Location(name='Room 2', description='A large room', connections={'south': ...})}))\n"
     ]
    }
   ],
   "source": [
    "pawn = Pawn(\"Alice\", world.locations[\"Room 1\"])\n",
    "print(pawn)"
   ]
  },
  {
   "cell_type": "code",
   "execution_count": 9,
   "id": "469625a8af351df2",
   "metadata": {
    "tags": [
     "keep"
    ]
   },
   "outputs": [
    {
     "name": "stdout",
     "output_type": "stream",
     "text": [
      "Player(name='Alice', pawn=Pawn(name='Alice', location=Location(name='Room 1', description='A small room', connections={'north': Location(name='Room 2', description='A large room', connections={'south': ...})})), select_action=<function random_action_strategy at 0x00000231EFA6B2E0>)\n"
     ]
    }
   ],
   "source": [
    "player = Player(\"Alice\", pawn)\n",
    "print(player)"
   ]
  },
  {
   "cell_type": "code",
   "execution_count": 11,
   "id": "235248d6",
   "metadata": {},
   "outputs": [
    {
     "name": "stdout",
     "output_type": "stream",
     "text": [
      "[MoveAction(direction='south', target=Location(name='Room 1', description='A small room', connections={'north': Location(name='Room 2', description='A large room', connections={'south': ...})})), SkipTurnAction()]\n"
     ]
    }
   ],
   "source": [
    "print(player.actions)"
   ]
  },
  {
   "cell_type": "code",
   "execution_count": 10,
   "id": "8fdb91f1a5060072",
   "metadata": {
    "tags": [
     "keep"
    ]
   },
   "outputs": [
    {
     "name": "stdout",
     "output_type": "stream",
     "text": [
      "Alice at Room 1 performs: move north to Room 2\n",
      "Player(name='Alice', pawn=Pawn(name='Alice', location=Location(name='Room 2', description='A large room', connections={'south': Location(name='Room 1', description='A small room', connections={'north': ...})})), select_action=<function random_action_strategy at 0x00000231EFA6B2E0>)\n"
     ]
    }
   ],
   "source": [
    "player.take_turn()\n",
    "print(player)"
   ]
  },
  {
   "cell_type": "code",
   "execution_count": 12,
   "id": "a146d66db467bdce",
   "metadata": {
    "slideshow": {
     "slide_type": "subslide"
    },
    "tags": [
     "keep",
     "subslide"
    ]
   },
   "outputs": [
    {
     "name": "stdout",
     "output_type": "stream",
     "text": [
      "Alice at Room 2 performs: wait one turn\n",
      "Alice at Room 2 performs: wait one turn\n",
      "Alice at Room 2 performs: move south to Room 1\n",
      "Alice at Room 1 performs: move north to Room 2\n",
      "Alice at Room 2 performs: wait one turn\n",
      "Alice at Room 2 performs: move south to Room 1\n",
      "Alice at Room 1 performs: wait one turn\n",
      "Alice at Room 1 performs: move north to Room 2\n",
      "Alice at Room 2 performs: wait one turn\n",
      "Alice at Room 2 performs: wait one turn\n"
     ]
    }
   ],
   "source": [
    "for _ in range(10):\n",
    "    player.take_turn()"
   ]
  },
  {
   "cell_type": "code",
   "execution_count": 13,
   "id": "f4afd6b1990123a6",
   "metadata": {
    "lines_to_next_cell": 2,
    "slideshow": {
     "slide_type": "subslide"
    },
    "tags": [
     "keep",
     "subslide"
    ]
   },
   "outputs": [],
   "source": [
    "def interactive_action_strategy(player: \"Player\"):\n",
    "    print(f\"Available actions for {player.description}:\")\n",
    "    for i, action in enumerate(player.actions, 1):\n",
    "        print(f\"{i}: {action.description}\")\n",
    "    while True:\n",
    "        try:\n",
    "            choice = int(input(\"Your choice: \"))\n",
    "            if 0 < choice <= len(player.actions):\n",
    "                return player.actions[choice - 1]\n",
    "            else:\n",
    "                print(f\"Please enter a number between 1 and {len(player.actions)}!\")\n",
    "        except ValueError:\n",
    "            print(\"Please enter a valid number!\")"
   ]
  },
  {
   "cell_type": "code",
   "execution_count": 14,
   "id": "cff50aa8445f9bac",
   "metadata": {
    "slideshow": {
     "slide_type": "subslide"
    },
    "tags": [
     "keep",
     "subslide"
    ]
   },
   "outputs": [],
   "source": [
    "player = Player(\"Iris\", pawn, interactive_action_strategy)"
   ]
  },
  {
   "cell_type": "code",
   "execution_count": 15,
   "id": "2a943ad442e8b892",
   "metadata": {
    "tags": [
     "keep"
    ]
   },
   "outputs": [
    {
     "name": "stdout",
     "output_type": "stream",
     "text": [
      "Available actions for Iris at Room 2:\n",
      "1: move south to Room 1\n",
      "2: wait one turn\n",
      "Please enter a valid number!\n",
      "Please enter a valid number!\n",
      "Please enter a valid number!\n",
      "Iris at Room 2 performs: move south to Room 1\n",
      "Available actions for Iris at Room 1:\n",
      "1: move north to Room 2\n",
      "2: wait one turn\n",
      "Please enter a number between 1 and 2!\n",
      "Iris at Room 1 performs: wait one turn\n",
      "Available actions for Iris at Room 1:\n",
      "1: move north to Room 2\n",
      "2: wait one turn\n",
      "Iris at Room 1 performs: move north to Room 2\n",
      "Available actions for Iris at Room 2:\n",
      "1: move south to Room 1\n",
      "2: wait one turn\n",
      "Iris at Room 2 performs: wait one turn\n",
      "Available actions for Iris at Room 2:\n",
      "1: move south to Room 1\n",
      "2: wait one turn\n",
      "Iris at Room 2 performs: move south to Room 1\n"
     ]
    }
   ],
   "source": [
    "for _ in range(5):\n",
    "    player.take_turn()"
   ]
  },
  {
   "cell_type": "markdown",
   "id": "92dd97d771831490",
   "metadata": {
    "lang": "de",
    "slideshow": {
     "slide_type": "subslide"
    },
    "tags": [
     "subslide"
    ]
   },
   "source": [
    "\n",
    "## Nächste Schritte\n",
    "\n",
    "- Verbesserung der Strategien\n",
    "- Kommunikation des Spiel-Fortschritts"
   ]
  }
 ],
 "metadata": {
  "jupytext": {
   "cell_metadata_filter": "lang,tags,-all",
   "main_language": "python",
   "notebook_metadata_filter": "-all"
  },
  "kernelspec": {
   "display_name": "cam-basic",
   "language": "python",
   "name": "python3"
  },
  "language_info": {
   "codemirror_mode": {
    "name": "ipython",
    "version": 3
   },
   "file_extension": ".py",
   "mimetype": "text/x-python",
   "name": "python",
   "nbconvert_exporter": "python",
   "pygments_lexer": "ipython3",
   "version": "3.12.8"
  }
 },
 "nbformat": 4,
 "nbformat_minor": 5
}
