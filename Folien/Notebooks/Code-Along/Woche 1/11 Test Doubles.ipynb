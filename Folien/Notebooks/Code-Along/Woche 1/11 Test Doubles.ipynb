{
 "cells": [
  {
   "cell_type": "markdown",
   "id": "d06963f90e035b0c",
   "metadata": {
    "lang": "de",
    "slideshow": {
     "slide_type": "slide"
    },
    "tags": [
     "slide"
    ]
   },
   "source": [
    "\n",
    "<img src=\"data:image/svg+xml;base64,PHN2ZyB4bWxucz0iaHR0cDovL3d3dy53My5vcmcvMjAwMC9zdmciIHhtbG5zOnhsaW5rPSJodHRw\n",
    "Oi8vd3d3LnczLm9yZy8xOTk5L3hsaW5rIiB3aWR0aD0iMTExLjE2MSIgaGVpZ2h0PSIxMzQuNjY4\n",
    "IiB2ZXJzaW9uPSIxLjAiPjxkZWZzPjxsaW5lYXJHcmFkaWVudCBpZD0iYyI+PHN0b3Agb2Zmc2V0\n",
    "PSIwIiBzdHlsZT0ic3RvcC1jb2xvcjojYjhiOGI4O3N0b3Atb3BhY2l0eTouNDk4MDM5MjIiLz48\n",
    "c3RvcCBvZmZzZXQ9IjEiIHN0eWxlPSJzdG9wLWNvbG9yOiM3ZjdmN2Y7c3RvcC1vcGFjaXR5OjAi\n",
    "Lz48L2xpbmVhckdyYWRpZW50PjxsaW5lYXJHcmFkaWVudCBpZD0iYSI+PHN0b3Agb2Zmc2V0PSIw\n",
    "IiBzdHlsZT0ic3RvcC1jb2xvcjojZmZkNDNiO3N0b3Atb3BhY2l0eToxIi8+PHN0b3Agb2Zmc2V0\n",
    "PSIxIiBzdHlsZT0ic3RvcC1jb2xvcjojZmZlODczO3N0b3Atb3BhY2l0eToxIi8+PC9saW5lYXJH\n",
    "cmFkaWVudD48bGluZWFyR3JhZGllbnQgaWQ9ImIiPjxzdG9wIG9mZnNldD0iMCIgc3R5bGU9InN0\n",
    "b3AtY29sb3I6IzVhOWZkNDtzdG9wLW9wYWNpdHk6MSIvPjxzdG9wIG9mZnNldD0iMSIgc3R5bGU9\n",
    "InN0b3AtY29sb3I6IzMwNjk5ODtzdG9wLW9wYWNpdHk6MSIvPjwvbGluZWFyR3JhZGllbnQ+PGxp\n",
    "bmVhckdyYWRpZW50IHhsaW5rOmhyZWY9IiNhIiBpZD0iZSIgeDE9IjE1MC45NjEiIHgyPSIxMTIu\n",
    "MDMxIiB5MT0iMTkyLjM1MiIgeTI9IjEzNy4yNzMiIGdyYWRpZW50VHJhbnNmb3JtPSJtYXRyaXgo\n",
    "LjU2MjU0IDAgMCAuNTY3OTcgLTE0Ljk5MSAtMTEuNzAyKSIgZ3JhZGllbnRVbml0cz0idXNlclNw\n",
    "YWNlT25Vc2UiLz48bGluZWFyR3JhZGllbnQgeGxpbms6aHJlZj0iI2IiIGlkPSJkIiB4MT0iMjYu\n",
    "NjQ5IiB4Mj0iMTM1LjY2NSIgeTE9IjIwLjYwNCIgeTI9IjExNC4zOTgiIGdyYWRpZW50VHJhbnNm\n",
    "b3JtPSJtYXRyaXgoLjU2MjU0IDAgMCAuNTY3OTcgLTE0Ljk5MSAtMTEuNzAyKSIgZ3JhZGllbnRV\n",
    "bml0cz0idXNlclNwYWNlT25Vc2UiLz48cmFkaWFsR3JhZGllbnQgeGxpbms6aHJlZj0iI2MiIGlk\n",
    "PSJmIiBjeD0iNjEuNTE5IiBjeT0iMTMyLjI4NiIgcj0iMjkuMDM3IiBmeD0iNjEuNTE5IiBmeT0i\n",
    "MTMyLjI4NiIgZ3JhZGllbnRUcmFuc2Zvcm09Im1hdHJpeCgwIC0uMjM5OTUgMS4wNTQ2NyAwIC04\n",
    "My43IDE0Mi40NjIpIiBncmFkaWVudFVuaXRzPSJ1c2VyU3BhY2VPblVzZSIvPjwvZGVmcz48cGF0\n",
    "aCBkPSJNNTQuOTE5IDBjLTQuNTg0LjAyMi04Ljk2MS40MTMtMTIuODEzIDEuMDk1QzMwLjc2IDMu\n",
    "MDk5IDI4LjcgNy4yOTUgMjguNyAxNS4wMzJ2MTAuMjE5aDI2LjgxM3YzLjQwNkgxOC42MzhjLTcu\n",
    "NzkzIDAtMTQuNjE2IDQuNjg0LTE2Ljc1IDEzLjU5NC0yLjQ2MiAxMC4yMTMtMi41NzEgMTYuNTg2\n",
    "IDAgMjcuMjUgMS45MDUgNy45MzggNi40NTcgMTMuNTk0IDE0LjI1IDEzLjU5NGg5LjIxOHYtMTIu\n",
    "MjVjMC04Ljg1IDcuNjU3LTE2LjY1NyAxNi43NS0xNi42NTdoMjYuNzgyYzcuNDU0IDAgMTMuNDA2\n",
    "LTYuMTM4IDEzLjQwNi0xMy42MjV2LTI1LjUzYzAtNy4yNjctNi4xMy0xMi43MjYtMTMuNDA2LTEz\n",
    "LjkzOEM2NC4yODIuMzI4IDU5LjUwMi0uMDIgNTQuOTE4IDBtLTE0LjUgOC4yMmMyLjc3IDAgNS4w\n",
    "MzEgMi4yOTggNS4wMzEgNS4xMjUgMCAyLjgxNi0yLjI2MiA1LjA5My01LjAzMSA1LjA5My0yLjc4\n",
    "IDAtNS4wMzEtMi4yNzctNS4wMzEtNS4wOTMgMC0yLjgyNyAyLjI1MS01LjEyNSA1LjAzLTUuMTI1\n",
    "IiBzdHlsZT0iZmlsbDp1cmwoI2QpO2ZpbGwtb3BhY2l0eToxIi8+PHBhdGggZD0iTTg1LjYzOCAy\n",
    "OC42NTd2MTEuOTA2YzAgOS4yMzEtNy44MjYgMTctMTYuNzUgMTdINDIuMTA2Yy03LjMzNiAwLTEz\n",
    "LjQwNiA2LjI3OS0xMy40MDYgMTMuNjI1Vjk2LjcyYzAgNy4yNjYgNi4zMTkgMTEuNTQgMTMuNDA2\n",
    "IDEzLjYyNSA4LjQ4OCAyLjQ5NSAxNi42MjcgMi45NDYgMjYuNzgyIDAgNi43NS0xLjk1NSAxMy40\n",
    "MDYtNS44ODggMTMuNDA2LTEzLjYyNVY4Ni41SDU1LjUxM3YtMy40MDVIOTUuN2M3Ljc5MyAwIDEw\n",
    "LjY5Ni01LjQzNiAxMy40MDYtMTMuNTk0IDIuOC04LjM5OSAyLjY4LTE2LjQ3NiAwLTI3LjI1LTEu\n",
    "OTI1LTcuNzU4LTUuNjA0LTEzLjU5NC0xMy40MDYtMTMuNTk0ek03MC41NzUgOTMuMzEzYzIuNzgg\n",
    "MCA1LjAzMSAyLjI3OCA1LjAzMSA1LjA5NCAwIDIuODI3LTIuMjUxIDUuMTI1LTUuMDMxIDUuMTI1\n",
    "LTIuNzcgMC01LjAzMS0yLjI5OC01LjAzMS01LjEyNSAwLTIuODE2IDIuMjYxLTUuMDk0IDUuMDMx\n",
    "LTUuMDk0IiBzdHlsZT0iZmlsbDp1cmwoI2UpO2ZpbGwtb3BhY2l0eToxIi8+PGVsbGlwc2UgY3g9\n",
    "IjU1LjgxNyIgY3k9IjEyNy43MDEiIHJ4PSIzNS45MzEiIHJ5PSI2Ljk2NyIgc3R5bGU9Im9wYWNp\n",
    "dHk6LjQ0MzgyO2ZpbGw6dXJsKCNmKTtmaWxsLW9wYWNpdHk6MTtmaWxsLXJ1bGU6bm9uemVybztz\n",
    "dHJva2U6bm9uZTtzdHJva2Utd2lkdGg6MTUuNDE3NDtzdHJva2UtbWl0ZXJsaW1pdDo0O3N0cm9r\n",
    "ZS1kYXNoYXJyYXk6bm9uZTtzdHJva2Utb3BhY2l0eToxIi8+PC9zdmc+\n",
    "\"\n",
    "     style=\"display:block;margin:auto;width:10%\" alt=\"Python Logo\"/>\n",
    "<br>\n",
    "\n",
    "<div style=\"text-align:center; font-size:200%;\">\n",
    " <b>Test Doubles</b>\n",
    "</div>\n",
    "<br/>\n",
    "<div style=\"text-align:center;\">Dr. Matthias Hölzl</div>\n",
    "<br/>"
   ]
  },
  {
   "cell_type": "markdown",
   "id": "d5f194736e9b8ff4",
   "metadata": {
    "lang": "de",
    "slideshow": {
     "slide_type": "subslide"
    },
    "tags": [
     "subslide"
    ]
   },
   "source": [
    "\n",
    "## Test Doubles\n",
    "\n",
    "- Test Double: Vereinfachte Version einer Abhängigkeit im System\n",
    "  - z.B. Ersetzen einer Datenbankabfrage durch einen fixen Wert\n",
    "- Test Doubles sind wichtig zum Vereinfachen von Tests\n",
    "- Sie benötigen typischerweise ein Interface, das sie implementieren\n",
    "- Aber: zu viele oder komplexe Test Doubles machen Tests unübersichtlich\n",
    "  - Was wird von einem Test eigentlich getestet?"
   ]
  },
  {
   "cell_type": "markdown",
   "id": "8ce9a91d894b8af2",
   "metadata": {
    "lang": "de",
    "slideshow": {
     "slide_type": "subslide"
    },
    "tags": [
     "subslide"
    ]
   },
   "source": [
    "\n",
    "## Arten von Test Doubles\n",
    "\n",
    "- Ausgehende Abhängigkeiten (\"Mocks\")\n",
    "  - Mocks\n",
    "  - Spies\n",
    "- Eingehende Abhängigkeiten (\"Stubs\")\n",
    "  - Dummies\n",
    "  - Stubs\n",
    "  - Fakes"
   ]
  },
  {
   "cell_type": "markdown",
   "id": "5e84bd54ccda4e48",
   "metadata": {
    "lang": "de",
    "slideshow": {
     "slide_type": "subslide"
    },
    "tags": [
     "subslide"
    ]
   },
   "source": [
    "\n",
    "## Dummy\n",
    "\n",
    "- Objekt, das nur als Platzhalter dient\n",
    "- Wird übergeben, aber nicht verwendet\n",
    "- In Python manchmal `None`\n",
    "- Auch für ausgehende Abhängigkeiten"
   ]
  },
  {
   "cell_type": "markdown",
   "id": "8c368fe353d5215d",
   "metadata": {
    "lang": "de",
    "slideshow": {
     "slide_type": "subslide"
    },
    "tags": [
     "subslide"
    ]
   },
   "source": [
    "\n",
    "## Stub\n",
    "\n",
    "- Objekt, das eine minimale Implementierung einer Abhängigkeit bereitstellt\n",
    "- Gibt typischerweise immer den gleichen Wert zurück\n",
    "- Wird verwendet um\n",
    "  - komplexe Abhängigkeiten zu ersetzen\n",
    "  - Tests deterministisch zu machen"
   ]
  },
  {
   "cell_type": "markdown",
   "id": "8377a04e228048ac",
   "metadata": {
    "lang": "de",
    "slideshow": {
     "slide_type": "subslide"
    },
    "tags": [
     "subslide"
    ]
   },
   "source": [
    "\n",
    "## Fake\n",
    "\n",
    "- Objekt, das eine einfachere Implementierung einer Abhängigkeit bereitstellt\n",
    "- Kann z.B. eine In-Memory-Datenbank sein\n",
    "- Wird verwendet um\n",
    "  - Tests zu beschleunigen\n",
    "  - Konfiguration von Tests zu vereinfachen"
   ]
  },
  {
   "cell_type": "markdown",
   "id": "0b683ec83c76569c",
   "metadata": {
    "lang": "de",
    "slideshow": {
     "slide_type": "subslide"
    },
    "tags": [
     "subslide"
    ]
   },
   "source": [
    "\n",
    "## Spy\n",
    "\n",
    "- Objekt, das Informationen über die Interaktion mit ihm speichert\n",
    "- Wird verwendet um\n",
    "  - zu überprüfen, ob eine Abhängigkeit korrekt verwendet wird"
   ]
  },
  {
   "cell_type": "markdown",
   "id": "e9ec6b5fe0648bcd",
   "metadata": {
    "lang": "de",
    "slideshow": {
     "slide_type": "subslide"
    },
    "tags": [
     "subslide"
    ]
   },
   "source": [
    "\n",
    "## Mock\n",
    "\n",
    "- Objekt, das Information über die erwartete Interaktion speichert\n",
    "- Typischerweise deklarativ konfigurierbar\n",
    "- Automatisierte Implementierung von Spies\n",
    "- Wird verwendet um\n",
    "  - zu überprüfen, ob eine Abhängigkeit korrekt verwendet wird"
   ]
  },
  {
   "cell_type": "code",
   "execution_count": 18,
   "id": "358d3acdd9f86a51",
   "metadata": {
    "lines_to_next_cell": 1,
    "slideshow": {
     "slide_type": "subslide"
    },
    "tags": [
     "subslide"
    ]
   },
   "outputs": [],
   "source": [
    "from abc import ABC, abstractmethod, ABCMeta"
   ]
  },
  {
   "cell_type": "code",
   "execution_count": 19,
   "id": "064634dfd3968d51",
   "metadata": {
    "lines_to_next_cell": 1
   },
   "outputs": [],
   "source": [
    "class DataSource(ABC):\n",
    "    @abstractmethod\n",
    "    def get_value(self) -> int:\n",
    "        ..."
   ]
  },
  {
   "cell_type": "code",
   "execution_count": 20,
   "id": "4a9b12b625f0a140",
   "metadata": {
    "lines_to_next_cell": 1
   },
   "outputs": [],
   "source": [
    "class DataSink(ABC):\n",
    "    @abstractmethod\n",
    "    def set_value(self, value: int) -> None:\n",
    "        ..."
   ]
  },
  {
   "cell_type": "code",
   "execution_count": 21,
   "id": "cb40ea05dc8a034e",
   "metadata": {
    "lines_to_next_cell": 1,
    "slideshow": {
     "slide_type": "subslide"
    },
    "tags": [
     "subslide"
    ]
   },
   "outputs": [],
   "source": [
    "class Processor:\n",
    "    def __init__(self, source: DataSource, sink: DataSink) -> None:\n",
    "        self.source = source\n",
    "        self.sink = sink\n",
    "        \n",
    "    def process(self) -> None: \n",
    "        value = self.source.get_value()\n",
    "        self.sink.set_value(value)"
   ]
  },
  {
   "cell_type": "code",
   "execution_count": 22,
   "id": "1404dafacb53ba83",
   "metadata": {
    "slideshow": {
     "slide_type": "subslide"
    },
    "tags": [
     "subslide"
    ]
   },
   "outputs": [],
   "source": [
    "class DataSourceStub(DataSource):\n",
    "    def get_value(self) -> int:\n",
    "        return 42"
   ]
  },
  {
   "cell_type": "code",
   "execution_count": 23,
   "id": "67bbf1aa",
   "metadata": {},
   "outputs": [
    {
     "data": {
      "text/plain": [
       "<__main__.DataSourceStub at 0x158937a1310>"
      ]
     },
     "execution_count": 23,
     "metadata": {},
     "output_type": "execute_result"
    }
   ],
   "source": [
    "DataSourceStub()"
   ]
  },
  {
   "cell_type": "code",
   "execution_count": 24,
   "id": "6f1c261d52e231d1",
   "metadata": {
    "lines_to_next_cell": 1
   },
   "outputs": [],
   "source": [
    "class DataSinkSpy(DataSink):\n",
    "    def __init__(self):\n",
    "        self.values = []\n",
    "        \n",
    "    def set_value(self, value: int) -> None:\n",
    "        self.values.append(value)"
   ]
  },
  {
   "cell_type": "code",
   "execution_count": 25,
   "id": "0c7d820373007d16",
   "metadata": {
    "slideshow": {
     "slide_type": "subslide"
    },
    "tags": [
     "subslide"
    ]
   },
   "outputs": [],
   "source": [
    "def test_processor():\n",
    "    source = DataSourceStub()\n",
    "    sink = DataSinkSpy()\n",
    "    processor = Processor(source, sink)\n",
    "    \n",
    "    processor.process()\n",
    "    \n",
    "    assert len(sink.values) == 1\n",
    "    assert sink.values[0] == source.get_value()\n",
    "    print(\"Test passed\")"
   ]
  },
  {
   "cell_type": "code",
   "execution_count": 26,
   "id": "241bf623bb8e1fdf",
   "metadata": {
    "lines_to_next_cell": 1
   },
   "outputs": [
    {
     "name": "stdout",
     "output_type": "stream",
     "text": [
      "Test passed\n"
     ]
    }
   ],
   "source": [
    "test_processor()"
   ]
  },
  {
   "cell_type": "markdown",
   "id": "605e07a6925357cd",
   "metadata": {
    "lang": "de",
    "slideshow": {
     "slide_type": "subslide"
    },
    "tags": [
     "subslide"
    ]
   },
   "source": [
    "\n",
    "## Typischer Einsatz von Test Doubles\n",
    "\n",
    "- Zugriff auf Datenbank, Dateisystem\n",
    "- Zeit, Zufallswerte\n",
    "- Nichtdeterminismus\n",
    "- Verborgener Zustand"
   ]
  },
  {
   "cell_type": "markdown",
   "id": "a854c2673b750351",
   "metadata": {
    "lang": "de",
    "slideshow": {
     "slide_type": "subslide"
    },
    "tags": [
     "subslide"
    ]
   },
   "source": [
    "\n",
    "## Workshop: Test Doubles\n",
    "\n",
    "Wir haben die folgenden Interfaces, die von der Funktion `test_me()`\n",
    "verwendet werden:"
   ]
  },
  {
   "cell_type": "code",
   "execution_count": 27,
   "id": "f0fc8bc0b84af6d1",
   "metadata": {
    "lines_to_next_cell": 1,
    "slideshow": {
     "slide_type": "subslide"
    },
    "tags": [
     "subslide",
     "keep"
    ]
   },
   "outputs": [],
   "source": [
    "class Service1(ABC):\n",
    "    @abstractmethod\n",
    "    def get_value(self) -> int:\n",
    "        ..."
   ]
  },
  {
   "cell_type": "code",
   "execution_count": 28,
   "id": "ca05960de6d28e49",
   "metadata": {
    "lines_to_next_cell": 1,
    "tags": [
     "keep"
    ]
   },
   "outputs": [],
   "source": [
    "class Service2(ABC):\n",
    "    @abstractmethod\n",
    "    def set_value(self, value: int) -> None:\n",
    "        ..."
   ]
  },
  {
   "cell_type": "code",
   "execution_count": 29,
   "id": "0159dcda2c5ce21c",
   "metadata": {
    "lines_to_next_cell": 1,
    "slideshow": {
     "slide_type": "subslide"
    },
    "tags": [
     "keep",
     "subslide"
    ]
   },
   "outputs": [],
   "source": [
    "def test_me(i: int, j: int, service1: Service1, service2: Service2) -> None:\n",
    "    value = 0\n",
    "    if i > 0:\n",
    "        value = service1.get_value()\n",
    "    if j > 0:\n",
    "        service2.set_value(value)"
   ]
  },
  {
   "cell_type": "markdown",
   "id": "e4982caddbe0c6e6",
   "metadata": {
    "lang": "de",
    "slideshow": {
     "slide_type": "subslide"
    },
    "tags": [
     "subslide"
    ]
   },
   "source": [
    "\n",
    "Welche Arten von Test-Doubles brauchen Sie um die Funktion `test_me()` für\n",
    "die angegebenen Werte von `i` und `j` zu testen?\n",
    "\n",
    "| i | j | Service1 | Service2 |\n",
    "|---|---|----------|----------|\n",
    "| 0 | 0 |          |          |\n",
    "| 0 | 1 |          |          |\n",
    "| 1 | 0 |          |          |\n",
    "| 1 | 1 |          |          |"
   ]
  },
  {
   "cell_type": "markdown",
   "id": "d6cb4e63664783a0",
   "metadata": {
    "lang": "de",
    "slideshow": {
     "slide_type": "subslide"
    },
    "tags": [
     "subslide"
    ]
   },
   "source": [
    "\n",
    "Implementieren Sie die entsprechenden Doubles und schreiben Sie die Tests"
   ]
  },
  {
   "cell_type": "code",
   "execution_count": 31,
   "id": "c2e09b49",
   "metadata": {},
   "outputs": [],
   "source": [
    "# Für 0 und 0 reicht Dummy (None)\n",
    "test_me(0,0,None, None)"
   ]
  },
  {
   "cell_type": "code",
   "execution_count": 38,
   "id": "74f5f9da",
   "metadata": {},
   "outputs": [],
   "source": [
    "class Service2Spy(Service2):\n",
    "    def __init__(self):\n",
    "        self.values = []\n",
    "\n",
    "    def set_value(self, value: int) -> None:\n",
    "        self.values.append(value)"
   ]
  },
  {
   "cell_type": "code",
   "execution_count": 39,
   "id": "2210ed04",
   "metadata": {},
   "outputs": [],
   "source": [
    "spy = Service2Spy()"
   ]
  },
  {
   "cell_type": "code",
   "execution_count": 41,
   "id": "8e23a229",
   "metadata": {},
   "outputs": [],
   "source": [
    "test_me(0, 1, None, spy)"
   ]
  }
 ],
 "metadata": {
  "jupytext": {
   "cell_metadata_filter": "tags,lang,-all",
   "main_language": "python",
   "notebook_metadata_filter": "-all"
  },
  "kernelspec": {
   "display_name": "cam-basic",
   "language": "python",
   "name": "python3"
  },
  "language_info": {
   "codemirror_mode": {
    "name": "ipython",
    "version": 3
   },
   "file_extension": ".py",
   "mimetype": "text/x-python",
   "name": "python",
   "nbconvert_exporter": "python",
   "pygments_lexer": "ipython3",
   "version": "3.12.8"
  }
 },
 "nbformat": 4,
 "nbformat_minor": 5
}
