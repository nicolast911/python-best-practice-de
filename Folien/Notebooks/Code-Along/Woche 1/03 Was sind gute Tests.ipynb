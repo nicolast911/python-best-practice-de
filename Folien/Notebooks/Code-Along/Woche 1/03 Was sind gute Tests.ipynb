{
 "cells": [
  {
   "cell_type": "markdown",
   "id": "a2f7f5c7d50f8ce8",
   "metadata": {
    "lang": "de",
    "slideshow": {
     "slide_type": "slide"
    },
    "tags": [
     "slide"
    ]
   },
   "source": [
    "\n",
    "<img src=\"data:image/svg+xml;base64,PHN2ZyB4bWxucz0iaHR0cDovL3d3dy53My5vcmcvMjAwMC9zdmciIHhtbG5zOnhsaW5rPSJodHRw\n",
    "Oi8vd3d3LnczLm9yZy8xOTk5L3hsaW5rIiB3aWR0aD0iMTExLjE2MSIgaGVpZ2h0PSIxMzQuNjY4\n",
    "IiB2ZXJzaW9uPSIxLjAiPjxkZWZzPjxsaW5lYXJHcmFkaWVudCBpZD0iYyI+PHN0b3Agb2Zmc2V0\n",
    "PSIwIiBzdHlsZT0ic3RvcC1jb2xvcjojYjhiOGI4O3N0b3Atb3BhY2l0eTouNDk4MDM5MjIiLz48\n",
    "c3RvcCBvZmZzZXQ9IjEiIHN0eWxlPSJzdG9wLWNvbG9yOiM3ZjdmN2Y7c3RvcC1vcGFjaXR5OjAi\n",
    "Lz48L2xpbmVhckdyYWRpZW50PjxsaW5lYXJHcmFkaWVudCBpZD0iYSI+PHN0b3Agb2Zmc2V0PSIw\n",
    "IiBzdHlsZT0ic3RvcC1jb2xvcjojZmZkNDNiO3N0b3Atb3BhY2l0eToxIi8+PHN0b3Agb2Zmc2V0\n",
    "PSIxIiBzdHlsZT0ic3RvcC1jb2xvcjojZmZlODczO3N0b3Atb3BhY2l0eToxIi8+PC9saW5lYXJH\n",
    "cmFkaWVudD48bGluZWFyR3JhZGllbnQgaWQ9ImIiPjxzdG9wIG9mZnNldD0iMCIgc3R5bGU9InN0\n",
    "b3AtY29sb3I6IzVhOWZkNDtzdG9wLW9wYWNpdHk6MSIvPjxzdG9wIG9mZnNldD0iMSIgc3R5bGU9\n",
    "InN0b3AtY29sb3I6IzMwNjk5ODtzdG9wLW9wYWNpdHk6MSIvPjwvbGluZWFyR3JhZGllbnQ+PGxp\n",
    "bmVhckdyYWRpZW50IHhsaW5rOmhyZWY9IiNhIiBpZD0iZSIgeDE9IjE1MC45NjEiIHgyPSIxMTIu\n",
    "MDMxIiB5MT0iMTkyLjM1MiIgeTI9IjEzNy4yNzMiIGdyYWRpZW50VHJhbnNmb3JtPSJtYXRyaXgo\n",
    "LjU2MjU0IDAgMCAuNTY3OTcgLTE0Ljk5MSAtMTEuNzAyKSIgZ3JhZGllbnRVbml0cz0idXNlclNw\n",
    "YWNlT25Vc2UiLz48bGluZWFyR3JhZGllbnQgeGxpbms6aHJlZj0iI2IiIGlkPSJkIiB4MT0iMjYu\n",
    "NjQ5IiB4Mj0iMTM1LjY2NSIgeTE9IjIwLjYwNCIgeTI9IjExNC4zOTgiIGdyYWRpZW50VHJhbnNm\n",
    "b3JtPSJtYXRyaXgoLjU2MjU0IDAgMCAuNTY3OTcgLTE0Ljk5MSAtMTEuNzAyKSIgZ3JhZGllbnRV\n",
    "bml0cz0idXNlclNwYWNlT25Vc2UiLz48cmFkaWFsR3JhZGllbnQgeGxpbms6aHJlZj0iI2MiIGlk\n",
    "PSJmIiBjeD0iNjEuNTE5IiBjeT0iMTMyLjI4NiIgcj0iMjkuMDM3IiBmeD0iNjEuNTE5IiBmeT0i\n",
    "MTMyLjI4NiIgZ3JhZGllbnRUcmFuc2Zvcm09Im1hdHJpeCgwIC0uMjM5OTUgMS4wNTQ2NyAwIC04\n",
    "My43IDE0Mi40NjIpIiBncmFkaWVudFVuaXRzPSJ1c2VyU3BhY2VPblVzZSIvPjwvZGVmcz48cGF0\n",
    "aCBkPSJNNTQuOTE5IDBjLTQuNTg0LjAyMi04Ljk2MS40MTMtMTIuODEzIDEuMDk1QzMwLjc2IDMu\n",
    "MDk5IDI4LjcgNy4yOTUgMjguNyAxNS4wMzJ2MTAuMjE5aDI2LjgxM3YzLjQwNkgxOC42MzhjLTcu\n",
    "NzkzIDAtMTQuNjE2IDQuNjg0LTE2Ljc1IDEzLjU5NC0yLjQ2MiAxMC4yMTMtMi41NzEgMTYuNTg2\n",
    "IDAgMjcuMjUgMS45MDUgNy45MzggNi40NTcgMTMuNTk0IDE0LjI1IDEzLjU5NGg5LjIxOHYtMTIu\n",
    "MjVjMC04Ljg1IDcuNjU3LTE2LjY1NyAxNi43NS0xNi42NTdoMjYuNzgyYzcuNDU0IDAgMTMuNDA2\n",
    "LTYuMTM4IDEzLjQwNi0xMy42MjV2LTI1LjUzYzAtNy4yNjctNi4xMy0xMi43MjYtMTMuNDA2LTEz\n",
    "LjkzOEM2NC4yODIuMzI4IDU5LjUwMi0uMDIgNTQuOTE4IDBtLTE0LjUgOC4yMmMyLjc3IDAgNS4w\n",
    "MzEgMi4yOTggNS4wMzEgNS4xMjUgMCAyLjgxNi0yLjI2MiA1LjA5My01LjAzMSA1LjA5My0yLjc4\n",
    "IDAtNS4wMzEtMi4yNzctNS4wMzEtNS4wOTMgMC0yLjgyNyAyLjI1MS01LjEyNSA1LjAzLTUuMTI1\n",
    "IiBzdHlsZT0iZmlsbDp1cmwoI2QpO2ZpbGwtb3BhY2l0eToxIi8+PHBhdGggZD0iTTg1LjYzOCAy\n",
    "OC42NTd2MTEuOTA2YzAgOS4yMzEtNy44MjYgMTctMTYuNzUgMTdINDIuMTA2Yy03LjMzNiAwLTEz\n",
    "LjQwNiA2LjI3OS0xMy40MDYgMTMuNjI1Vjk2LjcyYzAgNy4yNjYgNi4zMTkgMTEuNTQgMTMuNDA2\n",
    "IDEzLjYyNSA4LjQ4OCAyLjQ5NSAxNi42MjcgMi45NDYgMjYuNzgyIDAgNi43NS0xLjk1NSAxMy40\n",
    "MDYtNS44ODggMTMuNDA2LTEzLjYyNVY4Ni41SDU1LjUxM3YtMy40MDVIOTUuN2M3Ljc5MyAwIDEw\n",
    "LjY5Ni01LjQzNiAxMy40MDYtMTMuNTk0IDIuOC04LjM5OSAyLjY4LTE2LjQ3NiAwLTI3LjI1LTEu\n",
    "OTI1LTcuNzU4LTUuNjA0LTEzLjU5NC0xMy40MDYtMTMuNTk0ek03MC41NzUgOTMuMzEzYzIuNzgg\n",
    "MCA1LjAzMSAyLjI3OCA1LjAzMSA1LjA5NCAwIDIuODI3LTIuMjUxIDUuMTI1LTUuMDMxIDUuMTI1\n",
    "LTIuNzcgMC01LjAzMS0yLjI5OC01LjAzMS01LjEyNSAwLTIuODE2IDIuMjYxLTUuMDk0IDUuMDMx\n",
    "LTUuMDk0IiBzdHlsZT0iZmlsbDp1cmwoI2UpO2ZpbGwtb3BhY2l0eToxIi8+PGVsbGlwc2UgY3g9\n",
    "IjU1LjgxNyIgY3k9IjEyNy43MDEiIHJ4PSIzNS45MzEiIHJ5PSI2Ljk2NyIgc3R5bGU9Im9wYWNp\n",
    "dHk6LjQ0MzgyO2ZpbGw6dXJsKCNmKTtmaWxsLW9wYWNpdHk6MTtmaWxsLXJ1bGU6bm9uemVybztz\n",
    "dHJva2U6bm9uZTtzdHJva2Utd2lkdGg6MTUuNDE3NDtzdHJva2UtbWl0ZXJsaW1pdDo0O3N0cm9r\n",
    "ZS1kYXNoYXJyYXk6bm9uZTtzdHJva2Utb3BhY2l0eToxIi8+PC9zdmc+\n",
    "\"\n",
    "     style=\"display:block;margin:auto;width:10%\" alt=\"Python Logo\"/>\n",
    "<br>\n",
    "\n",
    "<div style=\"text-align:center; font-size:200%;\">\n",
    " <b>Was sind gute Tests?</b>\n",
    "</div>\n",
    "<br/>\n",
    "<div style=\"text-align:center;\">Dr. Matthias Hölzl</div>\n",
    "<br/>"
   ]
  },
  {
   "cell_type": "markdown",
   "id": "796fedbba61cb19f",
   "metadata": {
    "slideshow": {
     "slide_type": "subslide"
    },
    "tags": [
     "subslide"
    ]
   },
   "source": [
    "\n",
    "<img src=\"img/velocity-tests-03.png\"\n",
    "     alt=\"Velocity vs. Tests 3\"\n",
    "     style=\"width: 75%; margin-left: auto; margin-right: auto;\"/>"
   ]
  },
  {
   "cell_type": "markdown",
   "id": "3196f2596ed51b51",
   "metadata": {
    "lang": "de",
    "slideshow": {
     "slide_type": "subslide"
    },
    "tags": [
     "subslide"
    ]
   },
   "source": [
    "\n",
    "## Welche Eigenschaften sollte ein Test haben?\n",
    "\n",
    "<ul>\n",
    "<li class=\"fragment\">Zeigt viele Fehler/Regressionen im Code auf</li>\n",
    "<li class=\"fragment\">Gibt schnelle Rückmeldung</li>\n",
    "<li class=\"fragment\">Ist deterministisch</li>\n",
    "<li class=\"fragment\">Ist leicht zu warten und verstehen</li>\n",
    "<li class=\"fragment\"><b>Unempfindlich gegenüber Refactorings</b></li>\n",
    "</ul>\n",
    "\n",
    "<p class=\"fragment\">\n",
    "  Leider stehen diese Eigenschaften oft im Konflikt zueinander!\n",
    "</p>"
   ]
  },
  {
   "cell_type": "markdown",
   "id": "dd6fc90376ae5811",
   "metadata": {
    "lang": "de",
    "slideshow": {
     "slide_type": "subslide"
    },
    "tags": [
     "subslide"
    ]
   },
   "source": [
    "\n",
    "## Aufzeigen von Fehlern/Regressionen\n",
    "\n",
    "### Einflüsse\n",
    "\n",
    "<ul>\n",
    "  <li class=\"fragment\">Menge des abgedeckten Codes</li>\n",
    "  <li class=\"fragment\">Komplexität des abgedeckten Codes</li>\n",
    "  <li class=\"fragment\">Interaktion mit externen Systemen</li>\n",
    "  <li class=\"fragment\">Signifikanz des abgedeckten Codes für die Domäne/das\n",
    "  System</li>\n",
    "</ul>"
   ]
  },
  {
   "cell_type": "code",
   "execution_count": 1,
   "id": "9d86bb00a2253748",
   "metadata": {
    "lines_to_next_cell": 1,
    "slideshow": {
     "slide_type": "subslide"
    },
    "tags": [
     "keep",
     "subslide"
    ]
   },
   "outputs": [],
   "source": [
    "class Item:\n",
    "    def __init__(self, name: str, price: float) -> None:\n",
    "        self.name = name\n",
    "        self.set_price(price)\n",
    "\n",
    "    def __repr__(self) -> str:\n",
    "        return f\"Item({self.name}, {self.price})\"\n",
    "\n",
    "    def get_name(self) -> str:\n",
    "        return self.name\n",
    "\n",
    "    def get_price(self) -> float:\n",
    "        return self.price\n",
    "\n",
    "    def set_price(self, value: float) -> None:\n",
    "        self.price = abs(value)"
   ]
  },
  {
   "cell_type": "code",
   "execution_count": 6,
   "id": "87af44b2071a3242",
   "metadata": {
    "lines_to_next_cell": 1,
    "slideshow": {
     "slide_type": "subslide"
    },
    "tags": [
     "subslide",
     "keep"
    ]
   },
   "outputs": [],
   "source": [
    "class Order:\n",
    "    def __init__(self, *items: Item) -> None:\n",
    "        self.items = list(items)\n",
    "\n",
    "    def __repr__(self) -> str:\n",
    "        return f\"Order({', '.join(map(str, self.items))}), total = {self.get_total()}\"\n",
    "\n",
    "    def get_items(self) -> list[Item]:\n",
    "        return self.items\n",
    "\n",
    "    def get_total(self) -> float:\n",
    "        return sum(item.get_price() for item in self.items)"
   ]
  },
  {
   "cell_type": "code",
   "execution_count": 3,
   "id": "081be583c9be8ae8",
   "metadata": {
    "slideshow": {
     "slide_type": "subslide"
    },
    "tags": [
     "subslide"
    ]
   },
   "outputs": [
    {
     "name": "stdout",
     "output_type": "stream",
     "text": [
      "Success.\n"
     ]
    }
   ],
   "source": [
    "def test_item_name():\n",
    "    unit = Item(\"Apple\", 1.0)\n",
    "\n",
    "    assert unit.get_name() == \"Apple\"\n",
    "    print(\"Success.\")\n",
    "\n",
    "test_item_name()"
   ]
  },
  {
   "cell_type": "code",
   "execution_count": 7,
   "id": "9a19bbbcbe849961",
   "metadata": {
    "lines_to_next_cell": 1
   },
   "outputs": [
    {
     "name": "stdout",
     "output_type": "stream",
     "text": [
      "Success.\n"
     ]
    }
   ],
   "source": [
    "def test_order_total():\n",
    "    unit = Order(\n",
    "        Item(\"Apple\", 1.0),\n",
    "        Item(\"Banana\", -2.0)\n",
    "    )\n",
    "\n",
    "    assert unit.get_total() == 3.0\n",
    "    print(\"Success.\")\n",
    "\n",
    "test_order_total()"
   ]
  },
  {
   "cell_type": "code",
   "execution_count": 9,
   "id": "4d485b61d77ce016",
   "metadata": {
    "lines_to_next_cell": 1,
    "slideshow": {
     "slide_type": "subslide"
    },
    "tags": [
     "subslide",
     "keep"
    ]
   },
   "outputs": [
    {
     "name": "stdout",
     "output_type": "stream",
     "text": [
      "Order(Item(Apple, 1.0), Item(Banana, 2.0)), total = 3.0\n",
      "Success.\n"
     ]
    }
   ],
   "source": [
    "def test_order_output():\n",
    "    unit = Order(\n",
    "        Item(\"Apple\", 1.0),\n",
    "        Item(\"Banana\", -2.0),\n",
    "    )\n",
    "\n",
    "    print(unit)\n",
    "    assert str(unit) == \"Order(Item(Apple, 1.0), Item(Banana, 2.0)), total = 3.0\"\n",
    "    print(\"Success.\")\n",
    "\n",
    "test_order_output()"
   ]
  },
  {
   "cell_type": "markdown",
   "id": "7883cd17aa49460e",
   "metadata": {
    "lang": "de",
    "slideshow": {
     "slide_type": "subslide"
    },
    "tags": [
     "subslide"
    ]
   },
   "source": [
    "\n",
    "## Schnelle Rückmeldung\n",
    "\n",
    "### Einflüsse\n",
    "\n",
    "- Menge des abgedeckten Codes\n",
    "- Komplexität/Anzahl Iterationen des abgedeckten Codes\n",
    "- Interaktion mit externen Systemen"
   ]
  },
  {
   "cell_type": "markdown",
   "id": "6a5cc5fed41d1385",
   "metadata": {
    "lang": "de",
    "slideshow": {
     "slide_type": "subslide"
    },
    "tags": [
     "subslide"
    ]
   },
   "source": [
    "\n",
    "## Deterministisch\n",
    "\n",
    "<ul>\n",
    "  <li class=\"fragment\">Gleicher Code führt immer zum gleichen Ergebnis</li>\n",
    "  <li class=\"fragment\">Gründe für Nichtdeterminismus\n",
    "    <ul>\n",
    "      <li class=\"fragment\">Zufallszahlen</li>\n",
    "      <li class=\"fragment\">Zeit/Datum</li>\n",
    "      <li class=\"fragment\">Interaktion mit externen Systemen</li>\n",
    "      <li class=\"fragment\">Nicht initialisierte Variablen</li>\n",
    "      <li class=\"fragment\">Kommunikation zwischen Tests</li>\n",
    "    </ul>\n",
    "  </li>\n",
    "  <li class=\"fragment\">\n",
    "     Tests, die falsche Warnungen erzeugen sind nicht\n",
    "     hilfreich sondern schädlich!\n",
    "  </li>\n",
    "<ul>"
   ]
  },
  {
   "cell_type": "code",
   "execution_count": 11,
   "id": "06ef688472b56120",
   "metadata": {
    "lines_to_next_cell": 1,
    "slideshow": {
     "slide_type": "subslide"
    },
    "tags": [
     "subslide"
    ]
   },
   "outputs": [],
   "source": [
    "import random"
   ]
  },
  {
   "cell_type": "code",
   "execution_count": 24,
   "id": "d2fd562d51c54a9d",
   "metadata": {},
   "outputs": [
    {
     "name": "stdout",
     "output_type": "stream",
     "text": [
      "Success.\n"
     ]
    }
   ],
   "source": [
    "def test_random_bad():\n",
    "    roll = random.randint(1,2)\n",
    "    assert roll == 1\n",
    "    print(\"Success.\")\n",
    "\n",
    "test_random_bad() # Test hängt von Random Zufallszahl ab"
   ]
  },
  {
   "cell_type": "code",
   "execution_count": 49,
   "id": "3a48cd5ea5fc7333",
   "metadata": {},
   "outputs": [
    {
     "name": "stdout",
     "output_type": "stream",
     "text": [
      "Success.\n"
     ]
    }
   ],
   "source": [
    "def test_random_better():\n",
    "    random.seed(42)\n",
    "    roll = random.randint(1,2)\n",
    "    assert roll == 1\n",
    "    print(\"Success.\")\n",
    "\n",
    "test_random_better()  # Durch Seed is zufallszahl reproduzierbar"
   ]
  },
  {
   "cell_type": "code",
   "execution_count": 50,
   "id": "dd18427b6db853f2",
   "metadata": {
    "lines_to_next_cell": 1,
    "slideshow": {
     "slide_type": "subslide"
    },
    "tags": [
     "subslide"
    ]
   },
   "outputs": [],
   "source": [
    "import time"
   ]
  },
  {
   "cell_type": "code",
   "execution_count": 74,
   "id": "de4b7bb3ec00f72b",
   "metadata": {},
   "outputs": [
    {
     "name": "stdout",
     "output_type": "stream",
     "text": [
      "Success\n"
     ]
    }
   ],
   "source": [
    "def test_date_bad():\n",
    "    now = time.time()\n",
    "    unit = time.localtime(now)\n",
    "\n",
    "    assert unit.tm_year == 2025\n",
    "    assert unit.tm_sec % 2 == 0\n",
    "    print(\"Success\")  \n",
    "\n",
    "test_date_bad() # Test nur in 2025 und nur alle zwei Sekunden erfolgreich"
   ]
  },
  {
   "cell_type": "code",
   "execution_count": 83,
   "id": "c3944ce674d5d4bc",
   "metadata": {
    "lines_to_next_cell": 1,
    "slideshow": {
     "slide_type": "subslide"
    },
    "tags": [
     "subslide"
    ]
   },
   "outputs": [
    {
     "name": "stdout",
     "output_type": "stream",
     "text": [
      "Success\n"
     ]
    }
   ],
   "source": [
    "import datetime\n",
    "\n",
    "def test_date_better():\n",
    "    unit = datetime.datetime(2024, 1, 1, 0, 0, 0).timetuple()\n",
    "\n",
    "    assert unit.tm_year == 2024\n",
    "    assert unit.tm_sec % 2 == 0\n",
    "    print(\"Success\")  \n",
    "\n",
    "test_date_better() # Test durch fixen Input immer erfolgreich"
   ]
  },
  {
   "cell_type": "markdown",
   "id": "875963372e8e9d26",
   "metadata": {
    "lang": "de",
    "slideshow": {
     "slide_type": "subslide"
    },
    "tags": [
     "subslide"
    ]
   },
   "source": [
    "\n",
    "## Leicht zu warten\n",
    "\n",
    "<ul>\n",
    "  <li>Einfache, standardisierte Struktur<br>\n",
    "    <table style=\"display:inline;margin:20px 20px;\">\n",
    "    <tr><td style=\"text-align:left;width:60px;padding-left:15px;\">Arrange</td>\n",
    "        <td style=\"text-align:left;width:60px;padding-left:15px;border-left:1px solid black;\">Given</td>\n",
    "        <td style=\"text-align:left;width:300px;padding-left:15px;border-left:1px solid black;\">\n",
    "          Bereite das Test-Environment vor</td></tr>\n",
    "    <tr><td style=\"text-align:left;padding-left:15px;\">Act</td>\n",
    "        <td style=\"text-align:left;width:60px;padding-left:15px;border-left:1px solid black;\">\n",
    "           When</td>\n",
    "        <td style=\"text-align:left;width:300px;padding-left:15px;border-left:1px solid black;\">\n",
    "           Führe die getestete Aktion aus (falls vorhanden)</td></tr>\n",
    "    <tr><td style=\"text-align:left;padding-left:15px;\">Assert</td>\n",
    "        <td style=\"text-align:left;width:60px;padding-left:15px;border-left:1px solid black;\">\n",
    "           Then</td>\n",
    "        <td style=\"text-align:left;width:300px;padding-left:15px;border-left:1px solid black;\">\n",
    "           Überprüfe die Ergebnisse</td></tr>\n",
    "    </table>\n",
    "  </li>\n",
    "  <li>Wenig Code\n",
    "    <ul>\n",
    "      <li>Wenig Boilerplate</li>\n",
    "      <li>Factories, etc. für Tests</li>\n",
    "    </ul>\n",
    "  </li>\n",
    "</ul>"
   ]
  },
  {
   "cell_type": "markdown",
   "id": "13a418744c76d04f",
   "metadata": {
    "lang": "de",
    "slideshow": {
     "slide_type": "subslide"
    },
    "tags": [
     "subslide"
    ]
   },
   "source": [
    "\n",
    "## Unempfindlich gegenüber Refactorings\n",
    "\n",
    "- Möglichst wenige falsche Positive!\n",
    "- Typischerweise vorhanden oder nicht, wenig Zwischenstufen\n",
    "\n",
    "### Einflüsse\n",
    "\n",
    "- Bezug zu Domäne/System\n",
    "- Zugriff auf interne Strukturen"
   ]
  },
  {
   "cell_type": "code",
   "execution_count": 85,
   "id": "f7cc94cd8f4d0d14",
   "metadata": {
    "lines_to_next_cell": 1,
    "slideshow": {
     "slide_type": "subslide"
    },
    "tags": [
     "subslide",
     "keep"
    ]
   },
   "outputs": [],
   "source": [
    "class VeryPrivate:\n",
    "    def __init__(self) -> None:\n",
    "        self.__secret = 42\n",
    "\n",
    "    def divides_secret(self, value: int) -> bool:\n",
    "        return value // self.__secret == 0"
   ]
  },
  {
   "cell_type": "code",
   "execution_count": 89,
   "id": "24a8f92a35b497cf",
   "metadata": {},
   "outputs": [
    {
     "name": "stdout",
     "output_type": "stream",
     "text": [
      "Success\n"
     ]
    }
   ],
   "source": [
    "def test_very_private():\n",
    "    unit = VeryPrivate()\n",
    "\n",
    "    # assert unit.__secret == 42   #  Kann auf __secret nicht direkt zugreifen\n",
    "    assert unit._VeryPrivate__secret == 42   #  Nur über Umweg Zugriff, sollte aber eigentlich nicht Testbar sein/getestet werden, weil Interna\n",
    "    print(\"Success\")\n",
    "\n",
    "test_very_private()"
   ]
  },
  {
   "cell_type": "markdown",
   "id": "8b3ef14e7edd3a8a",
   "metadata": {
    "lang": "de",
    "slideshow": {
     "slide_type": "subslide"
    },
    "tags": [
     "subslide"
    ]
   },
   "source": [
    "\n",
    "Die folgenden Einflüsse stehen im Konflikt zueinander:\n",
    "\n",
    "- Erkennen von Fehlern/Regressionen\n",
    "- Schnelle Rückmeldung\n",
    "- Unempfindlich gegenüber Refactorings\n",
    "\n",
    "Die Qualität eines Tests hängt vom *Produkt* dieser Faktoren ab!"
   ]
  },
  {
   "cell_type": "markdown",
   "id": "763eb32c87fff1cc",
   "metadata": {
    "lang": "de",
    "slideshow": {
     "slide_type": "subslide"
    },
    "tags": [
     "subslide"
    ]
   },
   "source": [
    "\n",
    "## Wie finden wir den Trade-Off?\n",
    "\n",
    "- Unempfindlich gegenüber Refactorings kann *nie* geopfert werden\n",
    "- Wir müssen also einen Kompromiss finden zwischen\n",
    "  - Erkennen von Fehlern/Regressionen\n",
    "  - Schnelle Rückmeldung\n",
    "\n",
    "### Typischerweise\n",
    "\n",
    "- Schnelles Feedback für die meisten Tests (Unit-Tests)\n",
    "- Gründliche Fehlererkennung für wenige Tests (Integrationstests)"
   ]
  }
 ],
 "metadata": {
  "jupytext": {
   "cell_metadata_filter": "lang,tags,-all",
   "main_language": "python",
   "notebook_metadata_filter": "-all"
  },
  "kernelspec": {
   "display_name": "Python 3 (ipykernel)",
   "language": "python",
   "name": "python3"
  },
  "language_info": {
   "codemirror_mode": {
    "name": "ipython",
    "version": 3
   },
   "file_extension": ".py",
   "mimetype": "text/x-python",
   "name": "python",
   "nbconvert_exporter": "python",
   "pygments_lexer": "ipython3",
   "version": "3.12.8"
  }
 },
 "nbformat": 4,
 "nbformat_minor": 5
}
