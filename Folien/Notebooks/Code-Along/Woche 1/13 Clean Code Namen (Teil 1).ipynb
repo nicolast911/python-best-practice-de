{
 "cells": [
  {
   "cell_type": "markdown",
   "id": "7fabdcd44a311a37",
   "metadata": {
    "lang": "de",
    "slideshow": {
     "slide_type": "slide"
    },
    "tags": [
     "slide"
    ]
   },
   "source": [
    "\n",
    "<img src=\"data:image/svg+xml;base64,PHN2ZyB4bWxucz0iaHR0cDovL3d3dy53My5vcmcvMjAwMC9zdmciIHhtbG5zOnhsaW5rPSJodHRw\n",
    "Oi8vd3d3LnczLm9yZy8xOTk5L3hsaW5rIiB3aWR0aD0iMTExLjE2MSIgaGVpZ2h0PSIxMzQuNjY4\n",
    "IiB2ZXJzaW9uPSIxLjAiPjxkZWZzPjxsaW5lYXJHcmFkaWVudCBpZD0iYyI+PHN0b3Agb2Zmc2V0\n",
    "PSIwIiBzdHlsZT0ic3RvcC1jb2xvcjojYjhiOGI4O3N0b3Atb3BhY2l0eTouNDk4MDM5MjIiLz48\n",
    "c3RvcCBvZmZzZXQ9IjEiIHN0eWxlPSJzdG9wLWNvbG9yOiM3ZjdmN2Y7c3RvcC1vcGFjaXR5OjAi\n",
    "Lz48L2xpbmVhckdyYWRpZW50PjxsaW5lYXJHcmFkaWVudCBpZD0iYSI+PHN0b3Agb2Zmc2V0PSIw\n",
    "IiBzdHlsZT0ic3RvcC1jb2xvcjojZmZkNDNiO3N0b3Atb3BhY2l0eToxIi8+PHN0b3Agb2Zmc2V0\n",
    "PSIxIiBzdHlsZT0ic3RvcC1jb2xvcjojZmZlODczO3N0b3Atb3BhY2l0eToxIi8+PC9saW5lYXJH\n",
    "cmFkaWVudD48bGluZWFyR3JhZGllbnQgaWQ9ImIiPjxzdG9wIG9mZnNldD0iMCIgc3R5bGU9InN0\n",
    "b3AtY29sb3I6IzVhOWZkNDtzdG9wLW9wYWNpdHk6MSIvPjxzdG9wIG9mZnNldD0iMSIgc3R5bGU9\n",
    "InN0b3AtY29sb3I6IzMwNjk5ODtzdG9wLW9wYWNpdHk6MSIvPjwvbGluZWFyR3JhZGllbnQ+PGxp\n",
    "bmVhckdyYWRpZW50IHhsaW5rOmhyZWY9IiNhIiBpZD0iZSIgeDE9IjE1MC45NjEiIHgyPSIxMTIu\n",
    "MDMxIiB5MT0iMTkyLjM1MiIgeTI9IjEzNy4yNzMiIGdyYWRpZW50VHJhbnNmb3JtPSJtYXRyaXgo\n",
    "LjU2MjU0IDAgMCAuNTY3OTcgLTE0Ljk5MSAtMTEuNzAyKSIgZ3JhZGllbnRVbml0cz0idXNlclNw\n",
    "YWNlT25Vc2UiLz48bGluZWFyR3JhZGllbnQgeGxpbms6aHJlZj0iI2IiIGlkPSJkIiB4MT0iMjYu\n",
    "NjQ5IiB4Mj0iMTM1LjY2NSIgeTE9IjIwLjYwNCIgeTI9IjExNC4zOTgiIGdyYWRpZW50VHJhbnNm\n",
    "b3JtPSJtYXRyaXgoLjU2MjU0IDAgMCAuNTY3OTcgLTE0Ljk5MSAtMTEuNzAyKSIgZ3JhZGllbnRV\n",
    "bml0cz0idXNlclNwYWNlT25Vc2UiLz48cmFkaWFsR3JhZGllbnQgeGxpbms6aHJlZj0iI2MiIGlk\n",
    "PSJmIiBjeD0iNjEuNTE5IiBjeT0iMTMyLjI4NiIgcj0iMjkuMDM3IiBmeD0iNjEuNTE5IiBmeT0i\n",
    "MTMyLjI4NiIgZ3JhZGllbnRUcmFuc2Zvcm09Im1hdHJpeCgwIC0uMjM5OTUgMS4wNTQ2NyAwIC04\n",
    "My43IDE0Mi40NjIpIiBncmFkaWVudFVuaXRzPSJ1c2VyU3BhY2VPblVzZSIvPjwvZGVmcz48cGF0\n",
    "aCBkPSJNNTQuOTE5IDBjLTQuNTg0LjAyMi04Ljk2MS40MTMtMTIuODEzIDEuMDk1QzMwLjc2IDMu\n",
    "MDk5IDI4LjcgNy4yOTUgMjguNyAxNS4wMzJ2MTAuMjE5aDI2LjgxM3YzLjQwNkgxOC42MzhjLTcu\n",
    "NzkzIDAtMTQuNjE2IDQuNjg0LTE2Ljc1IDEzLjU5NC0yLjQ2MiAxMC4yMTMtMi41NzEgMTYuNTg2\n",
    "IDAgMjcuMjUgMS45MDUgNy45MzggNi40NTcgMTMuNTk0IDE0LjI1IDEzLjU5NGg5LjIxOHYtMTIu\n",
    "MjVjMC04Ljg1IDcuNjU3LTE2LjY1NyAxNi43NS0xNi42NTdoMjYuNzgyYzcuNDU0IDAgMTMuNDA2\n",
    "LTYuMTM4IDEzLjQwNi0xMy42MjV2LTI1LjUzYzAtNy4yNjctNi4xMy0xMi43MjYtMTMuNDA2LTEz\n",
    "LjkzOEM2NC4yODIuMzI4IDU5LjUwMi0uMDIgNTQuOTE4IDBtLTE0LjUgOC4yMmMyLjc3IDAgNS4w\n",
    "MzEgMi4yOTggNS4wMzEgNS4xMjUgMCAyLjgxNi0yLjI2MiA1LjA5My01LjAzMSA1LjA5My0yLjc4\n",
    "IDAtNS4wMzEtMi4yNzctNS4wMzEtNS4wOTMgMC0yLjgyNyAyLjI1MS01LjEyNSA1LjAzLTUuMTI1\n",
    "IiBzdHlsZT0iZmlsbDp1cmwoI2QpO2ZpbGwtb3BhY2l0eToxIi8+PHBhdGggZD0iTTg1LjYzOCAy\n",
    "OC42NTd2MTEuOTA2YzAgOS4yMzEtNy44MjYgMTctMTYuNzUgMTdINDIuMTA2Yy03LjMzNiAwLTEz\n",
    "LjQwNiA2LjI3OS0xMy40MDYgMTMuNjI1Vjk2LjcyYzAgNy4yNjYgNi4zMTkgMTEuNTQgMTMuNDA2\n",
    "IDEzLjYyNSA4LjQ4OCAyLjQ5NSAxNi42MjcgMi45NDYgMjYuNzgyIDAgNi43NS0xLjk1NSAxMy40\n",
    "MDYtNS44ODggMTMuNDA2LTEzLjYyNVY4Ni41SDU1LjUxM3YtMy40MDVIOTUuN2M3Ljc5MyAwIDEw\n",
    "LjY5Ni01LjQzNiAxMy40MDYtMTMuNTk0IDIuOC04LjM5OSAyLjY4LTE2LjQ3NiAwLTI3LjI1LTEu\n",
    "OTI1LTcuNzU4LTUuNjA0LTEzLjU5NC0xMy40MDYtMTMuNTk0ek03MC41NzUgOTMuMzEzYzIuNzgg\n",
    "MCA1LjAzMSAyLjI3OCA1LjAzMSA1LjA5NCAwIDIuODI3LTIuMjUxIDUuMTI1LTUuMDMxIDUuMTI1\n",
    "LTIuNzcgMC01LjAzMS0yLjI5OC01LjAzMS01LjEyNSAwLTIuODE2IDIuMjYxLTUuMDk0IDUuMDMx\n",
    "LTUuMDk0IiBzdHlsZT0iZmlsbDp1cmwoI2UpO2ZpbGwtb3BhY2l0eToxIi8+PGVsbGlwc2UgY3g9\n",
    "IjU1LjgxNyIgY3k9IjEyNy43MDEiIHJ4PSIzNS45MzEiIHJ5PSI2Ljk2NyIgc3R5bGU9Im9wYWNp\n",
    "dHk6LjQ0MzgyO2ZpbGw6dXJsKCNmKTtmaWxsLW9wYWNpdHk6MTtmaWxsLXJ1bGU6bm9uemVybztz\n",
    "dHJva2U6bm9uZTtzdHJva2Utd2lkdGg6MTUuNDE3NDtzdHJva2UtbWl0ZXJsaW1pdDo0O3N0cm9r\n",
    "ZS1kYXNoYXJyYXk6bm9uZTtzdHJva2Utb3BhY2l0eToxIi8+PC9zdmc+\n",
    "\"\n",
    "     style=\"display:block;margin:auto;width:10%\" alt=\"Python Logo\"/>\n",
    "<br>\n",
    "\n",
    "<div style=\"text-align:center; font-size:200%;\">\n",
    " <b>Clean Code: Namen (Teil 1)</b>\n",
    "</div>\n",
    "<br/>\n",
    "<div style=\"text-align:center;\">Dr. Matthias Hölzl</div>\n",
    "<br/>"
   ]
  },
  {
   "cell_type": "markdown",
   "id": "59d78750220348ad",
   "metadata": {
    "lang": "de",
    "slideshow": {
     "slide_type": "slide"
    },
    "tags": [
     "slide"
    ]
   },
   "source": [
    "\n",
    "# Namen\n",
    "\n",
    "Unterschätze niemals die Macht von Namen!"
   ]
  },
  {
   "cell_type": "markdown",
   "id": "a45b9ba2e4ad8fc1",
   "metadata": {
    "lang": "de",
    "lines_to_next_cell": 2,
    "slideshow": {
     "slide_type": "subslide"
    },
    "tags": [
     "subslide"
    ]
   },
   "source": [
    "\n",
    "Namen sind ein mächtiges Kommunikationsmittel.\n",
    "- Sie sind überall im Programm zu finden\n",
    "- Sie verbinden den Code mit Domänen-Konzepten."
   ]
  },
  {
   "cell_type": "code",
   "execution_count": 2,
   "id": "4c61cb68f57f2291",
   "metadata": {
    "tags": [
     "keep"
    ]
   },
   "outputs": [],
   "source": [
    "def recipes(a: float, b: float) -> float:\n",
    "    if b > 40.0:\n",
    "        raise ValueError(\"Not allowed!\")\n",
    "    return 40.0 * a + 60.0 * b"
   ]
  },
  {
   "cell_type": "code",
   "execution_count": 3,
   "id": "ff614090c2344c53",
   "metadata": {
    "tags": [
     "keep"
    ]
   },
   "outputs": [
    {
     "data": {
      "text/plain": [
       "1810.0"
      ]
     },
     "execution_count": 3,
     "metadata": {},
     "output_type": "execute_result"
    }
   ],
   "source": [
    "recipes(40.0, 3.5)"
   ]
  },
  {
   "cell_type": "code",
   "execution_count": 4,
   "id": "acff40527cd622eb",
   "metadata": {
    "slideshow": {
     "slide_type": "subslide"
    },
    "tags": [
     "subslide",
     "keep"
    ]
   },
   "outputs": [],
   "source": [
    "REGULAR_PAY_PER_HOUR = 40.0\n",
    "OVERTIME_PAY_PER_HOUR = 60.0\n",
    "MAX_ALLOWED_OVERTIME = 40.0"
   ]
  },
  {
   "cell_type": "code",
   "execution_count": 5,
   "id": "f25d7524f90e5e36",
   "metadata": {
    "slideshow": {
     "slide_type": "subslide"
    },
    "tags": [
     "subslide",
     "keep"
    ]
   },
   "outputs": [],
   "source": [
    "def compute_total_salary(\n",
    "    regular_hours_worked: float, overtime_hours_worked: float\n",
    ") -> float:\n",
    "    if overtime_hours_worked > MAX_ALLOWED_OVERTIME:\n",
    "        raise ValueError(\n",
    "            f\"Not allowed to work {overtime_hours_worked:.1f} hours overtime!\"\n",
    "        )\n",
    "    regular_pay = regular_hours_worked * REGULAR_PAY_PER_HOUR\n",
    "    overtime_pay = overtime_hours_worked * OVERTIME_PAY_PER_HOUR\n",
    "    return regular_pay + overtime_pay"
   ]
  },
  {
   "cell_type": "code",
   "execution_count": 8,
   "id": "2192bef8697ea2ec",
   "metadata": {
    "tags": [
     "keep"
    ]
   },
   "outputs": [
    {
     "data": {
      "text/plain": [
       "1810.0"
      ]
     },
     "execution_count": 8,
     "metadata": {},
     "output_type": "execute_result"
    }
   ],
   "source": [
    "compute_total_salary(40.0, 3.5)"
   ]
  },
  {
   "cell_type": "code",
   "execution_count": 10,
   "id": "3bdd0cc1f45ef767",
   "metadata": {
    "tags": [
     "keep"
    ]
   },
   "outputs": [],
   "source": [
    "# compute_total_salary(20.0, 50.0)"
   ]
  },
  {
   "cell_type": "code",
   "execution_count": 11,
   "id": "721571afddd72f93",
   "metadata": {
    "slideshow": {
     "slide_type": "subslide"
    },
    "tags": [
     "keep",
     "subslide"
    ]
   },
   "outputs": [],
   "source": [
    "from dataclasses import field, dataclass"
   ]
  },
  {
   "cell_type": "code",
   "execution_count": 12,
   "id": "f76ed20e35d4205c",
   "metadata": {
    "tags": [
     "keep"
    ]
   },
   "outputs": [],
   "source": [
    "@dataclass\n",
    "class BadNames:  # type: ignore\n",
    "    the_list: list\n",
    "\n",
    "    def get_them(self):\n",
    "        list1 = []\n",
    "        for x in self.the_list:\n",
    "            if x[1] == 1:\n",
    "                list1.append(x)\n",
    "        return list1"
   ]
  },
  {
   "cell_type": "code",
   "execution_count": 13,
   "id": "749ad3be0fd6c6d2",
   "metadata": {
    "slideshow": {
     "slide_type": "subslide"
    },
    "tags": [
     "keep",
     "subslide"
    ]
   },
   "outputs": [
    {
     "data": {
      "text/plain": [
       "[(2, 1, 0)]"
      ]
     },
     "execution_count": 13,
     "metadata": {},
     "output_type": "execute_result"
    }
   ],
   "source": [
    "recipe = BadNames([(i, 0, 0) for i in range(64)])\n",
    "recipe.the_list[2] = (2, 1, 0)\n",
    "recipe.get_them()"
   ]
  },
  {
   "cell_type": "markdown",
   "id": "a76b8ebf74420e73",
   "metadata": {
    "lang": "de",
    "slideshow": {
     "slide_type": "subslide"
    },
    "tags": [
     "subslide"
    ]
   },
   "source": [
    "\n",
    "<img src=\"img/minesweeper.png\" style=\"display:block;margin:auto;width:20%\">"
   ]
  },
  {
   "cell_type": "markdown",
   "id": "8c799b0ea602d469",
   "metadata": {
    "lang": "de",
    "slideshow": {
     "slide_type": "subslide"
    },
    "tags": [
     "subslide"
    ]
   },
   "source": [
    "\n",
    "Siehe\n",
    "- `bad_names_01.ipynb` für ein Notebook und\n",
    "- `bad_names_01.py` für ein Python-Modul\n",
    "zum Refactoring dieses Beispiels."
   ]
  },
  {
   "cell_type": "code",
   "execution_count": 14,
   "id": "70f9987ea3d29da2",
   "metadata": {
    "slideshow": {
     "slide_type": "subslide"
    },
    "tags": [
     "keep",
     "subslide"
    ]
   },
   "outputs": [],
   "source": [
    "from enum import IntEnum"
   ]
  },
  {
   "cell_type": "code",
   "execution_count": 15,
   "id": "0be2ff193513f2bc",
   "metadata": {
    "tags": [
     "keep"
    ]
   },
   "outputs": [],
   "source": [
    "class Status(IntEnum):\n",
    "    FLAGGED = 1\n",
    "    UNFLAGGED = 2"
   ]
  },
  {
   "cell_type": "code",
   "execution_count": 19,
   "id": "883040ab03e490be",
   "metadata": {
    "slideshow": {
     "slide_type": "subslide"
    },
    "tags": [
     "keep",
     "subslide"
    ]
   },
   "outputs": [],
   "source": [
    "@dataclass\n",
    "class Cell:\n",
    "    index: int\n",
    "    status: Status = Status.UNFLAGGED\n",
    "    bomb_count: int = 0"
   ]
  },
  {
   "cell_type": "code",
   "execution_count": 20,
   "id": "e09a8f44d91850d0",
   "metadata": {
    "tags": [
     "keep"
    ]
   },
   "outputs": [],
   "source": [
    "Board = list[Cell]"
   ]
  },
  {
   "cell_type": "code",
   "execution_count": 21,
   "id": "dc02a480fcc5259b",
   "metadata": {
    "tags": [
     "keep"
    ]
   },
   "outputs": [],
   "source": [
    "def make_board(size=64) -> Board:\n",
    "    return [Cell(index) for index in range(size)]"
   ]
  },
  {
   "cell_type": "code",
   "execution_count": 22,
   "id": "4c13fc34154b1aef",
   "metadata": {
    "slideshow": {
     "slide_type": "subslide"
    },
    "tags": [
     "keep",
     "subslide"
    ]
   },
   "outputs": [],
   "source": [
    "@dataclass\n",
    "class MineSweeper:\n",
    "    board: Board = field(default_factory=make_board)\n",
    "\n",
    "    def get_flagged_cells(self):\n",
    "        \"\"\"Return all flagged cells.\"\"\"\n",
    "        return [cell for cell in self.board if cell.status == Status.FLAGGED]"
   ]
  },
  {
   "cell_type": "code",
   "execution_count": 23,
   "id": "5b43eda7c0fa365f",
   "metadata": {
    "tags": [
     "keep"
    ]
   },
   "outputs": [
    {
     "data": {
      "text/plain": [
       "[Cell(index=2, status=<Status.FLAGGED: 1>, bomb_count=0)]"
      ]
     },
     "execution_count": 23,
     "metadata": {},
     "output_type": "execute_result"
    }
   ],
   "source": [
    "game = MineSweeper()\n",
    "game.board[2].status = Status.FLAGGED\n",
    "game.get_flagged_cells()"
   ]
  },
  {
   "cell_type": "markdown",
   "id": "977602db3227f5d0",
   "metadata": {
    "lang": "de",
    "lines_to_next_cell": 2,
    "slideshow": {
     "slide_type": "subslide"
    },
    "tags": [
     "subslide"
    ]
   },
   "source": [
    "\n",
    "## Was ist ein guter Name?\n",
    "\n",
    "- Ausdrucksstark (nicht notwendigerweise bequem)\n",
    "- Präzise (sagt was er meint, meint was er sagt)\n",
    "- Beantwortet\n",
    "  - Warum gibt es diese Variable (Funktion, Klasse, Modul, Objekt...)?\n",
    "  - Was macht sie?\n",
    "  - Wie wird sie verwendet?\n",
    "- Kommuniziert die Intention (ist \"intention revealing\")\n",
    "\n",
    "Gute Namen sind schwer zu finden!"
   ]
  },
  {
   "cell_type": "markdown",
   "id": "5a9c62c5cf5a64d2",
   "metadata": {
    "lang": "de",
    "slideshow": {
     "slide_type": "subslide"
    },
    "tags": [
     "subslide"
    ]
   },
   "source": [
    "\n",
    "## Was ist ein schlechter Name?\n",
    "\n",
    "- Braucht einen Kommentar\n",
    "- Kann nur verstanden werden, wenn man sich den Code ansieht\n",
    "- Verbreitet Disinformation\n",
    "- Entspricht nicht den Namensregeln"
   ]
  },
  {
   "cell_type": "markdown",
   "id": "81a27aea97427222",
   "metadata": {
    "lang": "de",
    "slideshow": {
     "slide_type": "slide"
    },
    "tags": [
     "slide"
    ]
   },
   "source": [
    "\n",
    "## Workshop: Rezepte\n",
    "\n",
    "Das folgende Programm enthält Klassen, mit denen sich ein Rezeptbuch verwalten\n",
    "lässt. Leider hat der Programmierer sehr schlechte Namen verwendet, dadurch\n",
    "ist das Programm schwer zu verstehen.\n",
    "\n",
    "Ändern Sie die Namen so, dass das Programm leichter verständlich wird.\n",
    "\n",
    "#### Hinweise\n",
    "\n",
    "- Verwenden Sie die Refactoring-Tools Ihrer Entwicklungsumgebung\n",
    "- Sie können dazu auch die Python-Version des Workshops (im Ordner `Python`)\n",
    "  verwenden, falls Ihre Entwicklungsumgebung Notebooks nicht unterstützt."
   ]
  },
  {
   "cell_type": "code",
   "execution_count": 24,
   "id": "1e28c81290f9ba8d",
   "metadata": {
    "slideshow": {
     "slide_type": "subslide"
    },
    "tags": [
     "keep",
     "subslide"
    ]
   },
   "outputs": [],
   "source": [
    "from dataclasses import dataclass, field\n",
    "from typing import Optional"
   ]
  },
  {
   "cell_type": "code",
   "execution_count": 27,
   "id": "0c0ea9a0ddbb9843",
   "metadata": {
    "lang": "de",
    "tags": [
     "keep"
    ]
   },
   "outputs": [],
   "source": [
    "@dataclass\n",
    "class Recipe:  # ein Rezept\n",
    "    name: str  # Name\n",
    "    ingredients: list[str]  # Liste der Zutaten\n",
    "    steps: str  # Anweisungen\n",
    "    rating: Optional[int] = None  # Bewertung"
   ]
  },
  {
   "cell_type": "code",
   "execution_count": null,
   "id": "886970dc131c453e",
   "metadata": {
    "slideshow": {
     "slide_type": "subslide"
    },
    "tags": [
     "keep",
     "subslide"
    ]
   },
   "outputs": [],
   "source": [
    "@dataclass\n",
    "class RecipeCollection:\n",
    "    recipes: list[Recipe] = field(default_factory=list)\n",
    "\n",
    "    def add_recipe(self, recipe: Recipe):\n",
    "        self.recipes.append(recipe)\n",
    "\n",
    "    def get_recipe(self, name: str) -> Recipe:\n",
    "        for recipe in self.recipes:\n",
    "            if recipe.name == name:\n",
    "                return recipe\n",
    "        raise KeyError(f\"recipe {name} not found!\")\n",
    "\n",
    "    def get_recipes_by_ingredients(self, ingredients: str) -> list[Recipe]:\n",
    "        result = []\n",
    "        for recipe in self.recipes:\n",
    "            if ingredients in recipe.ingredients:\n",
    "                result.append(recipe.ingredients)\n",
    "        return result\n",
    "\n",
    "    def get_recipes_by_rating(self, rating: int) -> list[Recipe]:\n",
    "        result = []\n",
    "        for recipe in self.recipes:\n",
    "            if recipe.rating == rating:\n",
    "                result.append(recipe)\n",
    "        return result\n",
    "\n",
    "    def get_recipes_with_minimum_rating(self, rating: int) -> list[Recipe]:\n",
    "        result = []\n",
    "        for recipe in self.recipes:\n",
    "            if recipe.rating is None or recipe.rating >= rating:\n",
    "                result.append(recipe)\n",
    "        return result"
   ]
  },
  {
   "cell_type": "code",
   "execution_count": 39,
   "id": "f3676cea",
   "metadata": {},
   "outputs": [
    {
     "name": "stdout",
     "output_type": "stream",
     "text": [
      "RecipeCollection(recipes=[Recipe(name='Schnitzel and Potatoes',\n",
      "                                 ingredients=['Schnitzel', 'Potatoes'],\n",
      "                                 steps='Peel potatoes, cook potatoes, fry '\n",
      "                                       'schnitzel, serve',\n",
      "                                 rating=4),\n",
      "                          Recipe(name='Pizza Fungi',\n",
      "                                 ingredients=['Flour',\n",
      "                                              'Water',\n",
      "                                              'Salt',\n",
      "                                              'Yeast',\n",
      "                                              'Tomate sauce',\n",
      "                                              'Mushrooms'],\n",
      "                                 steps='Make dough, slice mushrooms, put '\n",
      "                                       'together, bake pizza',\n",
      "                                 rating=5)])\n"
     ]
    }
   ],
   "source": [
    "cook_book = RecipeCollection()\n",
    "recipe01 = Recipe(name=\"Schnitzel and Potatoes\",\n",
    "                  ingredients=[\"Schnitzel\", \"Potatoes\"],\n",
    "                  steps=\"Peel potatoes, cook potatoes, fry schnitzel, serve\",\n",
    "                  rating = 4)\n",
    "\n",
    "recipe02 = Recipe(name=\"Pizza Fungi\",\n",
    "                  ingredients=[\"Flour\", \"Water\", \"Salt\", \"Yeast\", \"Tomate sauce\", \"Mushrooms\"],\n",
    "                  steps=\"Make dough, slice mushrooms, put together, bake pizza\",\n",
    "                  rating = 5)\n",
    "\n",
    "cook_book.add_recipe(recipe01)\n",
    "cook_book.add_recipe(recipe02)\n",
    "\n",
    "from pprint import pprint\n",
    "pprint(cook_book)"
   ]
  },
  {
   "cell_type": "code",
   "execution_count": 40,
   "id": "42dee858",
   "metadata": {},
   "outputs": [
    {
     "data": {
      "text/plain": [
       "Recipe(name='Pizza Fungi', ingredients=['Flour', 'Water', 'Salt', 'Yeast', 'Tomate sauce', 'Mushrooms'], steps='Make dough, slice mushrooms, put together, bake pizza', rating=5)"
      ]
     },
     "execution_count": 40,
     "metadata": {},
     "output_type": "execute_result"
    }
   ],
   "source": [
    "cook_book.get_recipe(\"Pizza Fungi\")"
   ]
  },
  {
   "cell_type": "code",
   "execution_count": 41,
   "id": "e621438b",
   "metadata": {},
   "outputs": [
    {
     "data": {
      "text/plain": [
       "[['Schnitzel', 'Potatoes']]"
      ]
     },
     "execution_count": 41,
     "metadata": {},
     "output_type": "execute_result"
    }
   ],
   "source": [
    "cook_book.get_recipes_by_ingredients(\"Schnitzel\")  #?? So gedacht? Oder sollte ganzes Rezept kommen?"
   ]
  },
  {
   "cell_type": "code",
   "execution_count": 43,
   "id": "d7ff6d54",
   "metadata": {},
   "outputs": [
    {
     "data": {
      "text/plain": [
       "[Recipe(name='Pizza Fungi', ingredients=['Flour', 'Water', 'Salt', 'Yeast', 'Tomate sauce', 'Mushrooms'], steps='Make dough, slice mushrooms, put together, bake pizza', rating=5)]"
      ]
     },
     "execution_count": 43,
     "metadata": {},
     "output_type": "execute_result"
    }
   ],
   "source": [
    "cook_book.get_recipes_by_rating(5)"
   ]
  },
  {
   "cell_type": "code",
   "execution_count": 47,
   "id": "0e9c25b4",
   "metadata": {},
   "outputs": [
    {
     "data": {
      "text/plain": [
       "[Recipe(name='Schnitzel and Potatoes', ingredients=['Schnitzel', 'Potatoes'], steps='Peel potatoes, cook potatoes, fry schnitzel, serve', rating=4),\n",
       " Recipe(name='Pizza Fungi', ingredients=['Flour', 'Water', 'Salt', 'Yeast', 'Tomate sauce', 'Mushrooms'], steps='Make dough, slice mushrooms, put together, bake pizza', rating=5)]"
      ]
     },
     "execution_count": 47,
     "metadata": {},
     "output_type": "execute_result"
    }
   ],
   "source": [
    "cook_book.get_recipes_with_minimum_rating(4)"
   ]
  }
 ],
 "metadata": {
  "jupytext": {
   "cell_metadata_filter": "lang,tags,-all",
   "main_language": "python",
   "notebook_metadata_filter": "-all"
  },
  "kernelspec": {
   "display_name": "cam-basic",
   "language": "python",
   "name": "python3"
  },
  "language_info": {
   "codemirror_mode": {
    "name": "ipython",
    "version": 3
   },
   "file_extension": ".py",
   "mimetype": "text/x-python",
   "name": "python",
   "nbconvert_exporter": "python",
   "pygments_lexer": "ipython3",
   "version": "3.12.8"
  }
 },
 "nbformat": 4,
 "nbformat_minor": 5
}
