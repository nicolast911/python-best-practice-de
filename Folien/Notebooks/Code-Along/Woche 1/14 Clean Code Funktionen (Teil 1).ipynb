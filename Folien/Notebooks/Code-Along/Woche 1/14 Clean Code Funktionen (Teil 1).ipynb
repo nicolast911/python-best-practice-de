{
 "cells": [
  {
   "cell_type": "markdown",
   "id": "6e9b91a6f35ae38a",
   "metadata": {
    "lang": "de",
    "slideshow": {
     "slide_type": "slide"
    },
    "tags": [
     "slide"
    ]
   },
   "source": [
    "\n",
    "<img src=\"data:image/svg+xml;base64,PHN2ZyB4bWxucz0iaHR0cDovL3d3dy53My5vcmcvMjAwMC9zdmciIHhtbG5zOnhsaW5rPSJodHRw\n",
    "Oi8vd3d3LnczLm9yZy8xOTk5L3hsaW5rIiB3aWR0aD0iMTExLjE2MSIgaGVpZ2h0PSIxMzQuNjY4\n",
    "IiB2ZXJzaW9uPSIxLjAiPjxkZWZzPjxsaW5lYXJHcmFkaWVudCBpZD0iYyI+PHN0b3Agb2Zmc2V0\n",
    "PSIwIiBzdHlsZT0ic3RvcC1jb2xvcjojYjhiOGI4O3N0b3Atb3BhY2l0eTouNDk4MDM5MjIiLz48\n",
    "c3RvcCBvZmZzZXQ9IjEiIHN0eWxlPSJzdG9wLWNvbG9yOiM3ZjdmN2Y7c3RvcC1vcGFjaXR5OjAi\n",
    "Lz48L2xpbmVhckdyYWRpZW50PjxsaW5lYXJHcmFkaWVudCBpZD0iYSI+PHN0b3Agb2Zmc2V0PSIw\n",
    "IiBzdHlsZT0ic3RvcC1jb2xvcjojZmZkNDNiO3N0b3Atb3BhY2l0eToxIi8+PHN0b3Agb2Zmc2V0\n",
    "PSIxIiBzdHlsZT0ic3RvcC1jb2xvcjojZmZlODczO3N0b3Atb3BhY2l0eToxIi8+PC9saW5lYXJH\n",
    "cmFkaWVudD48bGluZWFyR3JhZGllbnQgaWQ9ImIiPjxzdG9wIG9mZnNldD0iMCIgc3R5bGU9InN0\n",
    "b3AtY29sb3I6IzVhOWZkNDtzdG9wLW9wYWNpdHk6MSIvPjxzdG9wIG9mZnNldD0iMSIgc3R5bGU9\n",
    "InN0b3AtY29sb3I6IzMwNjk5ODtzdG9wLW9wYWNpdHk6MSIvPjwvbGluZWFyR3JhZGllbnQ+PGxp\n",
    "bmVhckdyYWRpZW50IHhsaW5rOmhyZWY9IiNhIiBpZD0iZSIgeDE9IjE1MC45NjEiIHgyPSIxMTIu\n",
    "MDMxIiB5MT0iMTkyLjM1MiIgeTI9IjEzNy4yNzMiIGdyYWRpZW50VHJhbnNmb3JtPSJtYXRyaXgo\n",
    "LjU2MjU0IDAgMCAuNTY3OTcgLTE0Ljk5MSAtMTEuNzAyKSIgZ3JhZGllbnRVbml0cz0idXNlclNw\n",
    "YWNlT25Vc2UiLz48bGluZWFyR3JhZGllbnQgeGxpbms6aHJlZj0iI2IiIGlkPSJkIiB4MT0iMjYu\n",
    "NjQ5IiB4Mj0iMTM1LjY2NSIgeTE9IjIwLjYwNCIgeTI9IjExNC4zOTgiIGdyYWRpZW50VHJhbnNm\n",
    "b3JtPSJtYXRyaXgoLjU2MjU0IDAgMCAuNTY3OTcgLTE0Ljk5MSAtMTEuNzAyKSIgZ3JhZGllbnRV\n",
    "bml0cz0idXNlclNwYWNlT25Vc2UiLz48cmFkaWFsR3JhZGllbnQgeGxpbms6aHJlZj0iI2MiIGlk\n",
    "PSJmIiBjeD0iNjEuNTE5IiBjeT0iMTMyLjI4NiIgcj0iMjkuMDM3IiBmeD0iNjEuNTE5IiBmeT0i\n",
    "MTMyLjI4NiIgZ3JhZGllbnRUcmFuc2Zvcm09Im1hdHJpeCgwIC0uMjM5OTUgMS4wNTQ2NyAwIC04\n",
    "My43IDE0Mi40NjIpIiBncmFkaWVudFVuaXRzPSJ1c2VyU3BhY2VPblVzZSIvPjwvZGVmcz48cGF0\n",
    "aCBkPSJNNTQuOTE5IDBjLTQuNTg0LjAyMi04Ljk2MS40MTMtMTIuODEzIDEuMDk1QzMwLjc2IDMu\n",
    "MDk5IDI4LjcgNy4yOTUgMjguNyAxNS4wMzJ2MTAuMjE5aDI2LjgxM3YzLjQwNkgxOC42MzhjLTcu\n",
    "NzkzIDAtMTQuNjE2IDQuNjg0LTE2Ljc1IDEzLjU5NC0yLjQ2MiAxMC4yMTMtMi41NzEgMTYuNTg2\n",
    "IDAgMjcuMjUgMS45MDUgNy45MzggNi40NTcgMTMuNTk0IDE0LjI1IDEzLjU5NGg5LjIxOHYtMTIu\n",
    "MjVjMC04Ljg1IDcuNjU3LTE2LjY1NyAxNi43NS0xNi42NTdoMjYuNzgyYzcuNDU0IDAgMTMuNDA2\n",
    "LTYuMTM4IDEzLjQwNi0xMy42MjV2LTI1LjUzYzAtNy4yNjctNi4xMy0xMi43MjYtMTMuNDA2LTEz\n",
    "LjkzOEM2NC4yODIuMzI4IDU5LjUwMi0uMDIgNTQuOTE4IDBtLTE0LjUgOC4yMmMyLjc3IDAgNS4w\n",
    "MzEgMi4yOTggNS4wMzEgNS4xMjUgMCAyLjgxNi0yLjI2MiA1LjA5My01LjAzMSA1LjA5My0yLjc4\n",
    "IDAtNS4wMzEtMi4yNzctNS4wMzEtNS4wOTMgMC0yLjgyNyAyLjI1MS01LjEyNSA1LjAzLTUuMTI1\n",
    "IiBzdHlsZT0iZmlsbDp1cmwoI2QpO2ZpbGwtb3BhY2l0eToxIi8+PHBhdGggZD0iTTg1LjYzOCAy\n",
    "OC42NTd2MTEuOTA2YzAgOS4yMzEtNy44MjYgMTctMTYuNzUgMTdINDIuMTA2Yy03LjMzNiAwLTEz\n",
    "LjQwNiA2LjI3OS0xMy40MDYgMTMuNjI1Vjk2LjcyYzAgNy4yNjYgNi4zMTkgMTEuNTQgMTMuNDA2\n",
    "IDEzLjYyNSA4LjQ4OCAyLjQ5NSAxNi42MjcgMi45NDYgMjYuNzgyIDAgNi43NS0xLjk1NSAxMy40\n",
    "MDYtNS44ODggMTMuNDA2LTEzLjYyNVY4Ni41SDU1LjUxM3YtMy40MDVIOTUuN2M3Ljc5MyAwIDEw\n",
    "LjY5Ni01LjQzNiAxMy40MDYtMTMuNTk0IDIuOC04LjM5OSAyLjY4LTE2LjQ3NiAwLTI3LjI1LTEu\n",
    "OTI1LTcuNzU4LTUuNjA0LTEzLjU5NC0xMy40MDYtMTMuNTk0ek03MC41NzUgOTMuMzEzYzIuNzgg\n",
    "MCA1LjAzMSAyLjI3OCA1LjAzMSA1LjA5NCAwIDIuODI3LTIuMjUxIDUuMTI1LTUuMDMxIDUuMTI1\n",
    "LTIuNzcgMC01LjAzMS0yLjI5OC01LjAzMS01LjEyNSAwLTIuODE2IDIuMjYxLTUuMDk0IDUuMDMx\n",
    "LTUuMDk0IiBzdHlsZT0iZmlsbDp1cmwoI2UpO2ZpbGwtb3BhY2l0eToxIi8+PGVsbGlwc2UgY3g9\n",
    "IjU1LjgxNyIgY3k9IjEyNy43MDEiIHJ4PSIzNS45MzEiIHJ5PSI2Ljk2NyIgc3R5bGU9Im9wYWNp\n",
    "dHk6LjQ0MzgyO2ZpbGw6dXJsKCNmKTtmaWxsLW9wYWNpdHk6MTtmaWxsLXJ1bGU6bm9uemVybztz\n",
    "dHJva2U6bm9uZTtzdHJva2Utd2lkdGg6MTUuNDE3NDtzdHJva2UtbWl0ZXJsaW1pdDo0O3N0cm9r\n",
    "ZS1kYXNoYXJyYXk6bm9uZTtzdHJva2Utb3BhY2l0eToxIi8+PC9zdmc+\n",
    "\"\n",
    "     style=\"display:block;margin:auto;width:10%\" alt=\"Python Logo\"/>\n",
    "<br>\n",
    "\n",
    "<div style=\"text-align:center; font-size:200%;\">\n",
    " <b>Clean Code: Funktionen (Teil 1)</b>\n",
    "</div>\n",
    "<br/>\n",
    "<div style=\"text-align:center;\">Dr. Matthias Hölzl</div>\n",
    "<br/>"
   ]
  },
  {
   "cell_type": "markdown",
   "id": "037d049fce81e05a",
   "metadata": {
    "lang": "de",
    "slideshow": {
     "slide_type": "slide"
    },
    "tags": [
     "slide"
    ]
   },
   "source": [
    "\n",
    "# Clean Code: Funktionen\n",
    "\n",
    "Fasse Operationen, die logisch zusammengehören, als sorgfältig benannte\n",
    "Funktionen zusammen\n",
    "\n",
    "- Besser lesbar\n",
    "- Einfacher zu testen\n",
    "- Wird eher wiederverwendet\n",
    "- Fehler sind weniger wahrscheinlich"
   ]
  },
  {
   "cell_type": "markdown",
   "id": "434fea343edae7d1",
   "metadata": {
    "lang": "de",
    "slideshow": {
     "slide_type": "subslide"
    },
    "tags": [
     "subslide"
    ]
   },
   "source": [
    "\n",
    "## Die 1. Clean Code Regel für Funktionen\n",
    "\n",
    "- Funktionen sollten kurz sein\n",
    "- Kürzer als man meint!\n",
    "- Maximal 4 Zeilen!"
   ]
  },
  {
   "cell_type": "markdown",
   "id": "766bb046cdaafc9f",
   "metadata": {
    "lang": "de",
    "slideshow": {
     "slide_type": "subslide"
    },
    "tags": [
     "subslide"
    ]
   },
   "source": [
    "\n",
    "## Weniger strikte Regeln\n",
    "\n",
    "(Aus den C++ Core Guidelines)\n",
    "\n",
    "- Funktionen sollten auf einen Bildschirm passen\n",
    "- Große Funktionen sollten in kleinere, zusammenhängende und benannte\n",
    "  Funktionen aufgeteilt werden\n",
    "- Funktionen mit einer bis fünf Zeilen sollten als normal angesehen werden"
   ]
  },
  {
   "cell_type": "markdown",
   "id": "2e0c4a65aec79aa1",
   "metadata": {
    "lang": "de",
    "slideshow": {
     "slide_type": "subslide"
    },
    "tags": [
     "subslide"
    ]
   },
   "source": [
    "\n",
    "## Konzentration auf eine Aufgabe\n",
    "\n",
    "- Funktionen sollten eine Aufgabe erfüllen (\"do one thing\")\n",
    "- Sie sollten diese Aufgabe gut erfüllen\n",
    "- Sie sollten nur diese Aufgabe erfüllen"
   ]
  },
  {
   "cell_type": "code",
   "execution_count": 1,
   "id": "71a58001aa86d8ea",
   "metadata": {
    "tags": [
     "keep"
    ]
   },
   "outputs": [],
   "source": [
    "def do_stuff(a: int, b: int, results: list[int]):\n",
    "    # Get measurement from sensors based on config data...\n",
    "    measurement = a + b\n",
    "    # ... and perform a complex computation\n",
    "    new_result = measurement + 1\n",
    "    # ... save the result to the list of results\n",
    "    if new_result > 0:\n",
    "        results.append(new_result)\n",
    "    # ... print all results\n",
    "    for result in results:\n",
    "        print(result)\n",
    "    # ... and return the result\n",
    "    return new_result"
   ]
  },
  {
   "cell_type": "code",
   "execution_count": 2,
   "id": "e0945c6afb4f111b",
   "metadata": {
    "slideshow": {
     "slide_type": "subslide"
    },
    "tags": [
     "keep",
     "subslide"
    ]
   },
   "outputs": [
    {
     "name": "stdout",
     "output_type": "stream",
     "text": [
      "12\n",
      "43\n",
      "7\n",
      "new_result = 7, all_results = [12, 43, 7]\n"
     ]
    }
   ],
   "source": [
    "all_results = [12, 43]\n",
    "new_result = do_stuff(2, 4, all_results)\n",
    "print(f\"new_result = {new_result}, all_results = {all_results}\")"
   ]
  },
  {
   "cell_type": "markdown",
   "id": "bb542cb460ed2b80",
   "metadata": {
    "lang": "de",
    "slideshow": {
     "slide_type": "subslide"
    },
    "tags": [
     "subslide"
    ]
   },
   "source": [
    "\n",
    "Wir können die Implementierung verbessern, indem wir die Funktion in mehrere\n",
    "Funktionen aufteilen, die jeweils eine Aufgabe erfüllen:"
   ]
  },
  {
   "cell_type": "code",
   "execution_count": 3,
   "id": "e5a86f7b41d6d8b9",
   "metadata": {
    "tags": [
     "keep"
    ]
   },
   "outputs": [],
   "source": [
    "def get_measurement(a: int, b: int) -> int:\n",
    "    return a + b"
   ]
  },
  {
   "cell_type": "code",
   "execution_count": 4,
   "id": "d234359c11743542",
   "metadata": {
    "tags": [
     "keep"
    ]
   },
   "outputs": [],
   "source": [
    "def compute_data_for_next_timestep(measurement: int) -> int:\n",
    "    return measurement + 1"
   ]
  },
  {
   "cell_type": "code",
   "execution_count": 5,
   "id": "abbb536da20369a3",
   "metadata": {
    "slideshow": {
     "slide_type": "subslide"
    },
    "tags": [
     "keep",
     "subslide"
    ]
   },
   "outputs": [],
   "source": [
    "def is_valid_result(result: int) -> bool:\n",
    "    return result > 0"
   ]
  },
  {
   "cell_type": "code",
   "execution_count": 6,
   "id": "1f62a1fc050f5e50",
   "metadata": {
    "tags": [
     "keep"
    ]
   },
   "outputs": [],
   "source": [
    "def save_result(new_result: int, results: list[int]):\n",
    "    results.append(new_result)"
   ]
  },
  {
   "cell_type": "code",
   "execution_count": 7,
   "id": "af37a7ac4e05729a",
   "metadata": {
    "lines_to_next_cell": 2,
    "tags": [
     "keep"
    ]
   },
   "outputs": [],
   "source": [
    "def print_results(results: list[int]):\n",
    "    for result in results:\n",
    "        print(result)"
   ]
  },
  {
   "cell_type": "markdown",
   "id": "e162524f16b4bd0b",
   "metadata": {
    "lang": "de",
    "slideshow": {
     "slide_type": "subslide"
    },
    "tags": [
     "subslide"
    ]
   },
   "source": [
    "\n",
    "Die resultierende Funktion ist besser:"
   ]
  },
  {
   "cell_type": "code",
   "execution_count": 8,
   "id": "093c73ca5edb921f",
   "metadata": {
    "tags": [
     "keep"
    ]
   },
   "outputs": [],
   "source": [
    "def perform_measurement_and_process_result(a: int, b: int, results: list[int]):\n",
    "    measurement = get_measurement(a, b)\n",
    "    new_result = compute_data_for_next_timestep(measurement)\n",
    "    if is_valid_result(new_result):\n",
    "        save_result(new_result, results)\n",
    "    print_results(results)\n",
    "    return new_result"
   ]
  },
  {
   "cell_type": "code",
   "execution_count": 9,
   "id": "7e6d50a03e3f92cf",
   "metadata": {
    "slideshow": {
     "slide_type": "subslide"
    },
    "tags": [
     "keep",
     "subslide"
    ]
   },
   "outputs": [
    {
     "name": "stdout",
     "output_type": "stream",
     "text": [
      "12\n",
      "43\n",
      "7\n",
      "new_result = 7, all_results = [12, 43, 7]\n"
     ]
    }
   ],
   "source": [
    "all_results = [12, 43]\n",
    "new_result = perform_measurement_and_process_result(2, 4, all_results)\n",
    "print(f\"new_result = {new_result}, all_results = {all_results}\")"
   ]
  },
  {
   "cell_type": "markdown",
   "id": "e17ac103d888bd43",
   "metadata": {
    "lang": "de",
    "slideshow": {
     "slide_type": "subslide"
    },
    "tags": [
     "subslide"
    ]
   },
   "source": [
    "\n",
    "### Fragen\n",
    "\n",
    "- Ist die Funktion `perform_measurement_and_process_result()` wirklich besser?\n",
    "- Konzentriert sie sich auf eine Aufgabe?\n",
    "- Unterscheiden sich Ihre Aufgaben von `do_stuff()`?\n",
    "- Warum (nicht)?"
   ]
  },
  {
   "cell_type": "markdown",
   "id": "b8284cdf9e7fc77d",
   "metadata": {
    "lang": "de",
    "slideshow": {
     "slide_type": "subslide"
    },
    "tags": [
     "subslide"
    ]
   },
   "source": [
    "\n",
    "## Hilfsmittel: Änderungsgründe\n",
    "\n",
    "- Welche möglichen Änderungsgründe gibt es?\n",
    "- Wie viele davon betreffen die jeweilige Funktion?"
   ]
  },
  {
   "cell_type": "markdown",
   "id": "33cee4aeb1fd1d35",
   "metadata": {
    "lang": "de",
    "slideshow": {
     "slide_type": "subslide"
    },
    "tags": [
     "subslide"
    ]
   },
   "source": [
    "\n",
    "| Änderungsgrund        | `do_stuff()` | `perform_measurement_and_process_result()` |\n",
    "| --------------------- | :----------- | :----------------------------------------- |\n",
    "| Messung               | ✓           | ❌ `get_measurement()`                    |\n",
    "| Berechnung            | ✓           | ❌ `compute_data_for_next_timestep()`     |\n",
    "| Speichern             | ✓           | ❌ `save_result()`                        |\n",
    "| Drucken               | ✓           | ❌ `print_results()`                      |\n",
    "| Neue/andere Tätigkeit | ✓           | ✓                                         |"
   ]
  },
  {
   "cell_type": "markdown",
   "id": "5a0831d91caaa4e0",
   "metadata": {
    "lang": "de",
    "slideshow": {
     "slide_type": "slide"
    },
    "tags": [
     "slide"
    ]
   },
   "source": [
    "\n",
    "# Abstraktionsebenen\n",
    "\n",
    "- Alles, was die Funktion in ihrem Rumpf tut, sollte eine (und nur eine)\n",
    "  Abstraktionsebene unterhalb der Funktion selbst sein.\n",
    "- Beispiel: `perform_measurement_and_process_result()`\n",
    "- Gegenbeispiel: `create_and_distribute_exam()`:"
   ]
  },
  {
   "cell_type": "code",
   "execution_count": 11,
   "id": "343b54837fc75775",
   "metadata": {
    "slideshow": {
     "slide_type": "subslide"
    },
    "tags": [
     "keep",
     "subslide"
    ]
   },
   "outputs": [],
   "source": [
    "def create_and_distribute_exam(subject):\n",
    "    # high level abstraction\n",
    "    exam = create_exam_using_chatgpt(subject)\n",
    "\n",
    "    # low level abstraction\n",
    "    with open(f\"{subject}_exam.pdf\", \"w\") as file:\n",
    "        # Code to write the PDF header...\n",
    "        for question in exam.questions:\n",
    "            # Code to convert the question to PDF...\n",
    "            file.write(f\"{question}\\n\")"
   ]
  },
  {
   "cell_type": "markdown",
   "id": "a90eccaeda9739ee",
   "metadata": {
    "lang": "de",
    "slideshow": {
     "slide_type": "subslide"
    },
    "tags": [
     "subslide"
    ]
   },
   "source": [
    "\n",
    "## Kontrolle der Abstraktionsebenen: \"Um-Zu\"-Absätze\n",
    "\n",
    "`perform_measurement_and_process_result()`:\n",
    "\n",
    "Um eine Messung durchzuführen und das Ergebnis zu verarbeiten:\n",
    "- Hole ein Messergebnis\n",
    "- Berechne die Daten für den nächsten Zeitschritt\n",
    "- Speichere das Ergebnis, falls es gültig ist\n",
    "- Drucke alle Ergebnisse, unabhängig davon, ob das neue Ergebnis gültig ist"
   ]
  },
  {
   "cell_type": "markdown",
   "id": "e9404e688f178c5a",
   "metadata": {
    "lang": "de",
    "slideshow": {
     "slide_type": "subslide"
    },
    "tags": [
     "subslide"
    ]
   },
   "source": [
    "\n",
    "## Kommentare als \"Um-Zu\"-Absätze\n",
    "\n",
    "- Beim Schreiben von Code können wir das \"Um-Zu\"-Muster verwenden, um die\n",
    "  Abstraktionsebenen zu kontrollieren\n",
    "- Wir können die \"Um-Zu\"-Absätze als Kommentare schreiben bevor wir den Code\n",
    "  schreiben\n",
    "- Meistens wird jeder Absatz zu einer Funktion"
   ]
  },
  {
   "cell_type": "code",
   "execution_count": 13,
   "id": "8754439a1bced90e",
   "metadata": {
    "lines_to_next_cell": 1,
    "slideshow": {
     "slide_type": "subslide"
    },
    "tags": [
     "start",
     "subslide"
    ]
   },
   "outputs": [],
   "source": [
    "def process_order(order_id: str) -> None:  # type: ignore\n",
    "    # Hole Bestelldetails\n",
    "    # Validiere Verfügbarkeit im Lager\n",
    "    # Aktualisiere Lagerbestand\n",
    "    # Erzeuge Lieferung für Kunden\n",
    "    # Benachrichtige Kunden\n",
    "    pass"
   ]
  },
  {
   "cell_type": "markdown",
   "id": "0b15c37f2d02fbc2",
   "metadata": {
    "lang": "de",
    "lines_to_next_cell": 2,
    "slideshow": {
     "slide_type": "subslide"
    },
    "tags": [
     "subslide"
    ]
   },
   "source": [
    "\n",
    "## Funktionen als \"Um-Zu\"-Absätze\n",
    "\n",
    "Wir können die \"Um-Zu\"-Absätze auch gleich als Funktionsaufrufe schreiben:"
   ]
  },
  {
   "cell_type": "code",
   "execution_count": 15,
   "id": "800fc8d87a48ce12",
   "metadata": {
    "slideshow": {
     "slide_type": "subslide"
    },
    "tags": [
     "start",
     "subslide"
    ]
   },
   "outputs": [],
   "source": [
    "def process_user_registration(username: str, password: str, email: str) -> None:  # type: ignore\n",
    "    validate_user_data(username, passwort, email)\n",
    "    user = create_new_user(username, passwort, email)\n",
    "    send_confirmation_email(user)\n",
    "    log_successfull_registration(user)\n",
    "    pass"
   ]
  },
  {
   "cell_type": "markdown",
   "id": "702f82f566892aff",
   "metadata": {
    "lang": "de",
    "slideshow": {
     "slide_type": "subslide"
    },
    "tags": [
     "subslide"
    ]
   },
   "source": [
    "\n",
    "## Die Step-Down-Regel\n",
    "\n",
    "- Wir wollen, dass sich der Code wie eine Erzählung von oben nach unten liest\n",
    "- Auf jede Funktion sollten die Funktionen eine Abstraktionsebene darunter\n",
    "  folgen"
   ]
  },
  {
   "cell_type": "markdown",
   "id": "f87689c78e484a09",
   "metadata": {
    "lang": "de",
    "lines_to_next_cell": 2,
    "slideshow": {
     "slide_type": "slide"
    },
    "tags": [
     "slide"
    ]
   },
   "source": [
    "\n",
    "## Mini-Workshop: Do one Thing\n",
    "\n",
    "Die Funktion `handle_money_stuff()` macht mehr als eine Sache.\n",
    "\n",
    "Teilen Sie sie in mehrere Funktionen auf, so dass jede nur eine Sache tut.\n",
    "Stellen Sie sicher, dass\n",
    "- jede Funktion ihre Aufgabe gut erfüllt und sich auf einer einzigen\n",
    "  Abstraktionsebene befindet,\n",
    "- alle Namen angemessen sind, und\n",
    "- der Code leicht zu verstehen ist.\n",
    "\n",
    "*Tipp:* Beginnen Sie damit, die Variablen gemäß den Kommentaren umzubenennen,\n",
    "um den Rest der Arbeit zu vereinfachen."
   ]
  },
  {
   "cell_type": "code",
   "execution_count": 19,
   "id": "e210a4fd483dae34",
   "metadata": {
    "lang": "de",
    "slideshow": {
     "slide_type": "subslide"
    },
    "tags": [
     "keep",
     "subslide"
    ]
   },
   "outputs": [],
   "source": [
    "# Name der Wochentage\n",
    "workdays = [\"Mon\", \"Tue\", \"Wed\", \"Thu\", \"Fri\"]"
   ]
  },
  {
   "cell_type": "markdown",
   "id": "793a6b04bfcb6216",
   "metadata": {
    "lang": "de",
    "slideshow": {
     "slide_type": "subslide"
    },
    "tags": [
     "subslide"
    ]
   },
   "source": [
    "\n",
    "Die Funktion `handle_money_stuff()` hat folgende Parameter:\n",
    "\n",
    "- den Wochentag (`i_dow`, day of week),\n",
    "- das Gehalt pro Tag (`f_spd`, salary per day),\n",
    "- den Namen des Angestellten (`str_n`, name) und\n",
    "- einen Liste der bisher gezahlten Gehälter (`lst_slrs`, salaries).\n",
    "\n",
    "Das neue Gehalt wird an die Liste `lst_slrs` angehängt.\n",
    "\n",
    "Die Funktion gibt die zu zahlende Steuer zurück."
   ]
  },
  {
   "cell_type": "code",
   "execution_count": 46,
   "id": "ee7c1e07ec9c07a1",
   "metadata": {
    "slideshow": {
     "slide_type": "subslide"
    },
    "tags": [
     "keep",
     "subslide"
    ]
   },
   "outputs": [],
   "source": [
    "def compute_taxes(day: int, salary: float, name: str, paid_salaries: list):\n",
    "    # Get the day of week from the list of days.\n",
    "    # We count Sunday as 1, Monday as 2, etc. but the work week starts on Monday.\n",
    "    workday = workdays[day - 1]\n",
    "    # Compute the salary so far based on the day\n",
    "    current_salary = (day - 1) * salary\n",
    "    # The tax\n",
    "    tax = 0.0\n",
    "    if current_salary > 500.0 and current_salary <= 1000.0:\n",
    "        tax = current_salary * 0.05\n",
    "    elif current_salary > 1000.0 and current_salary <= 2000.0:\n",
    "        tax = current_salary * 0.1\n",
    "    else:\n",
    "        tax = current_salary * 0.15\n",
    "    # Update salary based on the tax to pay\n",
    "    current_salary = current_salary - tax\n",
    "    # Add the salary to the list of all salaries paid\n",
    "    paid_salaries.append(current_salary)\n",
    "    print(f\"{name} worked till {workday} and earned ${current_salary} this week.\")\n",
    "    print(f\"Their taxes were ${tax}.\")\n",
    "    return tax"
   ]
  },
  {
   "cell_type": "code",
   "execution_count": 51,
   "id": "4cbc02d4",
   "metadata": {},
   "outputs": [],
   "source": [
    "def get_current_workday(day, workdays):\n",
    "    # Get the day of week from the list of days.\n",
    "    # We count Sunday as 1, Monday as 2, etc. but the work week starts on Monday.\n",
    "    return workdays[day - 1]\n",
    "\n",
    "def get_gross_salary(day, salary):\n",
    "    # Compute the salary so far based on the day\n",
    "    return (day - 1) * salary\n",
    "\n",
    "def get_tax(gross_salary):\n",
    "    # The tax\n",
    "    tax = 0.0\n",
    "    if gross_salary > 500.0 and gross_salary <= 1000.0:\n",
    "        tax = gross_salary * 0.05\n",
    "    elif gross_salary > 1000.0 and gross_salary <= 2000.0:\n",
    "        tax = gross_salary * 0.1\n",
    "    else:\n",
    "        tax = gross_salary * 0.15\n",
    "    return tax\n",
    "\n",
    "def get_net_salary(gross_salary, tax):\n",
    "    # Update salary based on the tax to pay\n",
    "    return gross_salary - tax\n",
    "\n",
    "def update_paid_salaries(paid_salaries, net_salary):\n",
    "    paid_salaries.append(net_salary)\n",
    "    \n",
    "\n"
   ]
  },
  {
   "cell_type": "code",
   "execution_count": 52,
   "id": "6d4f2837",
   "metadata": {},
   "outputs": [],
   "source": [
    "def compute_taxes(day: int, salary: float, name: str, paid_salaries: list):\n",
    "\n",
    "    workday = get_current_workday(day, workdays)\n",
    "    gross_salary = get_gross_salary(day, salary)\n",
    "    tax = get_tax(gross_salary)\n",
    "    net_salary = get_net_salary(gross_salary, tax)\n",
    "    update_paid_salaries(paid_salaries, net_salary)\n",
    "    print(f\"{name} worked till {workday} and earned ${net_salary} this week.\")\n",
    "    print(f\"Their taxes were ${tax}.\")\n",
    "    return tax"
   ]
  },
  {
   "cell_type": "code",
   "execution_count": 53,
   "id": "35e2816d76f409c1",
   "metadata": {
    "slideshow": {
     "slide_type": "subslide"
    },
    "tags": [
     "keep",
     "subslide"
    ]
   },
   "outputs": [
    {
     "name": "stdout",
     "output_type": "stream",
     "text": [
      "Joe worked till Thu and earned $570.0 this week.\n",
      "Their taxes were $30.0.\n",
      "30.0\n"
     ]
    }
   ],
   "source": [
    "_salaries = [2345, 1234]\n",
    "_result = compute_taxes(4, 200, \"Joe\", _salaries)\n",
    "print(_result)"
   ]
  },
  {
   "cell_type": "code",
   "execution_count": 39,
   "id": "2969ce02d3d9e9f9",
   "metadata": {
    "tags": [
     "keep"
    ]
   },
   "outputs": [],
   "source": [
    "assert _salaries == [2345, 1234, 570]\n",
    "assert _result == 30"
   ]
  },
  {
   "cell_type": "code",
   "execution_count": null,
   "id": "6b4e03423667dbb7",
   "metadata": {},
   "outputs": [],
   "source": []
  }
 ],
 "metadata": {
  "jupytext": {
   "cell_metadata_filter": "lang,tags,-all",
   "main_language": "python",
   "notebook_metadata_filter": "-all"
  },
  "kernelspec": {
   "display_name": "cam-basic",
   "language": "python",
   "name": "python3"
  },
  "language_info": {
   "codemirror_mode": {
    "name": "ipython",
    "version": 3
   },
   "file_extension": ".py",
   "mimetype": "text/x-python",
   "name": "python",
   "nbconvert_exporter": "python",
   "pygments_lexer": "ipython3",
   "version": "3.12.8"
  }
 },
 "nbformat": 4,
 "nbformat_minor": 5
}
