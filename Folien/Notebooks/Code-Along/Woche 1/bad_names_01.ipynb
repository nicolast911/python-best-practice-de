{
 "cells": [
  {
   "cell_type": "code",
   "execution_count": 1,
   "metadata": {},
   "outputs": [],
   "source": [
    "from dataclasses import dataclass"
   ]
  },
  {
   "cell_type": "code",
   "execution_count": 5,
   "metadata": {},
   "outputs": [],
   "source": [
    "UNFLAGGED = 0 \n",
    "FLAGGED = 1\n",
    "\n",
    "@dataclass\n",
    "class MineSweeper:  # type: ignore\n",
    "    board: list\n",
    "\n",
    "    def get_flagged_cells(self):\n",
    "        flagged_cells = []\n",
    "        for cell in self.board:\n",
    "            if cell[1] == FLAGGED:\n",
    "                flagged_cells.append(cell)\n",
    "        return flagged_cells"
   ]
  },
  {
   "cell_type": "code",
   "execution_count": 6,
   "metadata": {},
   "outputs": [
    {
     "data": {
      "text/plain": [
       "[(2, 1, 0)]"
      ]
     },
     "execution_count": 6,
     "metadata": {},
     "output_type": "execute_result"
    }
   ],
   "source": [
    "thing = MineSweeper([(i, UNFLAGGED, 0) for i in range(64)])\n",
    "thing.board[2] = (2, FLAGGED, 0)\n",
    "thing.get_flagged_cells()"
   ]
  },
  {
   "cell_type": "code",
   "execution_count": 7,
   "metadata": {},
   "outputs": [],
   "source": [
    "assert thing.get_flagged_cells() == [(2, 1, 0)]"
   ]
  }
 ],
 "metadata": {
  "kernelspec": {
   "display_name": "cam",
   "language": "python",
   "name": "python3"
  },
  "language_info": {
   "codemirror_mode": {
    "name": "ipython",
    "version": 3
   },
   "file_extension": ".py",
   "mimetype": "text/x-python",
   "name": "python",
   "nbconvert_exporter": "python",
   "pygments_lexer": "ipython3",
   "version": "3.12.8"
  },
  "orig_nbformat": 4
 },
 "nbformat": 4,
 "nbformat_minor": 2
}
