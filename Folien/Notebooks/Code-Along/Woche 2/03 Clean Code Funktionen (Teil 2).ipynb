{
 "cells": [
  {
   "cell_type": "markdown",
   "id": "cd36623badfb267b",
   "metadata": {
    "lang": "de",
    "slideshow": {
     "slide_type": "slide"
    },
    "tags": [
     "slide"
    ]
   },
   "source": [
    "\n",
    "<img src=\"data:image/svg+xml;base64,PHN2ZyB4bWxucz0iaHR0cDovL3d3dy53My5vcmcvMjAwMC9zdmciIHhtbG5zOnhsaW5rPSJodHRw\n",
    "Oi8vd3d3LnczLm9yZy8xOTk5L3hsaW5rIiB3aWR0aD0iMTExLjE2MSIgaGVpZ2h0PSIxMzQuNjY4\n",
    "IiB2ZXJzaW9uPSIxLjAiPjxkZWZzPjxsaW5lYXJHcmFkaWVudCBpZD0iYyI+PHN0b3Agb2Zmc2V0\n",
    "PSIwIiBzdHlsZT0ic3RvcC1jb2xvcjojYjhiOGI4O3N0b3Atb3BhY2l0eTouNDk4MDM5MjIiLz48\n",
    "c3RvcCBvZmZzZXQ9IjEiIHN0eWxlPSJzdG9wLWNvbG9yOiM3ZjdmN2Y7c3RvcC1vcGFjaXR5OjAi\n",
    "Lz48L2xpbmVhckdyYWRpZW50PjxsaW5lYXJHcmFkaWVudCBpZD0iYSI+PHN0b3Agb2Zmc2V0PSIw\n",
    "IiBzdHlsZT0ic3RvcC1jb2xvcjojZmZkNDNiO3N0b3Atb3BhY2l0eToxIi8+PHN0b3Agb2Zmc2V0\n",
    "PSIxIiBzdHlsZT0ic3RvcC1jb2xvcjojZmZlODczO3N0b3Atb3BhY2l0eToxIi8+PC9saW5lYXJH\n",
    "cmFkaWVudD48bGluZWFyR3JhZGllbnQgaWQ9ImIiPjxzdG9wIG9mZnNldD0iMCIgc3R5bGU9InN0\n",
    "b3AtY29sb3I6IzVhOWZkNDtzdG9wLW9wYWNpdHk6MSIvPjxzdG9wIG9mZnNldD0iMSIgc3R5bGU9\n",
    "InN0b3AtY29sb3I6IzMwNjk5ODtzdG9wLW9wYWNpdHk6MSIvPjwvbGluZWFyR3JhZGllbnQ+PGxp\n",
    "bmVhckdyYWRpZW50IHhsaW5rOmhyZWY9IiNhIiBpZD0iZSIgeDE9IjE1MC45NjEiIHgyPSIxMTIu\n",
    "MDMxIiB5MT0iMTkyLjM1MiIgeTI9IjEzNy4yNzMiIGdyYWRpZW50VHJhbnNmb3JtPSJtYXRyaXgo\n",
    "LjU2MjU0IDAgMCAuNTY3OTcgLTE0Ljk5MSAtMTEuNzAyKSIgZ3JhZGllbnRVbml0cz0idXNlclNw\n",
    "YWNlT25Vc2UiLz48bGluZWFyR3JhZGllbnQgeGxpbms6aHJlZj0iI2IiIGlkPSJkIiB4MT0iMjYu\n",
    "NjQ5IiB4Mj0iMTM1LjY2NSIgeTE9IjIwLjYwNCIgeTI9IjExNC4zOTgiIGdyYWRpZW50VHJhbnNm\n",
    "b3JtPSJtYXRyaXgoLjU2MjU0IDAgMCAuNTY3OTcgLTE0Ljk5MSAtMTEuNzAyKSIgZ3JhZGllbnRV\n",
    "bml0cz0idXNlclNwYWNlT25Vc2UiLz48cmFkaWFsR3JhZGllbnQgeGxpbms6aHJlZj0iI2MiIGlk\n",
    "PSJmIiBjeD0iNjEuNTE5IiBjeT0iMTMyLjI4NiIgcj0iMjkuMDM3IiBmeD0iNjEuNTE5IiBmeT0i\n",
    "MTMyLjI4NiIgZ3JhZGllbnRUcmFuc2Zvcm09Im1hdHJpeCgwIC0uMjM5OTUgMS4wNTQ2NyAwIC04\n",
    "My43IDE0Mi40NjIpIiBncmFkaWVudFVuaXRzPSJ1c2VyU3BhY2VPblVzZSIvPjwvZGVmcz48cGF0\n",
    "aCBkPSJNNTQuOTE5IDBjLTQuNTg0LjAyMi04Ljk2MS40MTMtMTIuODEzIDEuMDk1QzMwLjc2IDMu\n",
    "MDk5IDI4LjcgNy4yOTUgMjguNyAxNS4wMzJ2MTAuMjE5aDI2LjgxM3YzLjQwNkgxOC42MzhjLTcu\n",
    "NzkzIDAtMTQuNjE2IDQuNjg0LTE2Ljc1IDEzLjU5NC0yLjQ2MiAxMC4yMTMtMi41NzEgMTYuNTg2\n",
    "IDAgMjcuMjUgMS45MDUgNy45MzggNi40NTcgMTMuNTk0IDE0LjI1IDEzLjU5NGg5LjIxOHYtMTIu\n",
    "MjVjMC04Ljg1IDcuNjU3LTE2LjY1NyAxNi43NS0xNi42NTdoMjYuNzgyYzcuNDU0IDAgMTMuNDA2\n",
    "LTYuMTM4IDEzLjQwNi0xMy42MjV2LTI1LjUzYzAtNy4yNjctNi4xMy0xMi43MjYtMTMuNDA2LTEz\n",
    "LjkzOEM2NC4yODIuMzI4IDU5LjUwMi0uMDIgNTQuOTE4IDBtLTE0LjUgOC4yMmMyLjc3IDAgNS4w\n",
    "MzEgMi4yOTggNS4wMzEgNS4xMjUgMCAyLjgxNi0yLjI2MiA1LjA5My01LjAzMSA1LjA5My0yLjc4\n",
    "IDAtNS4wMzEtMi4yNzctNS4wMzEtNS4wOTMgMC0yLjgyNyAyLjI1MS01LjEyNSA1LjAzLTUuMTI1\n",
    "IiBzdHlsZT0iZmlsbDp1cmwoI2QpO2ZpbGwtb3BhY2l0eToxIi8+PHBhdGggZD0iTTg1LjYzOCAy\n",
    "OC42NTd2MTEuOTA2YzAgOS4yMzEtNy44MjYgMTctMTYuNzUgMTdINDIuMTA2Yy03LjMzNiAwLTEz\n",
    "LjQwNiA2LjI3OS0xMy40MDYgMTMuNjI1Vjk2LjcyYzAgNy4yNjYgNi4zMTkgMTEuNTQgMTMuNDA2\n",
    "IDEzLjYyNSA4LjQ4OCAyLjQ5NSAxNi42MjcgMi45NDYgMjYuNzgyIDAgNi43NS0xLjk1NSAxMy40\n",
    "MDYtNS44ODggMTMuNDA2LTEzLjYyNVY4Ni41SDU1LjUxM3YtMy40MDVIOTUuN2M3Ljc5MyAwIDEw\n",
    "LjY5Ni01LjQzNiAxMy40MDYtMTMuNTk0IDIuOC04LjM5OSAyLjY4LTE2LjQ3NiAwLTI3LjI1LTEu\n",
    "OTI1LTcuNzU4LTUuNjA0LTEzLjU5NC0xMy40MDYtMTMuNTk0ek03MC41NzUgOTMuMzEzYzIuNzgg\n",
    "MCA1LjAzMSAyLjI3OCA1LjAzMSA1LjA5NCAwIDIuODI3LTIuMjUxIDUuMTI1LTUuMDMxIDUuMTI1\n",
    "LTIuNzcgMC01LjAzMS0yLjI5OC01LjAzMS01LjEyNSAwLTIuODE2IDIuMjYxLTUuMDk0IDUuMDMx\n",
    "LTUuMDk0IiBzdHlsZT0iZmlsbDp1cmwoI2UpO2ZpbGwtb3BhY2l0eToxIi8+PGVsbGlwc2UgY3g9\n",
    "IjU1LjgxNyIgY3k9IjEyNy43MDEiIHJ4PSIzNS45MzEiIHJ5PSI2Ljk2NyIgc3R5bGU9Im9wYWNp\n",
    "dHk6LjQ0MzgyO2ZpbGw6dXJsKCNmKTtmaWxsLW9wYWNpdHk6MTtmaWxsLXJ1bGU6bm9uemVybztz\n",
    "dHJva2U6bm9uZTtzdHJva2Utd2lkdGg6MTUuNDE3NDtzdHJva2UtbWl0ZXJsaW1pdDo0O3N0cm9r\n",
    "ZS1kYXNoYXJyYXk6bm9uZTtzdHJva2Utb3BhY2l0eToxIi8+PC9zdmc+\n",
    "\"\n",
    "     style=\"display:block;margin:auto;width:10%\" alt=\"Python Logo\"/>\n",
    "<br>\n",
    "\n",
    "<div style=\"text-align:center; font-size:200%;\">\n",
    " <b>Clean Code: Funktionen (Teil 2)</b>\n",
    "</div>\n",
    "<br/>\n",
    "<div style=\"text-align:center;\">Dr. Matthias Hölzl</div>\n",
    "<br/>"
   ]
  },
  {
   "cell_type": "markdown",
   "id": "616b74b69fd65f7b",
   "metadata": {
    "lang": "de",
    "slideshow": {
     "slide_type": "slide"
    },
    "tags": [
     "slide"
    ]
   },
   "source": [
    "\n",
    "## Typ-Tags und Switch-Anweisungen"
   ]
  },
  {
   "cell_type": "code",
   "execution_count": 1,
   "id": "b69899df06b52615",
   "metadata": {
    "slideshow": {
     "slide_type": "subslide"
    },
    "tags": [
     "subslide",
     "keep"
    ]
   },
   "outputs": [],
   "source": [
    "from enum import IntEnum\n",
    "from dataclasses import dataclass"
   ]
  },
  {
   "cell_type": "code",
   "execution_count": 2,
   "id": "bc6418b4ca41a1d2",
   "metadata": {
    "tags": [
     "keep"
    ]
   },
   "outputs": [],
   "source": [
    "class EmployeeType(IntEnum):\n",
    "    COMMISSIONED = 0\n",
    "    HOURLY = 1\n",
    "    SALARIED = 2"
   ]
  },
  {
   "cell_type": "code",
   "execution_count": 3,
   "id": "0228e78c424057de",
   "metadata": {
    "tags": [
     "keep"
    ]
   },
   "outputs": [],
   "source": [
    "@dataclass\n",
    "class EmployeeV1:\n",
    "    type_: EmployeeType"
   ]
  },
  {
   "cell_type": "code",
   "execution_count": 4,
   "id": "a6bb40fe5a1d0782",
   "metadata": {
    "slideshow": {
     "slide_type": "subslide"
    },
    "tags": [
     "subslide",
     "keep"
    ]
   },
   "outputs": [],
   "source": [
    "def calculate_pay(e: EmployeeV1):\n",
    "    if e.type_ == EmployeeType.COMMISSIONED:\n",
    "        return calculate_commissioned_pay(e)\n",
    "    elif e.type_ == EmployeeType.HOURLY:\n",
    "        return calculate_hourly_pay(e)\n",
    "    elif e.type_ == EmployeeType.SALARIED:\n",
    "        return calculate_salaried_pay(e)\n",
    "    else:\n",
    "        raise ValueError(\"No valid employee type.\")"
   ]
  },
  {
   "cell_type": "code",
   "execution_count": 5,
   "id": "24edca641c0e27d4",
   "metadata": {
    "slideshow": {
     "slide_type": "subslide"
    },
    "tags": [
     "subslide",
     "keep"
    ]
   },
   "outputs": [],
   "source": [
    "def calculate_commissioned_pay(e: EmployeeV1):\n",
    "    return 100.0"
   ]
  },
  {
   "cell_type": "code",
   "execution_count": 6,
   "id": "4046b27a6e192bc9",
   "metadata": {
    "tags": [
     "keep"
    ]
   },
   "outputs": [],
   "source": [
    "def calculate_hourly_pay(e: EmployeeV1):\n",
    "    return 120.0"
   ]
  },
  {
   "cell_type": "code",
   "execution_count": 7,
   "id": "ec81e7281cdcc655",
   "metadata": {
    "tags": [
     "keep"
    ]
   },
   "outputs": [],
   "source": [
    "def calculate_salaried_pay(e: EmployeeV1):\n",
    "    return 80.0"
   ]
  },
  {
   "cell_type": "code",
   "execution_count": 8,
   "id": "82700a822ac5e33f",
   "metadata": {
    "tags": [
     "keep"
    ]
   },
   "outputs": [],
   "source": [
    "e1 = EmployeeV1(EmployeeType.HOURLY)\n",
    "e2 = EmployeeV1(EmployeeType.SALARIED)"
   ]
  },
  {
   "cell_type": "code",
   "execution_count": 9,
   "id": "7b24fc7552d38640",
   "metadata": {
    "tags": [
     "keep"
    ]
   },
   "outputs": [
    {
     "name": "stdout",
     "output_type": "stream",
     "text": [
      "120.0\n",
      "80.0\n"
     ]
    }
   ],
   "source": [
    "print(calculate_pay(e1))\n",
    "print(calculate_pay(e2))"
   ]
  },
  {
   "cell_type": "markdown",
   "id": "d21a251ddddc441a",
   "metadata": {
    "lang": "de",
    "slideshow": {
     "slide_type": "slide"
    },
    "tags": [
     "slide"
    ]
   },
   "source": [
    "\n",
    "- Switch-Anweisungen führen oft Operationen auf der gleichen Abstraktionsebene\n",
    "  aus. (für \"Subtypen\" anstelle des ursprünglichen Typs)\n",
    "- \"Subtypen\" werden oft durch Typ-Tags unterschieden\n",
    "- In Python wird das mit `if`-`elif`-`else`-Ketten realisiert, da es keine\n",
    "  `switch`-Anweisung gibt"
   ]
  },
  {
   "cell_type": "markdown",
   "id": "35b261f956886e67",
   "metadata": {
    "lang": "de",
    "slideshow": {
     "slide_type": "subslide"
    },
    "tags": [
     "subslide"
    ]
   },
   "source": [
    "\n",
    "## Ersetze Switch-Anweisung durch Polymorphie\n",
    "\n",
    "Es ist oft besser, switch-Anweisungen durch Vererbung und Polymorphie zu\n",
    "ersetzen:"
   ]
  },
  {
   "cell_type": "code",
   "execution_count": 10,
   "id": "358d3acdd9f86a51",
   "metadata": {
    "tags": [
     "keep"
    ]
   },
   "outputs": [],
   "source": [
    "from abc import ABC, abstractmethod"
   ]
  },
  {
   "cell_type": "code",
   "execution_count": 11,
   "id": "da1b4d992c518d8b",
   "metadata": {
    "tags": [
     "keep"
    ]
   },
   "outputs": [],
   "source": [
    "class EmployeeV2(ABC):\n",
    "    @abstractmethod\n",
    "    def calculate_pay(self):\n",
    "        ..."
   ]
  },
  {
   "cell_type": "code",
   "execution_count": 12,
   "id": "c14d4b43b7e99dbd",
   "metadata": {
    "slideshow": {
     "slide_type": "subslide"
    },
    "tags": [
     "subslide",
     "keep"
    ]
   },
   "outputs": [],
   "source": [
    "@dataclass\n",
    "class CommissionedEmployee(EmployeeV2):\n",
    "    def calculate_pay(self):\n",
    "        return 100.0"
   ]
  },
  {
   "cell_type": "code",
   "execution_count": 13,
   "id": "0bd9e85629e22272",
   "metadata": {
    "tags": [
     "keep"
    ]
   },
   "outputs": [],
   "source": [
    "@dataclass\n",
    "class HourlyEmployee(EmployeeV2):\n",
    "    def calculate_pay(self):\n",
    "        return 120.0"
   ]
  },
  {
   "cell_type": "code",
   "execution_count": 14,
   "id": "0ecb60b25061a54d",
   "metadata": {
    "tags": [
     "keep"
    ]
   },
   "outputs": [],
   "source": [
    "@dataclass\n",
    "class SalariedEmployee(EmployeeV2):\n",
    "    def calculate_pay(self):\n",
    "        return 80.0"
   ]
  },
  {
   "cell_type": "code",
   "execution_count": 17,
   "id": "01d0ca4724364a2c",
   "metadata": {
    "slideshow": {
     "slide_type": "subslide"
    },
    "tags": [
     "subslide",
     "keep"
    ]
   },
   "outputs": [],
   "source": [
    "def create_employee_v2(employee_type: EmployeeType):\n",
    "    if employee_type == EmployeeType.COMMISSIONED:\n",
    "        return CommissionedEmployee()\n",
    "    elif employee_type == EmployeeType.HOURLY:\n",
    "        return HourlyEmployee()\n",
    "    elif employee_type == EmployeeType.SALARIED:\n",
    "        return SalariedEmployee()\n",
    "    else:\n",
    "        raise ValueError(\"Not a valid employee type.\")"
   ]
  },
  {
   "cell_type": "code",
   "execution_count": 18,
   "id": "5348c73d0c916baa",
   "metadata": {
    "slideshow": {
     "slide_type": "subslide"
    },
    "tags": [
     "subslide",
     "keep"
    ]
   },
   "outputs": [],
   "source": [
    "e1 = create_employee_v2(EmployeeType.HOURLY)\n",
    "e2 = create_employee_v2(EmployeeType.SALARIED)"
   ]
  },
  {
   "cell_type": "code",
   "execution_count": 19,
   "id": "95059b8e0c1f9c7c",
   "metadata": {
    "tags": [
     "keep"
    ]
   },
   "outputs": [
    {
     "name": "stdout",
     "output_type": "stream",
     "text": [
      "120.0\n",
      "80.0\n"
     ]
    }
   ],
   "source": [
    "print(e1.calculate_pay())\n",
    "print(e2.calculate_pay())"
   ]
  },
  {
   "cell_type": "markdown",
   "id": "b9ee5d4e73b18bb4",
   "metadata": {
    "lang": "de",
    "slideshow": {
     "slide_type": "subslide"
    },
    "tags": [
     "subslide"
    ]
   },
   "source": [
    "\n",
    "## Trade-Offs: Vererbungsvariante\n",
    "\n",
    "- Neue \"Bezahlvarianten\" könne ohne Änderung des bestehenden Codes hinzugefügt\n",
    "  werden\n",
    "- Potentiell Explosion von Unterklassen (bei mehreren Enumerationstypen)"
   ]
  },
  {
   "cell_type": "markdown",
   "id": "026bc1731a7265ec",
   "metadata": {
    "lang": "de",
    "slideshow": {
     "slide_type": "subslide"
    },
    "tags": [
     "subslide"
    ]
   },
   "source": [
    "\n",
    "## Trade-Offs: Switch-Variante\n",
    "\n",
    "- Einfacher zu verstehen\n",
    "- Erleichtert die Definition von Funktionen, die auf die Enumeration zugreifen\n",
    "  - In Python gibt es aber `functools.singledispatch` für die Vererbungsvariante"
   ]
  },
  {
   "cell_type": "markdown",
   "id": "d9792e9a1fe4dee3",
   "metadata": {
    "lang": "de",
    "slideshow": {
     "slide_type": "subslide"
    },
    "tags": [
     "subslide"
    ]
   },
   "source": [
    "\n",
    "## Trade-Offs: Design\n",
    "\n",
    "- Spiegelt sich die Unterscheidung zwischen den Subtypen im Domänenmodell\n",
    "  wieder?"
   ]
  },
  {
   "cell_type": "markdown",
   "id": "ce07370e510fa4a7",
   "metadata": {
    "lang": "de",
    "slideshow": {
     "slide_type": "subslide"
    },
    "tags": [
     "subslide"
    ]
   },
   "source": [
    "\n",
    "## Ersetzen der Enumeration durch Vererbung\n",
    "\n",
    "- Polymorphie statt Enumeration\n",
    "- Nicht auf der Ebene der gesamten Klasse\n",
    "- Mildert die Nachteile der Vererbungsvariante"
   ]
  },
  {
   "cell_type": "markdown",
   "id": "0c3cd988ecd02722",
   "metadata": {
    "lang": "de",
    "slideshow": {
     "slide_type": "subslide"
    },
    "tags": [
     "subslide"
    ]
   },
   "source": [
    "\n",
    "### Beispiel\n",
    "\n",
    "- Abstrakte Klasse `PaymentCalculator` statt `EmployeeType`\n",
    "- Konkrete Unterklasse pro \"Bezahlvariante\"\n",
    "- `Employee` delegiert Berechnung an `PaymentCalculator`"
   ]
  },
  {
   "cell_type": "code",
   "execution_count": 20,
   "id": "8ec4ca2a82002a08",
   "metadata": {
    "slideshow": {
     "slide_type": "subslide"
    },
    "tags": [
     "keep",
     "subslide"
    ]
   },
   "outputs": [],
   "source": [
    "from abc import ABC, abstractmethod"
   ]
  },
  {
   "cell_type": "code",
   "execution_count": 21,
   "id": "9d88870e24b0e80f",
   "metadata": {
    "tags": [
     "keep"
    ]
   },
   "outputs": [],
   "source": [
    "class PaymentCalculator(ABC):\n",
    "    @abstractmethod\n",
    "    def calculate_pay(self, employee):\n",
    "        ..."
   ]
  },
  {
   "cell_type": "code",
   "execution_count": 22,
   "id": "2c0d41c15a165d6a",
   "metadata": {
    "tags": [
     "keep"
    ]
   },
   "outputs": [],
   "source": [
    "class CommissionedPaymentCalculator(PaymentCalculator):\n",
    "    def calculate_pay(self, employee):\n",
    "        return 100.0"
   ]
  },
  {
   "cell_type": "code",
   "execution_count": 23,
   "id": "3d785ecd398e2fc2",
   "metadata": {
    "slideshow": {
     "slide_type": "subslide"
    },
    "tags": [
     "subslide",
     "keep"
    ]
   },
   "outputs": [],
   "source": [
    "class HourlyPaymentCalculator(PaymentCalculator):\n",
    "    def calculate_pay(self, employee):\n",
    "        return 120.0"
   ]
  },
  {
   "cell_type": "code",
   "execution_count": 24,
   "id": "fbbbeaa3caebea7a",
   "metadata": {
    "tags": [
     "keep"
    ]
   },
   "outputs": [],
   "source": [
    "class SalariedPaymentCalculator(PaymentCalculator):\n",
    "    def calculate_pay(self, employee):\n",
    "        return 80.0"
   ]
  },
  {
   "cell_type": "code",
   "execution_count": 25,
   "id": "3f5203df18900b5a",
   "metadata": {
    "slideshow": {
     "slide_type": "subslide"
    },
    "tags": [
     "subslide",
     "keep"
    ]
   },
   "outputs": [],
   "source": [
    "from dataclasses import dataclass"
   ]
  },
  {
   "cell_type": "code",
   "execution_count": 26,
   "id": "f0a3da9b5cf93bc7",
   "metadata": {
    "tags": [
     "keep"
    ]
   },
   "outputs": [],
   "source": [
    "@dataclass\n",
    "class EmployeeV3:\n",
    "    payment_calculator: PaymentCalculator\n",
    "\n",
    "    def calculate_pay(self):\n",
    "        return self.payment_calculator.calculate_pay(self)"
   ]
  },
  {
   "cell_type": "code",
   "execution_count": 27,
   "id": "445b5f60a9100da4",
   "metadata": {
    "slideshow": {
     "slide_type": "subslide"
    },
    "tags": [
     "keep",
     "subslide"
    ]
   },
   "outputs": [],
   "source": [
    "def create_employee_v3(employee_type: EmployeeType):\n",
    "    if employee_type == EmployeeType.COMMISSIONED:\n",
    "        return EmployeeV3(CommissionedPaymentCalculator())\n",
    "    elif employee_type == EmployeeType.HOURLY:\n",
    "        return EmployeeV3(HourlyPaymentCalculator())\n",
    "    elif employee_type == EmployeeType.SALARIED:\n",
    "        return EmployeeV3(SalariedPaymentCalculator())\n",
    "    else:\n",
    "        raise ValueError(\"Not a valid employee type.\")"
   ]
  },
  {
   "cell_type": "code",
   "execution_count": 28,
   "id": "566dff01542fac9b",
   "metadata": {
    "slideshow": {
     "slide_type": "subslide"
    },
    "tags": [
     "subslide",
     "keep"
    ]
   },
   "outputs": [],
   "source": [
    "e1 = create_employee_v3(EmployeeType.HOURLY)\n",
    "e2 = create_employee_v3(EmployeeType.SALARIED)"
   ]
  },
  {
   "cell_type": "code",
   "execution_count": 29,
   "id": "25f3e38923485893",
   "metadata": {
    "tags": [
     "keep"
    ]
   },
   "outputs": [
    {
     "name": "stdout",
     "output_type": "stream",
     "text": [
      "120.0\n",
      "80.0\n"
     ]
    }
   ],
   "source": [
    "print(e1.calculate_pay())\n",
    "print(e2.calculate_pay())"
   ]
  },
  {
   "cell_type": "markdown",
   "id": "6aca3b61b1617d3f",
   "metadata": {
    "lang": "de",
    "slideshow": {
     "slide_type": "slide"
    },
    "tags": [
     "slide"
    ]
   },
   "source": [
    "\n",
    "## Mini-Workshop: Ersetzen von Switch-Anweisungen\n",
    "\n",
    "Strukturieren Sie den folgenden Code so um, dass nur noch bei der Erzeugung\n",
    "der Objekte eine \"switch-Anweisung\" verwendet wird:"
   ]
  },
  {
   "cell_type": "code",
   "execution_count": 30,
   "id": "016dd790da4883ac",
   "metadata": {
    "tags": [
     "keep"
    ]
   },
   "outputs": [],
   "source": [
    "from dataclasses import dataclass"
   ]
  },
  {
   "cell_type": "code",
   "execution_count": 31,
   "id": "7472cfdc035e7993",
   "metadata": {
    "tags": [
     "keep"
    ]
   },
   "outputs": [],
   "source": [
    "COMPUTER_TYPE_PC = 0\n",
    "COMPUTER_TYPE_MAC = 1\n",
    "COMPUTER_TYPE_CHROMEBOOK = 2"
   ]
  },
  {
   "cell_type": "code",
   "execution_count": 32,
   "id": "1b9c8e28760570f8",
   "metadata": {
    "tags": [
     "keep"
    ]
   },
   "outputs": [],
   "source": [
    "@dataclass\n",
    "class ComputerV1:\n",
    "    computer_type: int"
   ]
  },
  {
   "cell_type": "code",
   "execution_count": 33,
   "id": "4f0b12cc7d1e4ee6",
   "metadata": {
    "slideshow": {
     "slide_type": "subslide"
    },
    "tags": [
     "keep",
     "subslide"
    ]
   },
   "outputs": [],
   "source": [
    "def compile_code(computer: ComputerV1):\n",
    "    if computer.computer_type == COMPUTER_TYPE_PC:\n",
    "        print(\"Compiling code for PC.\")\n",
    "    elif computer.computer_type == COMPUTER_TYPE_MAC:\n",
    "        print(\"Compiling code for Mac.\")\n",
    "    elif computer.computer_type == COMPUTER_TYPE_CHROMEBOOK:\n",
    "        print(\"Compiling code for Chromebook.\")\n",
    "    else:\n",
    "        raise ValueError(f\"Don't know how to compile code for {computer}.\")"
   ]
  },
  {
   "cell_type": "code",
   "execution_count": 35,
   "id": "addb52838f06cba2",
   "metadata": {
    "tags": [
     "keep"
    ]
   },
   "outputs": [],
   "source": [
    "my_pc = ComputerV1(COMPUTER_TYPE_PC)\n",
    "my_mac = ComputerV1(COMPUTER_TYPE_MAC)\n",
    "my_chromebook = ComputerV1(COMPUTER_TYPE_CHROMEBOOK)"
   ]
  },
  {
   "cell_type": "code",
   "execution_count": 36,
   "id": "b2109cd6edc8fa57",
   "metadata": {
    "tags": [
     "keep"
    ]
   },
   "outputs": [
    {
     "name": "stdout",
     "output_type": "stream",
     "text": [
      "Compiling code for PC.\n",
      "Compiling code for Mac.\n",
      "Compiling code for Chromebook.\n"
     ]
    }
   ],
   "source": [
    "compile_code(my_pc)\n",
    "compile_code(my_mac)\n",
    "compile_code(my_chromebook)"
   ]
  },
  {
   "cell_type": "markdown",
   "id": "359829a5",
   "metadata": {},
   "source": [
    "### New Implementation"
   ]
  },
  {
   "cell_type": "code",
   "execution_count": 64,
   "id": "fb4dcafc602fa14f",
   "metadata": {
    "slideshow": {
     "slide_type": "subslide"
    },
    "tags": [
     "subslide"
    ]
   },
   "outputs": [],
   "source": [
    "class Compiler(ABC):\n",
    "    @abstractmethod\n",
    "    def compile_code(self, computer):\n",
    "        ...\n",
    "\n",
    "class PCCompiler(Compiler):\n",
    "    def compile_code(self, computer):\n",
    "        print(\"Compiling code for PC.\")\n",
    "\n",
    "class MacCompiler(Compiler):\n",
    "    def compile_code(self, computer):\n",
    "        print(\"Compiling code for Mac.\")\n",
    "\n",
    "class ChromeCompiler(Compiler):\n",
    "    def compile_code(self, computer):\n",
    "        print(\"Compiling code for Chromebook.\")\n",
    "\n"
   ]
  },
  {
   "cell_type": "code",
   "execution_count": 65,
   "id": "60667fa2c6f77606",
   "metadata": {},
   "outputs": [],
   "source": [
    "@dataclass\n",
    "class ComputerV2:\n",
    "    compiler: Compiler\n",
    "\n",
    "    def compile_code(self):\n",
    "        self.compiler.compile_code(self)"
   ]
  },
  {
   "cell_type": "code",
   "execution_count": 66,
   "id": "955bbac5",
   "metadata": {},
   "outputs": [],
   "source": [
    "class ComputerType(IntEnum):\n",
    "    COMPUTER_TYPE_PC = 0\n",
    "    COMPUTER_TYPE_MAC = 1\n",
    "    COMPUTER_TYPE_CHROMEBOOK = 2"
   ]
  },
  {
   "cell_type": "code",
   "execution_count": 69,
   "id": "96dec3308a762261",
   "metadata": {},
   "outputs": [],
   "source": [
    "def create_computer(computer_type: ComputerType):\n",
    "    if computer_type == ComputerType.COMPUTER_TYPE_PC:\n",
    "        return ComputerV2(PCCompiler())\n",
    "    if computer_type == ComputerType.COMPUTER_TYPE_MAC:\n",
    "        return ComputerV2(MacCompiler())\n",
    "    if computer_type == ComputerType.COMPUTER_TYPE_CHROMEBOOK:\n",
    "        return ComputerV2(ChromeCompiler())"
   ]
  },
  {
   "cell_type": "code",
   "execution_count": 70,
   "id": "3fdf262bbc4edbfb",
   "metadata": {},
   "outputs": [],
   "source": [
    "c1 = create_computer(ComputerType.COMPUTER_TYPE_PC)\n",
    "c2 = create_computer(ComputerType.COMPUTER_TYPE_MAC)\n",
    "c3 = create_computer(ComputerType.COMPUTER_TYPE_CHROMEBOOK)"
   ]
  },
  {
   "cell_type": "code",
   "execution_count": null,
   "id": "380cd5229208d2dd",
   "metadata": {
    "slideshow": {
     "slide_type": "subslide"
    },
    "tags": [
     "subslide"
    ]
   },
   "outputs": [
    {
     "name": "stdout",
     "output_type": "stream",
     "text": [
      "Compiling code for PC.\n",
      "Compiling code for Mac.\n",
      "Compiling code for Chromebook.\n"
     ]
    }
   ],
   "source": [
    "c1.compile_code() \n",
    "c2.compile_code()\n",
    "c3.compile_code()"
   ]
  },
  {
   "cell_type": "markdown",
   "id": "756ee940",
   "metadata": {},
   "source": []
  },
  {
   "cell_type": "code",
   "execution_count": null,
   "id": "5bc37f991fc0ce40",
   "metadata": {},
   "outputs": [],
   "source": []
  },
  {
   "cell_type": "code",
   "execution_count": null,
   "id": "1bc8618262094ddf",
   "metadata": {},
   "outputs": [],
   "source": []
  },
  {
   "cell_type": "code",
   "execution_count": null,
   "id": "1580a83e3c8c9462",
   "metadata": {},
   "outputs": [],
   "source": []
  },
  {
   "cell_type": "code",
   "execution_count": null,
   "id": "f8369ed9aa430073",
   "metadata": {},
   "outputs": [],
   "source": []
  },
  {
   "cell_type": "code",
   "execution_count": null,
   "id": "05bc6ee2082f3758",
   "metadata": {},
   "outputs": [],
   "source": []
  },
  {
   "cell_type": "code",
   "execution_count": null,
   "id": "bef5e4bc9a7a7755",
   "metadata": {},
   "outputs": [],
   "source": []
  },
  {
   "cell_type": "code",
   "execution_count": null,
   "id": "7e19627e6aa8cfc1",
   "metadata": {},
   "outputs": [],
   "source": []
  },
  {
   "cell_type": "code",
   "execution_count": null,
   "id": "2708f6d83de62e74",
   "metadata": {},
   "outputs": [],
   "source": []
  },
  {
   "cell_type": "code",
   "execution_count": null,
   "id": "c5a4f7bc6c14ee51",
   "metadata": {},
   "outputs": [],
   "source": []
  },
  {
   "cell_type": "code",
   "execution_count": null,
   "id": "e7ac35ef3be4856a",
   "metadata": {},
   "outputs": [],
   "source": []
  },
  {
   "cell_type": "code",
   "execution_count": null,
   "id": "17f1562b1e366ee1",
   "metadata": {},
   "outputs": [],
   "source": []
  },
  {
   "cell_type": "code",
   "execution_count": null,
   "id": "c3113686d4dc85c1",
   "metadata": {},
   "outputs": [],
   "source": []
  },
  {
   "cell_type": "code",
   "execution_count": null,
   "id": "2d1a185971b607ef",
   "metadata": {},
   "outputs": [],
   "source": []
  },
  {
   "cell_type": "code",
   "execution_count": null,
   "id": "aa1eaba80c127780",
   "metadata": {},
   "outputs": [],
   "source": []
  },
  {
   "cell_type": "code",
   "execution_count": null,
   "id": "0bce66bbd26dd0fd",
   "metadata": {},
   "outputs": [],
   "source": []
  },
  {
   "cell_type": "code",
   "execution_count": null,
   "id": "0e7f42515d9b71a7",
   "metadata": {
    "lines_to_next_cell": 2
   },
   "outputs": [],
   "source": []
  },
  {
   "cell_type": "code",
   "execution_count": null,
   "id": "2b4222dd2dfbbcf1",
   "metadata": {},
   "outputs": [],
   "source": []
  },
  {
   "cell_type": "code",
   "execution_count": null,
   "id": "2a3d509923a8d5bb",
   "metadata": {},
   "outputs": [],
   "source": []
  },
  {
   "cell_type": "code",
   "execution_count": null,
   "id": "a92c7ae55123a603",
   "metadata": {},
   "outputs": [],
   "source": []
  },
  {
   "cell_type": "code",
   "execution_count": null,
   "id": "8da48053b8d76b54",
   "metadata": {},
   "outputs": [],
   "source": []
  },
  {
   "cell_type": "code",
   "execution_count": null,
   "id": "2368656cf623f2a5",
   "metadata": {},
   "outputs": [],
   "source": []
  },
  {
   "cell_type": "code",
   "execution_count": null,
   "id": "8bfc09d50c0788f4",
   "metadata": {},
   "outputs": [],
   "source": []
  }
 ],
 "metadata": {
  "jupytext": {
   "cell_metadata_filter": "lang,tags,-all",
   "main_language": "python",
   "notebook_metadata_filter": "-all"
  },
  "kernelspec": {
   "display_name": "cam-basic",
   "language": "python",
   "name": "python3"
  },
  "language_info": {
   "codemirror_mode": {
    "name": "ipython",
    "version": 3
   },
   "file_extension": ".py",
   "mimetype": "text/x-python",
   "name": "python",
   "nbconvert_exporter": "python",
   "pygments_lexer": "ipython3",
   "version": "3.12.8"
  }
 },
 "nbformat": 4,
 "nbformat_minor": 5
}
