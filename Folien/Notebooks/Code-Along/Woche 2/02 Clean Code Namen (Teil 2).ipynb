{
 "cells": [
  {
   "cell_type": "markdown",
   "id": "fc525aef3003a24b",
   "metadata": {
    "lang": "de",
    "slideshow": {
     "slide_type": "slide"
    },
    "tags": [
     "slide"
    ]
   },
   "source": [
    "\n",
    "<img src=\"data:image/svg+xml;base64,PHN2ZyB4bWxucz0iaHR0cDovL3d3dy53My5vcmcvMjAwMC9zdmciIHhtbG5zOnhsaW5rPSJodHRw\n",
    "Oi8vd3d3LnczLm9yZy8xOTk5L3hsaW5rIiB3aWR0aD0iMTExLjE2MSIgaGVpZ2h0PSIxMzQuNjY4\n",
    "IiB2ZXJzaW9uPSIxLjAiPjxkZWZzPjxsaW5lYXJHcmFkaWVudCBpZD0iYyI+PHN0b3Agb2Zmc2V0\n",
    "PSIwIiBzdHlsZT0ic3RvcC1jb2xvcjojYjhiOGI4O3N0b3Atb3BhY2l0eTouNDk4MDM5MjIiLz48\n",
    "c3RvcCBvZmZzZXQ9IjEiIHN0eWxlPSJzdG9wLWNvbG9yOiM3ZjdmN2Y7c3RvcC1vcGFjaXR5OjAi\n",
    "Lz48L2xpbmVhckdyYWRpZW50PjxsaW5lYXJHcmFkaWVudCBpZD0iYSI+PHN0b3Agb2Zmc2V0PSIw\n",
    "IiBzdHlsZT0ic3RvcC1jb2xvcjojZmZkNDNiO3N0b3Atb3BhY2l0eToxIi8+PHN0b3Agb2Zmc2V0\n",
    "PSIxIiBzdHlsZT0ic3RvcC1jb2xvcjojZmZlODczO3N0b3Atb3BhY2l0eToxIi8+PC9saW5lYXJH\n",
    "cmFkaWVudD48bGluZWFyR3JhZGllbnQgaWQ9ImIiPjxzdG9wIG9mZnNldD0iMCIgc3R5bGU9InN0\n",
    "b3AtY29sb3I6IzVhOWZkNDtzdG9wLW9wYWNpdHk6MSIvPjxzdG9wIG9mZnNldD0iMSIgc3R5bGU9\n",
    "InN0b3AtY29sb3I6IzMwNjk5ODtzdG9wLW9wYWNpdHk6MSIvPjwvbGluZWFyR3JhZGllbnQ+PGxp\n",
    "bmVhckdyYWRpZW50IHhsaW5rOmhyZWY9IiNhIiBpZD0iZSIgeDE9IjE1MC45NjEiIHgyPSIxMTIu\n",
    "MDMxIiB5MT0iMTkyLjM1MiIgeTI9IjEzNy4yNzMiIGdyYWRpZW50VHJhbnNmb3JtPSJtYXRyaXgo\n",
    "LjU2MjU0IDAgMCAuNTY3OTcgLTE0Ljk5MSAtMTEuNzAyKSIgZ3JhZGllbnRVbml0cz0idXNlclNw\n",
    "YWNlT25Vc2UiLz48bGluZWFyR3JhZGllbnQgeGxpbms6aHJlZj0iI2IiIGlkPSJkIiB4MT0iMjYu\n",
    "NjQ5IiB4Mj0iMTM1LjY2NSIgeTE9IjIwLjYwNCIgeTI9IjExNC4zOTgiIGdyYWRpZW50VHJhbnNm\n",
    "b3JtPSJtYXRyaXgoLjU2MjU0IDAgMCAuNTY3OTcgLTE0Ljk5MSAtMTEuNzAyKSIgZ3JhZGllbnRV\n",
    "bml0cz0idXNlclNwYWNlT25Vc2UiLz48cmFkaWFsR3JhZGllbnQgeGxpbms6aHJlZj0iI2MiIGlk\n",
    "PSJmIiBjeD0iNjEuNTE5IiBjeT0iMTMyLjI4NiIgcj0iMjkuMDM3IiBmeD0iNjEuNTE5IiBmeT0i\n",
    "MTMyLjI4NiIgZ3JhZGllbnRUcmFuc2Zvcm09Im1hdHJpeCgwIC0uMjM5OTUgMS4wNTQ2NyAwIC04\n",
    "My43IDE0Mi40NjIpIiBncmFkaWVudFVuaXRzPSJ1c2VyU3BhY2VPblVzZSIvPjwvZGVmcz48cGF0\n",
    "aCBkPSJNNTQuOTE5IDBjLTQuNTg0LjAyMi04Ljk2MS40MTMtMTIuODEzIDEuMDk1QzMwLjc2IDMu\n",
    "MDk5IDI4LjcgNy4yOTUgMjguNyAxNS4wMzJ2MTAuMjE5aDI2LjgxM3YzLjQwNkgxOC42MzhjLTcu\n",
    "NzkzIDAtMTQuNjE2IDQuNjg0LTE2Ljc1IDEzLjU5NC0yLjQ2MiAxMC4yMTMtMi41NzEgMTYuNTg2\n",
    "IDAgMjcuMjUgMS45MDUgNy45MzggNi40NTcgMTMuNTk0IDE0LjI1IDEzLjU5NGg5LjIxOHYtMTIu\n",
    "MjVjMC04Ljg1IDcuNjU3LTE2LjY1NyAxNi43NS0xNi42NTdoMjYuNzgyYzcuNDU0IDAgMTMuNDA2\n",
    "LTYuMTM4IDEzLjQwNi0xMy42MjV2LTI1LjUzYzAtNy4yNjctNi4xMy0xMi43MjYtMTMuNDA2LTEz\n",
    "LjkzOEM2NC4yODIuMzI4IDU5LjUwMi0uMDIgNTQuOTE4IDBtLTE0LjUgOC4yMmMyLjc3IDAgNS4w\n",
    "MzEgMi4yOTggNS4wMzEgNS4xMjUgMCAyLjgxNi0yLjI2MiA1LjA5My01LjAzMSA1LjA5My0yLjc4\n",
    "IDAtNS4wMzEtMi4yNzctNS4wMzEtNS4wOTMgMC0yLjgyNyAyLjI1MS01LjEyNSA1LjAzLTUuMTI1\n",
    "IiBzdHlsZT0iZmlsbDp1cmwoI2QpO2ZpbGwtb3BhY2l0eToxIi8+PHBhdGggZD0iTTg1LjYzOCAy\n",
    "OC42NTd2MTEuOTA2YzAgOS4yMzEtNy44MjYgMTctMTYuNzUgMTdINDIuMTA2Yy03LjMzNiAwLTEz\n",
    "LjQwNiA2LjI3OS0xMy40MDYgMTMuNjI1Vjk2LjcyYzAgNy4yNjYgNi4zMTkgMTEuNTQgMTMuNDA2\n",
    "IDEzLjYyNSA4LjQ4OCAyLjQ5NSAxNi42MjcgMi45NDYgMjYuNzgyIDAgNi43NS0xLjk1NSAxMy40\n",
    "MDYtNS44ODggMTMuNDA2LTEzLjYyNVY4Ni41SDU1LjUxM3YtMy40MDVIOTUuN2M3Ljc5MyAwIDEw\n",
    "LjY5Ni01LjQzNiAxMy40MDYtMTMuNTk0IDIuOC04LjM5OSAyLjY4LTE2LjQ3NiAwLTI3LjI1LTEu\n",
    "OTI1LTcuNzU4LTUuNjA0LTEzLjU5NC0xMy40MDYtMTMuNTk0ek03MC41NzUgOTMuMzEzYzIuNzgg\n",
    "MCA1LjAzMSAyLjI3OCA1LjAzMSA1LjA5NCAwIDIuODI3LTIuMjUxIDUuMTI1LTUuMDMxIDUuMTI1\n",
    "LTIuNzcgMC01LjAzMS0yLjI5OC01LjAzMS01LjEyNSAwLTIuODE2IDIuMjYxLTUuMDk0IDUuMDMx\n",
    "LTUuMDk0IiBzdHlsZT0iZmlsbDp1cmwoI2UpO2ZpbGwtb3BhY2l0eToxIi8+PGVsbGlwc2UgY3g9\n",
    "IjU1LjgxNyIgY3k9IjEyNy43MDEiIHJ4PSIzNS45MzEiIHJ5PSI2Ljk2NyIgc3R5bGU9Im9wYWNp\n",
    "dHk6LjQ0MzgyO2ZpbGw6dXJsKCNmKTtmaWxsLW9wYWNpdHk6MTtmaWxsLXJ1bGU6bm9uemVybztz\n",
    "dHJva2U6bm9uZTtzdHJva2Utd2lkdGg6MTUuNDE3NDtzdHJva2UtbWl0ZXJsaW1pdDo0O3N0cm9r\n",
    "ZS1kYXNoYXJyYXk6bm9uZTtzdHJva2Utb3BhY2l0eToxIi8+PC9zdmc+\n",
    "\"\n",
    "     style=\"display:block;margin:auto;width:10%\" alt=\"Python Logo\"/>\n",
    "<br>\n",
    "\n",
    "<div style=\"text-align:center; font-size:200%;\">\n",
    " <b>Clean Code: Namen (Teil 2)</b>\n",
    "</div>\n",
    "<br/>\n",
    "<div style=\"text-align:center;\">Dr. Matthias Hölzl</div>\n",
    "<br/>"
   ]
  },
  {
   "cell_type": "markdown",
   "id": "80021651a490db67",
   "metadata": {
    "lang": "de",
    "lines_to_next_cell": 2,
    "slideshow": {
     "slide_type": "subslide"
    },
    "tags": [
     "subslide"
    ]
   },
   "source": [
    "\n",
    "## Namensregeln für Python\n",
    "\n",
    "Namen entsprechen den\n",
    "[PEP-8 Konventionen](https://peps.python.org/pep-0008/#naming-conventions)"
   ]
  },
  {
   "cell_type": "markdown",
   "id": "641e4a4353a15fa5",
   "metadata": {
    "lang": "de",
    "slideshow": {
     "slide_type": "subslide"
    },
    "tags": [
     "subslide"
    ]
   },
   "source": [
    "\n",
    "## Clean Code Namensregeln\n",
    "\n",
    "Gute Namen\n",
    "\n",
    "- sind selbsterklärend\n",
    "- kommunizieren die Intention\n",
    "- sind aussprechbar und durchsuchbar\n",
    "- beschreiben das Problem, nicht die Implementierung\n",
    "- vermeiden Kodierungen (ungarische Notation) und Füllwörter\n",
    "- verwenden die richtige Wortart (lexikalische Kategorie)\n",
    "- verwenden die Regeln für Umfang und Länge (Scope-Length Rules)\n",
    "- vermeiden Disinformation und benennen eine sinnvolle Unterscheidung"
   ]
  },
  {
   "cell_type": "markdown",
   "id": "e08aa4769cacb0e8",
   "metadata": {
    "lang": "de",
    "slideshow": {
     "slide_type": "subslide"
    },
    "tags": [
     "subslide"
    ]
   },
   "source": [
    "\n",
    "## Selbsterklärende Namen"
   ]
  },
  {
   "cell_type": "code",
   "execution_count": 2,
   "id": "4866d8c7cbf0480b",
   "metadata": {
    "tags": [
     "keep"
    ]
   },
   "outputs": [],
   "source": [
    "# Elapsed time in days\n",
    "d = 0"
   ]
  },
  {
   "cell_type": "code",
   "execution_count": 3,
   "id": "fd1ee92e920b82ca",
   "metadata": {
    "tags": [
     "keep"
    ]
   },
   "outputs": [],
   "source": [
    "elapsed_time_in_days = 0"
   ]
  },
  {
   "cell_type": "markdown",
   "id": "607bad85fbd1dc94",
   "metadata": {
    "lang": "de",
    "slideshow": {
     "slide_type": "slide"
    },
    "tags": [
     "slide"
    ]
   },
   "source": [
    "\n",
    "## Kommuniziere Intention\n",
    "\n",
    "Namen sollen Absicht, Verhalten, Existenzberechtigung reflektieren"
   ]
  },
  {
   "cell_type": "code",
   "execution_count": 4,
   "id": "807843fb3eedfd19",
   "metadata": {
    "tags": [
     "keep"
    ]
   },
   "outputs": [],
   "source": [
    "my_list = [31, 28, 31, 30, 31, 30, 31, 31, 30, 31, 30, 31]"
   ]
  },
  {
   "cell_type": "code",
   "execution_count": 5,
   "id": "f5cdd0026bb85330",
   "metadata": {
    "tags": [
     "keep"
    ]
   },
   "outputs": [],
   "source": [
    "dpm_lst = [31, 28, 31, 30, 31, 30, 31, 31, 30, 31, 30, 31]"
   ]
  },
  {
   "cell_type": "code",
   "execution_count": 6,
   "id": "24a80dd9d643c994",
   "metadata": {
    "tags": [
     "start"
    ]
   },
   "outputs": [],
   "source": [
    "days_per_month = [31, 28, 31, 30, 31, 30, 31, 31, 30, 31, 30, 31]"
   ]
  },
  {
   "cell_type": "markdown",
   "id": "10d11ab7faba61f4",
   "metadata": {
    "lang": "de",
    "slideshow": {
     "slide_type": "subslide"
    },
    "tags": [
     "subslide"
    ]
   },
   "source": [
    "\n",
    "## Aussprechbare Namen\n",
    "\n",
    "Sind oft auch besser zu suchen"
   ]
  },
  {
   "cell_type": "code",
   "execution_count": 7,
   "id": "d2497e2b3e5828ce",
   "metadata": {
    "tags": [
     "keep"
    ]
   },
   "outputs": [],
   "source": [
    "hw_crsr_pxy = [0, 0]"
   ]
  },
  {
   "cell_type": "code",
   "execution_count": 8,
   "id": "bcedbc3e89dc88c3",
   "metadata": {
    "lines_to_next_cell": 2
   },
   "outputs": [],
   "source": [
    "hardware_cursor_position = [0, 0]"
   ]
  },
  {
   "cell_type": "markdown",
   "id": "71b75b26812fc926",
   "metadata": {
    "lang": "de",
    "slideshow": {
     "slide_type": "subslide"
    },
    "tags": [
     "subslide"
    ]
   },
   "source": [
    "\n",
    "## Beschreibe Problem, nicht Implementierung\n",
    "\n",
    "Vermeide Namen, die sich auf Implementierungsdetails beziehen:\n",
    "- Sie verraten nicht, warum der Code so geschrieben wurde, wie er geschrieben\n",
    "  ist\n",
    "- Aber die Kommunikation der Intention hinter dem Code hat höchste Priorität!"
   ]
  },
  {
   "cell_type": "code",
   "execution_count": 9,
   "id": "76c6fd7b9c3ff167",
   "metadata": {
    "slideshow": {
     "slide_type": "subslide"
    },
    "tags": [
     "keep",
     "subslide"
    ]
   },
   "outputs": [],
   "source": [
    "def add_elements(lst):\n",
    "    return sum(lst)"
   ]
  },
  {
   "cell_type": "code",
   "execution_count": 10,
   "id": "7d525c33b12a36b3",
   "metadata": {
    "lines_to_next_cell": 2,
    "tags": [
     "keep"
    ]
   },
   "outputs": [
    {
     "data": {
      "text/plain": [
       "365"
      ]
     },
     "execution_count": 10,
     "metadata": {},
     "output_type": "execute_result"
    }
   ],
   "source": [
    "add_elements(days_per_month)  # Seems reasonable"
   ]
  },
  {
   "cell_type": "code",
   "execution_count": 11,
   "id": "83f08fcbf341dc16",
   "metadata": {},
   "outputs": [],
   "source": [
    "def compute_yearly_salary(monthly_saralies):\n",
    "    return sum(monthly_saralies)"
   ]
  },
  {
   "cell_type": "code",
   "execution_count": 12,
   "id": "58dac80fa0f68d6f",
   "metadata": {
    "lines_to_next_cell": 2
   },
   "outputs": [
    {
     "data": {
      "text/plain": [
       "365"
      ]
     },
     "execution_count": 12,
     "metadata": {},
     "output_type": "execute_result"
    }
   ],
   "source": [
    "compute_yearly_salary(days_per_month) # Bei diesem Naming fällt auf, dass Implementierung so keinen Sinn macht"
   ]
  },
  {
   "cell_type": "markdown",
   "id": "a2b99c92645d61ad",
   "metadata": {
    "lang": "de",
    "slideshow": {
     "slide_type": "slide"
    },
    "tags": [
     "slide"
    ]
   },
   "source": [
    "\n",
    "## Vermeide Kodierungen\n",
    "\n",
    "Verwende keine ungarische Notation (Typ wie integer i):"
   ]
  },
  {
   "cell_type": "code",
   "execution_count": 13,
   "id": "2b093dc39db0c0b3",
   "metadata": {
    "lines_to_next_cell": 2,
    "tags": [
     "keep"
    ]
   },
   "outputs": [],
   "source": [
    "i_days = 12\n",
    "i_month = 3"
   ]
  },
  {
   "cell_type": "markdown",
   "id": "5db267642a064fbb",
   "metadata": {
    "lang": "de",
    "slideshow": {
     "slide_type": "subslide"
    },
    "tags": [
     "subslide"
    ]
   },
   "source": [
    "\n",
    "## Vermeide Kodierungen\n",
    "\n",
    "Verwende keine Präfixe für Attribute (wie member m):"
   ]
  },
  {
   "cell_type": "code",
   "execution_count": 14,
   "id": "3f5203df18900b5a",
   "metadata": {
    "tags": [
     "keep"
    ]
   },
   "outputs": [],
   "source": [
    "from dataclasses import dataclass"
   ]
  },
  {
   "cell_type": "code",
   "execution_count": 15,
   "id": "f5a055a68aa31b57",
   "metadata": {
    "lines_to_next_cell": 2,
    "tags": [
     "keep"
    ]
   },
   "outputs": [],
   "source": [
    "@dataclass\n",
    "class MyClass:\n",
    "    m_days: int\n",
    "    m_months: int"
   ]
  },
  {
   "cell_type": "markdown",
   "id": "a0eab5dcdd0619ca",
   "metadata": {
    "lang": "de",
    "slideshow": {
     "slide_type": "subslide"
    },
    "tags": [
     "subslide"
    ]
   },
   "source": [
    "\n",
    "## Vermeide Kodierungen\n",
    "\n",
    "Vermeiden Sie Präfixe wie C/I: CClass, IInterface"
   ]
  },
  {
   "cell_type": "code",
   "execution_count": null,
   "id": "68aa91ec7cd7fbf3",
   "metadata": {
    "lines_to_next_cell": 2,
    "tags": [
     "keep"
    ]
   },
   "outputs": [],
   "source": [
    "@dataclass\n",
    "class CMyClass:\n",
    "    days: int\n",
    "    months: int"
   ]
  },
  {
   "cell_type": "markdown",
   "id": "5c3409732b890dc3",
   "metadata": {
    "lang": "de",
    "slideshow": {
     "slide_type": "slide"
    },
    "tags": [
     "slide"
    ]
   },
   "source": [
    "\n",
    "## Verwende die richtige lexikalische Kategorie\n",
    "\n",
    "- Klassen und Variablen: Substantive oder Substantivphrasen\n",
    "- Funktionen: Verben oder Verbphrasen\n",
    "- Enums: oft Adjektive\n",
    "- Boolesche Variablen und Funktionen: oft Prädikate: `ist_...`, `hat_...`"
   ]
  },
  {
   "cell_type": "code",
   "execution_count": null,
   "id": "87873fe61704987b",
   "metadata": {
    "slideshow": {
     "slide_type": "subslide"
    },
    "tags": [
     "keep",
     "subslide"
    ]
   },
   "outputs": [],
   "source": [
    "@dataclass\n",
    "class GoToTheServer:\n",
    "    def connection(self):\n",
    "        ...\n",
    "\n",
    "    def server_availability(self) -> bool:\n",
    "        return True"
   ]
  },
  {
   "cell_type": "code",
   "execution_count": null,
   "id": "874abc54433f60fc",
   "metadata": {
    "lines_to_next_cell": 2
   },
   "outputs": [],
   "source": [
    "@dataclass\n",
    "class Server:\n",
    "    def connect(self):\n",
    "        ...\n",
    "\n",
    "    def is_server_available(self) -> bool:\n",
    "        return True"
   ]
  },
  {
   "cell_type": "markdown",
   "id": "03470ddaabe118f2",
   "metadata": {
    "lang": "de",
    "slideshow": {
     "slide_type": "subslide"
    },
    "tags": [
     "subslide"
    ]
   },
   "source": [
    "\n",
    "## Vermeide Füllwörter\n",
    "\n",
    "Vermeide Wörter, die keine Bedeutung haben, wie Manager, Processor, Data,\n",
    "Info"
   ]
  },
  {
   "cell_type": "code",
   "execution_count": 16,
   "id": "bd6e1c7a11aa79ae",
   "metadata": {
    "lines_to_next_cell": 2,
    "tags": [
     "keep"
    ]
   },
   "outputs": [],
   "source": [
    "class ObjectManager:\n",
    "    pass"
   ]
  },
  {
   "cell_type": "code",
   "execution_count": null,
   "id": "afd3fc56",
   "metadata": {},
   "outputs": [],
   "source": []
  },
  {
   "cell_type": "markdown",
   "id": "6dea60c95127aacc",
   "metadata": {
    "lang": "de",
    "slideshow": {
     "slide_type": "slide"
    },
    "tags": [
     "slide"
    ]
   },
   "source": [
    "\n",
    "## Python-Spezifisch\n",
    "\n",
    "Vermeide Getter/Setter für Zugriff auf Attribute:"
   ]
  },
  {
   "cell_type": "code",
   "execution_count": 17,
   "id": "02881ddec32d3c41",
   "metadata": {
    "tags": [
     "keep"
    ]
   },
   "outputs": [],
   "source": [
    "class MyBox:\n",
    "    def __init__(self, x) -> None:\n",
    "        self._x = x\n",
    "\n",
    "    def get_x(self):\n",
    "        return self._x\n",
    "\n",
    "    def set_x(self, new_value):\n",
    "        self._x = new_value"
   ]
  },
  {
   "cell_type": "code",
   "execution_count": 18,
   "id": "9be3b887ee7fcf9c",
   "metadata": {
    "tags": [
     "keep"
    ]
   },
   "outputs": [
    {
     "name": "stdout",
     "output_type": "stream",
     "text": [
      "1\n",
      "200\n"
     ]
    }
   ],
   "source": [
    "my_box = MyBox(1)\n",
    "print(my_box.get_x())\n",
    "my_box.set_x(200)\n",
    "print(my_box.get_x())"
   ]
  },
  {
   "cell_type": "code",
   "execution_count": 19,
   "id": "a84dfabdf998aa8f",
   "metadata": {
    "slideshow": {
     "slide_type": "subslide"
    },
    "tags": [
     "keep",
     "subslide"
    ]
   },
   "outputs": [],
   "source": [
    "class YourBox:\n",
    "    def __init__(self, x) -> None:\n",
    "        self.x = x"
   ]
  },
  {
   "cell_type": "code",
   "execution_count": 20,
   "id": "78bb01ce1e97c1d2",
   "metadata": {
    "lines_to_next_cell": 2,
    "tags": [
     "keep"
    ]
   },
   "outputs": [
    {
     "name": "stdout",
     "output_type": "stream",
     "text": [
      "1\n",
      "200\n"
     ]
    }
   ],
   "source": [
    "your_box = YourBox(1)\n",
    "print(your_box.x)\n",
    "your_box.x = 200\n",
    "print(your_box.x)"
   ]
  },
  {
   "cell_type": "markdown",
   "id": "a5d23050ae5fb0b3",
   "metadata": {
    "lang": "de",
    "slideshow": {
     "slide_type": "subslide"
    },
    "tags": [
     "subslide"
    ]
   },
   "source": [
    "\n",
    "Mit Properties kann die bestehende Syntax für kontrollierten oder berechneten Zugriff\n",
    "auf Attribute beibehalten werden:"
   ]
  },
  {
   "cell_type": "code",
   "execution_count": 29,
   "id": "16c7459da1245519",
   "metadata": {
    "tags": [
     "start"
    ]
   },
   "outputs": [],
   "source": [
    "class YourControlledBox:  # type: ignore\n",
    "    def __init__(self, x) -> None:\n",
    "        self.x = x\n",
    "\n",
    "    @property\n",
    "    def x(self):\n",
    "        return self._x + 1\n",
    "    \n",
    "    @x.setter\n",
    "    def x(self, new_value):\n",
    "        self._x = new_value / 2"
   ]
  },
  {
   "cell_type": "code",
   "execution_count": 30,
   "id": "4c5960ca414f2ebf",
   "metadata": {
    "slideshow": {
     "slide_type": "subslide"
    },
    "tags": [
     "subslide",
     "keep"
    ]
   },
   "outputs": [
    {
     "name": "stdout",
     "output_type": "stream",
     "text": [
      "{'_x': 0.5}\n",
      "1.5\n",
      "{'_x': 100.0}\n",
      "101.0\n"
     ]
    }
   ],
   "source": [
    "your_box = YourControlledBox(1)\n",
    "print(your_box.__dict__)\n",
    "print(your_box.x)\n",
    "your_box.x = 200\n",
    "print(your_box.__dict__)\n",
    "print(your_box.x)"
   ]
  },
  {
   "cell_type": "markdown",
   "id": "331bd36af88e3a18",
   "metadata": {
    "lang": "de",
    "lines_to_next_cell": 2,
    "slideshow": {
     "slide_type": "slide"
    },
    "tags": [
     "slide"
    ]
   },
   "source": [
    "\n",
    "## Regeln für Umfang und Länge (Scope-Length Rules)\n",
    "\n",
    "- Variablen:\n",
    "  - Langer Geltungsbereich = langer Name\n",
    "  - Kurzer Geltungsbereich = kurzer Name\n",
    "- Klassen und Methoden\n",
    "  - Langer Geltungsbereich = kurzer Name (wenn häufig verwendet?)\n",
    "  - Kurzer Geltungsbereich = langer Name (wenn selten verwendet?)\n",
    "\n",
    "**Oder:** Verwende lange Namen für lange Geltungsbereiche"
   ]
  },
  {
   "cell_type": "code",
   "execution_count": null,
   "id": "020e4b32040eb3a9",
   "metadata": {
    "slideshow": {
     "slide_type": "subslide"
    },
    "tags": [
     "subslide",
     "keep"
    ]
   },
   "outputs": [],
   "source": [
    "class FixedSizeOrderedCollectionIndexedByInts:\n",
    "    pass"
   ]
  },
  {
   "cell_type": "code",
   "execution_count": 31,
   "id": "475356ef8254f43e",
   "metadata": {
    "lines_to_next_cell": 2
   },
   "outputs": [],
   "source": [
    "class Array:\n",
    "    pass"
   ]
  },
  {
   "cell_type": "markdown",
   "id": "4fad8756e980f8df",
   "metadata": {
    "lang": "de",
    "slideshow": {
     "slide_type": "slide"
    },
    "tags": [
     "slide"
    ]
   },
   "source": [
    "## Mini-Workshop: Namen\n",
    "\n",
    "Das folgende Programm verwendet sehr schlechte Namen. Ändern Sie die Namen\n",
    "so, dass sie den PEP-8 Konventionen folgen und den Regeln für gute Namen\n",
    "folgen."
   ]
  },
  {
   "cell_type": "code",
   "execution_count": 32,
   "id": "f4c35f14c8bcec81",
   "metadata": {
    "tags": [
     "keep"
    ]
   },
   "outputs": [],
   "source": [
    "from dataclasses import dataclass, field"
   ]
  },
  {
   "cell_type": "code",
   "execution_count": 37,
   "id": "61bb1d9e8e205621",
   "metadata": {
    "tags": [
     "keep"
    ]
   },
   "outputs": [],
   "source": [
    "# Class representing Line Items:\n",
    "@dataclass\n",
    "class LineItem:\n",
    "    # number of items\n",
    "    item_count: int\n",
    "    # description of the items\n",
    "    item_name: str\n",
    "    # price per item\n",
    "    item_price: float\n",
    "\n",
    "    # compute the total price\n",
    "    def compute_price(self):\n",
    "        return self.item_count * self.item_price"
   ]
  },
  {
   "cell_type": "code",
   "execution_count": 54,
   "id": "d82e52a57b2c993a",
   "metadata": {
    "slideshow": {
     "slide_type": "subslide"
    },
    "tags": [
     "subslide",
     "keep"
    ]
   },
   "outputs": [],
   "source": [
    "# Class representing an Order\n",
    "@dataclass\n",
    "class LineItemsList:\n",
    "    # a list of line items\n",
    "    line_items: list = field(default_factory=list)\n",
    "\n",
    "    # compute the total price\n",
    "    def compute_total_price(self):\n",
    "        return sum(line_item.compute_price() for line_item in self.line_items)"
   ]
  },
  {
   "cell_type": "code",
   "execution_count": 55,
   "id": "d785bde9b993cbb7",
   "metadata": {
    "tags": [
     "keep"
    ]
   },
   "outputs": [
    {
     "name": "stdout",
     "output_type": "stream",
     "text": [
      "4.65\n"
     ]
    }
   ],
   "source": [
    "# Prepare an order\n",
    "my_order = LineItemsList([LineItem(2, \"tea\", 0.99), LineItem(3, \"coffee\", 0.89)])\n",
    "print(my_order.compute_total_price())"
   ]
  }
 ],
 "metadata": {
  "jupytext": {
   "cell_metadata_filter": "lang,tags,-all",
   "main_language": "python",
   "notebook_metadata_filter": "-all"
  },
  "kernelspec": {
   "display_name": "cam-basic",
   "language": "python",
   "name": "python3"
  },
  "language_info": {
   "codemirror_mode": {
    "name": "ipython",
    "version": 3
   },
   "file_extension": ".py",
   "mimetype": "text/x-python",
   "name": "python",
   "nbconvert_exporter": "python",
   "pygments_lexer": "ipython3",
   "version": "3.12.8"
  }
 },
 "nbformat": 4,
 "nbformat_minor": 5
}
