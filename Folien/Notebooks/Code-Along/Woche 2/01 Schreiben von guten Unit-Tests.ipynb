{
 "cells": [
  {
   "cell_type": "markdown",
   "id": "b656aef44ec4eddb",
   "metadata": {
    "lang": "de",
    "slideshow": {
     "slide_type": "slide"
    },
    "tags": [
     "slide"
    ]
   },
   "source": [
    "\n",
    "<img src=\"data:image/svg+xml;base64,PHN2ZyB4bWxucz0iaHR0cDovL3d3dy53My5vcmcvMjAwMC9zdmciIHhtbG5zOnhsaW5rPSJodHRw\n",
    "Oi8vd3d3LnczLm9yZy8xOTk5L3hsaW5rIiB3aWR0aD0iMTExLjE2MSIgaGVpZ2h0PSIxMzQuNjY4\n",
    "IiB2ZXJzaW9uPSIxLjAiPjxkZWZzPjxsaW5lYXJHcmFkaWVudCBpZD0iYyI+PHN0b3Agb2Zmc2V0\n",
    "PSIwIiBzdHlsZT0ic3RvcC1jb2xvcjojYjhiOGI4O3N0b3Atb3BhY2l0eTouNDk4MDM5MjIiLz48\n",
    "c3RvcCBvZmZzZXQ9IjEiIHN0eWxlPSJzdG9wLWNvbG9yOiM3ZjdmN2Y7c3RvcC1vcGFjaXR5OjAi\n",
    "Lz48L2xpbmVhckdyYWRpZW50PjxsaW5lYXJHcmFkaWVudCBpZD0iYSI+PHN0b3Agb2Zmc2V0PSIw\n",
    "IiBzdHlsZT0ic3RvcC1jb2xvcjojZmZkNDNiO3N0b3Atb3BhY2l0eToxIi8+PHN0b3Agb2Zmc2V0\n",
    "PSIxIiBzdHlsZT0ic3RvcC1jb2xvcjojZmZlODczO3N0b3Atb3BhY2l0eToxIi8+PC9saW5lYXJH\n",
    "cmFkaWVudD48bGluZWFyR3JhZGllbnQgaWQ9ImIiPjxzdG9wIG9mZnNldD0iMCIgc3R5bGU9InN0\n",
    "b3AtY29sb3I6IzVhOWZkNDtzdG9wLW9wYWNpdHk6MSIvPjxzdG9wIG9mZnNldD0iMSIgc3R5bGU9\n",
    "InN0b3AtY29sb3I6IzMwNjk5ODtzdG9wLW9wYWNpdHk6MSIvPjwvbGluZWFyR3JhZGllbnQ+PGxp\n",
    "bmVhckdyYWRpZW50IHhsaW5rOmhyZWY9IiNhIiBpZD0iZSIgeDE9IjE1MC45NjEiIHgyPSIxMTIu\n",
    "MDMxIiB5MT0iMTkyLjM1MiIgeTI9IjEzNy4yNzMiIGdyYWRpZW50VHJhbnNmb3JtPSJtYXRyaXgo\n",
    "LjU2MjU0IDAgMCAuNTY3OTcgLTE0Ljk5MSAtMTEuNzAyKSIgZ3JhZGllbnRVbml0cz0idXNlclNw\n",
    "YWNlT25Vc2UiLz48bGluZWFyR3JhZGllbnQgeGxpbms6aHJlZj0iI2IiIGlkPSJkIiB4MT0iMjYu\n",
    "NjQ5IiB4Mj0iMTM1LjY2NSIgeTE9IjIwLjYwNCIgeTI9IjExNC4zOTgiIGdyYWRpZW50VHJhbnNm\n",
    "b3JtPSJtYXRyaXgoLjU2MjU0IDAgMCAuNTY3OTcgLTE0Ljk5MSAtMTEuNzAyKSIgZ3JhZGllbnRV\n",
    "bml0cz0idXNlclNwYWNlT25Vc2UiLz48cmFkaWFsR3JhZGllbnQgeGxpbms6aHJlZj0iI2MiIGlk\n",
    "PSJmIiBjeD0iNjEuNTE5IiBjeT0iMTMyLjI4NiIgcj0iMjkuMDM3IiBmeD0iNjEuNTE5IiBmeT0i\n",
    "MTMyLjI4NiIgZ3JhZGllbnRUcmFuc2Zvcm09Im1hdHJpeCgwIC0uMjM5OTUgMS4wNTQ2NyAwIC04\n",
    "My43IDE0Mi40NjIpIiBncmFkaWVudFVuaXRzPSJ1c2VyU3BhY2VPblVzZSIvPjwvZGVmcz48cGF0\n",
    "aCBkPSJNNTQuOTE5IDBjLTQuNTg0LjAyMi04Ljk2MS40MTMtMTIuODEzIDEuMDk1QzMwLjc2IDMu\n",
    "MDk5IDI4LjcgNy4yOTUgMjguNyAxNS4wMzJ2MTAuMjE5aDI2LjgxM3YzLjQwNkgxOC42MzhjLTcu\n",
    "NzkzIDAtMTQuNjE2IDQuNjg0LTE2Ljc1IDEzLjU5NC0yLjQ2MiAxMC4yMTMtMi41NzEgMTYuNTg2\n",
    "IDAgMjcuMjUgMS45MDUgNy45MzggNi40NTcgMTMuNTk0IDE0LjI1IDEzLjU5NGg5LjIxOHYtMTIu\n",
    "MjVjMC04Ljg1IDcuNjU3LTE2LjY1NyAxNi43NS0xNi42NTdoMjYuNzgyYzcuNDU0IDAgMTMuNDA2\n",
    "LTYuMTM4IDEzLjQwNi0xMy42MjV2LTI1LjUzYzAtNy4yNjctNi4xMy0xMi43MjYtMTMuNDA2LTEz\n",
    "LjkzOEM2NC4yODIuMzI4IDU5LjUwMi0uMDIgNTQuOTE4IDBtLTE0LjUgOC4yMmMyLjc3IDAgNS4w\n",
    "MzEgMi4yOTggNS4wMzEgNS4xMjUgMCAyLjgxNi0yLjI2MiA1LjA5My01LjAzMSA1LjA5My0yLjc4\n",
    "IDAtNS4wMzEtMi4yNzctNS4wMzEtNS4wOTMgMC0yLjgyNyAyLjI1MS01LjEyNSA1LjAzLTUuMTI1\n",
    "IiBzdHlsZT0iZmlsbDp1cmwoI2QpO2ZpbGwtb3BhY2l0eToxIi8+PHBhdGggZD0iTTg1LjYzOCAy\n",
    "OC42NTd2MTEuOTA2YzAgOS4yMzEtNy44MjYgMTctMTYuNzUgMTdINDIuMTA2Yy03LjMzNiAwLTEz\n",
    "LjQwNiA2LjI3OS0xMy40MDYgMTMuNjI1Vjk2LjcyYzAgNy4yNjYgNi4zMTkgMTEuNTQgMTMuNDA2\n",
    "IDEzLjYyNSA4LjQ4OCAyLjQ5NSAxNi42MjcgMi45NDYgMjYuNzgyIDAgNi43NS0xLjk1NSAxMy40\n",
    "MDYtNS44ODggMTMuNDA2LTEzLjYyNVY4Ni41SDU1LjUxM3YtMy40MDVIOTUuN2M3Ljc5MyAwIDEw\n",
    "LjY5Ni01LjQzNiAxMy40MDYtMTMuNTk0IDIuOC04LjM5OSAyLjY4LTE2LjQ3NiAwLTI3LjI1LTEu\n",
    "OTI1LTcuNzU4LTUuNjA0LTEzLjU5NC0xMy40MDYtMTMuNTk0ek03MC41NzUgOTMuMzEzYzIuNzgg\n",
    "MCA1LjAzMSAyLjI3OCA1LjAzMSA1LjA5NCAwIDIuODI3LTIuMjUxIDUuMTI1LTUuMDMxIDUuMTI1\n",
    "LTIuNzcgMC01LjAzMS0yLjI5OC01LjAzMS01LjEyNSAwLTIuODE2IDIuMjYxLTUuMDk0IDUuMDMx\n",
    "LTUuMDk0IiBzdHlsZT0iZmlsbDp1cmwoI2UpO2ZpbGwtb3BhY2l0eToxIi8+PGVsbGlwc2UgY3g9\n",
    "IjU1LjgxNyIgY3k9IjEyNy43MDEiIHJ4PSIzNS45MzEiIHJ5PSI2Ljk2NyIgc3R5bGU9Im9wYWNp\n",
    "dHk6LjQ0MzgyO2ZpbGw6dXJsKCNmKTtmaWxsLW9wYWNpdHk6MTtmaWxsLXJ1bGU6bm9uemVybztz\n",
    "dHJva2U6bm9uZTtzdHJva2Utd2lkdGg6MTUuNDE3NDtzdHJva2UtbWl0ZXJsaW1pdDo0O3N0cm9r\n",
    "ZS1kYXNoYXJyYXk6bm9uZTtzdHJva2Utb3BhY2l0eToxIi8+PC9zdmc+\n",
    "\"\n",
    "     style=\"display:block;margin:auto;width:10%\" alt=\"Python Logo\"/>\n",
    "<br>\n",
    "\n",
    "<div style=\"text-align:center; font-size:200%;\">\n",
    " <b>Schreiben von guten Unit-Tests</b>\n",
    "</div>\n",
    "<br/>\n",
    "<div style=\"text-align:center;\">Dr. Matthias Hölzl</div>\n",
    "<br/>"
   ]
  },
  {
   "cell_type": "markdown",
   "id": "0192bbe41d982d08",
   "metadata": {
    "lang": "de",
    "slideshow": {
     "slide_type": "subslide"
    },
    "tags": [
     "subslide"
    ]
   },
   "source": [
    "\n",
    "## Welche Form hat ein Unit Test?\n",
    "- Arrange/Given\n",
    "- Act/When\n",
    "- Assert/Then"
   ]
  },
  {
   "cell_type": "code",
   "execution_count": 5,
   "id": "f4e178f43e6bfc0c",
   "metadata": {
    "lines_to_next_cell": 2,
    "slideshow": {
     "slide_type": "subslide"
    },
    "tags": [
     "subslide"
    ]
   },
   "outputs": [],
   "source": [
    "def test_the_extend_method_of_list():\n",
    "    # arrange\n",
    "    x = [1, 2, 3]\n",
    "    y = [10, 20]\n",
    "    \n",
    "    # act\n",
    "    x.extend(y)\n",
    "\n",
    "    # assert\n",
    "    assert x == [1, 2, 3, 10, 20]\n",
    "    assert y == [10, 20]\n",
    "\n",
    "test_the_extend_method_of_list()\n",
    "     "
   ]
  },
  {
   "cell_type": "markdown",
   "id": "be1fad3b00349645",
   "metadata": {
    "lang": "de",
    "slideshow": {
     "slide_type": "subslide"
    },
    "tags": [
     "subslide"
    ]
   },
   "source": [
    "\n",
    "## Wie finden wir gute Tests?"
   ]
  },
  {
   "cell_type": "markdown",
   "id": "e0bcc6a38135448f",
   "metadata": {
    "lang": "de",
    "slideshow": {
     "slide_type": "subslide"
    },
    "tags": [
     "subslide"
    ]
   },
   "source": [
    "\n",
    "## Versuch: Erschöpfendes Testen\n",
    "\n",
    "- Wir schreiben erschöpfende Tests, d.h. Tests, die alle möglichen Eingaben eines\n",
    "  Programms abdecken"
   ]
  },
  {
   "cell_type": "markdown",
   "id": "b7793ebb941374a1",
   "metadata": {
    "lang": "de",
    "slideshow": {
     "slide_type": "subslide"
    },
    "tags": [
     "subslide"
    ]
   },
   "source": [
    "\n",
    "- Erschöpfendes Testen ist nicht möglich\n",
    "- Beispiel Passworteingabe:\n",
    "  - Angenommen, Passwörter mit maximal 20 Zeichen sind zulässig,\n",
    "    80 Eingabezeichen sind erlaubt (große und kleine Buchstaben, Sonderzeichen)\n",
    "  - Das ergibt $80^{20}$ = 115.292.150.460.684.697.600.000.000.000.000.000.000\n",
    "    mögliche Eingaben\n",
    "  - Bei 10ns für einen Test würde man ca. $10^{24}$ Jahre brauchen, um alle Eingaben\n",
    "    zu testen\n",
    "  - Das Universum ist ungefähr $1.4 \\times 10^{10}$ Jahre alt"
   ]
  },
  {
   "cell_type": "markdown",
   "id": "c8b1528062f74783",
   "metadata": {
    "lang": "de",
    "slideshow": {
     "slide_type": "subslide"
    },
    "tags": [
     "subslide"
    ]
   },
   "source": [
    "\n",
    "## Effektivität und Effizienz von Tests\n",
    "\n",
    "- Unit-Tests sollen effektiv und effizient sein\n",
    "  - Effektiv: Die Tests sollen so viele Fehler wie möglich finden\n",
    "  - Effizient: Wir wollen die größte Anzahl an Fehlern mit der geringsten Anzahl\n",
    "    an möglichst einfachen Tests finden\n",
    "- Effizienz ist wichtig, da Tests selbst Code sind, der gewartet werden muss und\n",
    "  Fehler enthalten kann"
   ]
  },
  {
   "cell_type": "markdown",
   "id": "ce8257bdc31273ad",
   "metadata": {
    "lang": "de",
    "slideshow": {
     "slide_type": "subslide"
    },
    "tags": [
     "subslide"
    ]
   },
   "source": [
    "\n",
    "## Eigenschaften von guten Unit-Tests\n",
    "\n",
    "Unit-Tests sollen\n",
    "- automatisiert sein: keine manuelle Interaktion\n",
    "- selbsttestend sein: Pass/Fail\n",
    "- feingranular sein\n",
    "- isoliert sein\n",
    "- zu jedem Zeitpunkt erfolgreich ausführbar sein\n",
    "- effektiv und effizient sein\n",
    "  - nicht viel Zeit zur Ausführung benötigen\n",
    "  - für alle wichtigen Systembestandteile geschrieben werden\n",
    "  - alle wichtigen Zustände jedes getesteten Elements abdecken"
   ]
  },
  {
   "cell_type": "markdown",
   "id": "4e007f0ff21788eb",
   "metadata": {
    "lang": "de",
    "slideshow": {
     "slide_type": "subslide"
    },
    "tags": [
     "subslide"
    ]
   },
   "source": [
    "\n",
    "## Wie schreibt man gute Unit-Tests?\n",
    "\n",
    "- Teste beobachtbares Verhalten, nicht Implementierung\n",
    "- Teste kleine Einheiten\n",
    "- Verwende Test-Doubles dann (aber auch nur dann), wenn eine Abhängigkeit\n",
    "  \"eine Rakete abfeuert\"\n",
    "- Bevorzuge Tests von Werten gegenüber Tests von Zuständen\n",
    "- Bevorzuge Tests von Zuständen gegenüber Tests von Verhalten\n",
    "- (Diese Regeln setzen voraus, dass der Code solche Tests erlaubt)"
   ]
  },
  {
   "cell_type": "markdown",
   "id": "a753ed99ded7cfa4",
   "metadata": {
    "lang": "de",
    "slideshow": {
     "slide_type": "subslide"
    },
    "tags": [
     "subslide"
    ]
   },
   "source": [
    "\n",
    "### Warum Tests von beobachtbarem Verhalten, nicht Implementierung?\n",
    "\n",
    "Beobachtbares Verhalten\n",
    "- ist leichter zu verstehen\n",
    "- ist stabiler als Implementierung\n",
    "- entspricht eher dem Kundennutzen"
   ]
  },
  {
   "cell_type": "markdown",
   "id": "717a3a5a91936e57",
   "metadata": {
    "lang": "de",
    "slideshow": {
     "slide_type": "subslide"
    },
    "tags": [
     "subslide"
    ]
   },
   "source": [
    "\n",
    "## Teste beobachtbares Verhalten, nicht Implementierung\n",
    "\n",
    "- Abstrahiere so weit wie möglich von Implementierungsdetails\n",
    "  - Auch auf Unit-Test Ebene\n",
    "- Oft testen sich verschiedene Methoden gegenseitig\n",
    "- Dies erfordert manchmal die Einführung von zusätzlichen Methoden\n",
    "    - Diese Methoden sollen für Anwender sinnvoll sein, nicht nur für Tests\n",
    "    - Oft \"abstrakter Zustand\" von Objekten\n",
    "    - **Nicht:** konkreten Zustand öffentlich machen"
   ]
  },
  {
   "cell_type": "code",
   "execution_count": null,
   "id": "469c399181c5c962",
   "metadata": {
    "slideshow": {
     "slide_type": "subslide"
    },
    "tags": [
     "subslide",
     "start"
    ]
   },
   "outputs": [],
   "source": [
    "class Stack:  # type: ignore\n",
    "    def __init__(self):\n",
    "        self._items = []\n",
    "\n",
    "    def push(self, new_item):\n",
    "        self._items.append(new_item)\n",
    "\n",
    "    def pop(self):\n",
    "        return self._items.pop()"
   ]
  },
  {
   "cell_type": "code",
   "execution_count": null,
   "id": "8933e13f315b1e1a",
   "metadata": {
    "tags": [
     "keep"
    ]
   },
   "outputs": [],
   "source": [
    "my_stack = Stack()\n",
    "my_stack.push(5)"
   ]
  },
  {
   "cell_type": "code",
   "execution_count": null,
   "id": "83622880f7ed7a06",
   "metadata": {
    "tags": [
     "start"
    ]
   },
   "outputs": [],
   "source": [
    "assert my_stack._items == [5]  # noqa <- This might tell you something :)"
   ]
  },
  {
   "cell_type": "markdown",
   "id": "19e89ed9273ee7fd",
   "metadata": {
    "lang": "de",
    "slideshow": {
     "slide_type": "subslide"
    },
    "tags": [
     "subslide"
    ]
   },
   "source": [
    "\n",
    "## Teste kleine Einheiten (bei Unit-Tests)\n",
    "\n",
    "- Test von kleinen Einheiten\n",
    "  - spezifizieren das Verhalten der getesteten Einheit besser\n",
    "  - erleichtern die Lokalisierung von Fehlern\n",
    "  - sind leichter zu pflegen\n",
    "- Tests größerer Einheiten oder des Gesamtsystems sind wichtig als\n",
    "  - Integrationstests\n",
    "  - Systemtests\n",
    "  - Akzeptanztests"
   ]
  },
  {
   "cell_type": "markdown",
   "id": "3298a3a7b83a0d5f",
   "metadata": {
    "lang": "de",
    "lines_to_next_cell": 2,
    "slideshow": {
     "slide_type": "subslide"
    },
    "tags": [
     "subslide"
    ]
   },
   "source": [
    "\n",
    "## Test Doubles\n",
    "\n",
    "- Test Double: Vereinfachte Version einer Abhängigkeit im System\n",
    "  - z.B. Ersetzen einer Datenbankabfrage durch einen fixen Wert\n",
    "- Test Doubles sind wichtig zum Vereinfachen von Tests\n",
    "- Aber: zu viele oder komplexe Test Doubles machen Tests unübersichtlich\n",
    "  - Was wird von einem Test eigentlich getestet?\n",
    "- Test Doubles: Dummies, Stubs, Fakes, Mocks, Spies\n",
    "  - Dummies, Stubs, Fakes: eingehende Abhängigkeiten\n",
    "  - Mocks, Spies: ausgehende Abhängigkeiten"
   ]
  },
  {
   "cell_type": "markdown",
   "id": "5c9b26205d8ccf53",
   "metadata": {
    "lang": "de",
    "slideshow": {
     "slide_type": "subslide"
    },
    "tags": [
     "subslide"
    ]
   },
   "source": [
    "\n",
    "## Typischer Einsatz von Test Doubles\n",
    "\n",
    "- Zugriff auf Datenbank, Dateisystem\n",
    "- Zeit, Zufallswerte\n",
    "- Nichtdeterminismus\n",
    "- Verborgener Zustand (`AdderSpy`)"
   ]
  },
  {
   "cell_type": "markdown",
   "id": "84d072a63ae89a46",
   "metadata": {
    "lang": "de",
    "lines_to_next_cell": 2,
    "slideshow": {
     "slide_type": "subslide"
    },
    "tags": [
     "subslide"
    ]
   },
   "source": [
    "\n",
    "## Werte > Zustand > Kommunikation\n",
    "\n",
    "- Verständlicher\n",
    "- Leichter zu testen\n",
    "- Oft stabiler gegenüber Refactorings\n",
    "\n",
    "Ausnahme: Testen von Protokollen"
   ]
  },
  {
   "cell_type": "markdown",
   "id": "de99536caf4ef862",
   "metadata": {
    "lang": "de",
    "slideshow": {
     "slide_type": "subslide"
    },
    "tags": [
     "subslide"
    ]
   },
   "source": [
    "\n",
    "### Wert"
   ]
  },
  {
   "cell_type": "code",
   "execution_count": null,
   "id": "f21ecbe2fda4e4de",
   "metadata": {
    "tags": [
     "keep"
    ]
   },
   "outputs": [],
   "source": [
    "def add(x, y):\n",
    "    return x + y"
   ]
  },
  {
   "cell_type": "code",
   "execution_count": null,
   "id": "debb542028998ca5",
   "metadata": {
    "lines_to_next_cell": 2
   },
   "outputs": [],
   "source": []
  },
  {
   "cell_type": "markdown",
   "id": "bbab80f4677e09a3",
   "metadata": {
    "lang": "de",
    "slideshow": {
     "slide_type": "subslide"
    },
    "tags": [
     "subslide"
    ]
   },
   "source": [
    "\n",
    "### Zustand"
   ]
  },
  {
   "cell_type": "code",
   "execution_count": null,
   "id": "4c4de218687b1f2e",
   "metadata": {
    "tags": [
     "keep"
    ]
   },
   "outputs": [],
   "source": [
    "class Adder:\n",
    "    def __init__(self):\n",
    "        self.result = None\n",
    "\n",
    "    def add(self, x, y):\n",
    "        self.result = x + y"
   ]
  },
  {
   "cell_type": "code",
   "execution_count": null,
   "id": "2caac3250c78354a",
   "metadata": {
    "lines_to_next_cell": 2
   },
   "outputs": [],
   "source": []
  },
  {
   "cell_type": "markdown",
   "id": "d1271fb855123896",
   "metadata": {
    "lang": "de",
    "slideshow": {
     "slide_type": "subslide"
    },
    "tags": [
     "subslide"
    ]
   },
   "source": [
    "\n",
    "### Verhalten"
   ]
  },
  {
   "cell_type": "code",
   "execution_count": null,
   "id": "f1b04df0bac62ce4",
   "metadata": {
    "tags": [
     "keep"
    ]
   },
   "outputs": [],
   "source": [
    "def call_fun(fun):\n",
    "    _hidden_result = fun(2, 3)\n",
    "    # Presumably do something with _hidden_result...\n",
    "    return \"How do you test that fun was called?\""
   ]
  },
  {
   "cell_type": "code",
   "execution_count": null,
   "id": "7883227258433914",
   "metadata": {},
   "outputs": [],
   "source": []
  },
  {
   "cell_type": "code",
   "execution_count": null,
   "id": "277cf21e1e6848bc",
   "metadata": {
    "slideshow": {
     "slide_type": "subslide"
    },
    "tags": [
     "keep",
     "subslide"
    ]
   },
   "outputs": [],
   "source": [
    "class AdderSpy:\n",
    "    def __init__(self):\n",
    "        self.was_called = False\n",
    "        self.result = None\n",
    "\n",
    "    def __call__(self, x, y):\n",
    "        self.was_called = True\n",
    "        self.result = x + y\n",
    "        return self.result"
   ]
  },
  {
   "cell_type": "code",
   "execution_count": null,
   "id": "163050f28384b565",
   "metadata": {
    "slideshow": {
     "slide_type": "subslide"
    },
    "tags": [
     "subslide"
    ]
   },
   "outputs": [],
   "source": []
  },
  {
   "cell_type": "code",
   "execution_count": null,
   "id": "735185281d2b8b15",
   "metadata": {},
   "outputs": [],
   "source": []
  },
  {
   "cell_type": "code",
   "execution_count": null,
   "id": "df7e3eb22e48d4fd",
   "metadata": {},
   "outputs": [],
   "source": []
  },
  {
   "cell_type": "code",
   "execution_count": null,
   "id": "b8a65f36457d4b37",
   "metadata": {
    "slideshow": {
     "slide_type": "subslide"
    },
    "tags": [
     "subslide"
    ]
   },
   "outputs": [],
   "source": []
  },
  {
   "cell_type": "markdown",
   "id": "f5a164374c260ca0",
   "metadata": {
    "lang": "de",
    "lines_to_next_cell": 2,
    "slideshow": {
     "slide_type": "subslide"
    },
    "tags": [
     "subslide"
    ]
   },
   "source": [
    "\n",
    "## Wie schreibt man testbaren Code?\n",
    "\n",
    "- Keine globalen oder statischen Daten\n",
    "- Techniken aus der funktionalen Programmierung (Iterables, Higher-order Funktionen,\n",
    "  etc.)\n",
    "- Funktionale Datenstrukturen (Immutability)\n",
    "- Gutes objektorientiertes Design\n",
    "  - Hohe Kohärenz\n",
    "  - Geringe Kopplung, Management von Abhängigkeiten\n",
    "- Etc.\n",
    "\n",
    "Hilfsmittel: Test-Driven Development"
   ]
  },
  {
   "cell_type": "markdown",
   "id": "47c99a7246862e76",
   "metadata": {
    "lang": "de",
    "slideshow": {
     "slide_type": "slide"
    },
    "tags": [
     "slide"
    ]
   },
   "source": [
    "\n",
    "## Mini-Workshop: Tests für die Einkaufslisten-Implementierung\n",
    "\n",
    "Fügen Sie zur Implementierung einer Einkaufsliste in `examples/ShoppingListPytestSK`\n",
    "geeignete Unit-Tests hinzu.\n",
    "\n",
    "Beachten Sie, dass Sie manche der Tests auch als Doctests schreiben können.\n",
    "\n",
    "(Falls Sie die Einkaufsliste in einem vorherigen Workshop bereits implementiert haben,\n",
    "ist es besser, Sie verwenden stattdessen Ihre eigene Implementierung.)"
   ]
  }
 ],
 "metadata": {
  "jupytext": {
   "cell_metadata_filter": "tags,lang,-all",
   "main_language": "python",
   "notebook_metadata_filter": "-all"
  },
  "kernelspec": {
   "display_name": "cam-basic",
   "language": "python",
   "name": "python3"
  },
  "language_info": {
   "codemirror_mode": {
    "name": "ipython",
    "version": 3
   },
   "file_extension": ".py",
   "mimetype": "text/x-python",
   "name": "python",
   "nbconvert_exporter": "python",
   "pygments_lexer": "ipython3",
   "version": "3.12.8"
  }
 },
 "nbformat": 4,
 "nbformat_minor": 5
}
