{
 "cells": [
  {
   "cell_type": "markdown",
   "id": "6438318f3024090d",
   "metadata": {
    "lang": "de",
    "slideshow": {
     "slide_type": "slide"
    },
    "tags": [
     "slide"
    ]
   },
   "source": [
    "\n",
    "<img src=\"data:image/svg+xml;base64,PHN2ZyB4bWxucz0iaHR0cDovL3d3dy53My5vcmcvMjAwMC9zdmciIHhtbG5zOnhsaW5rPSJodHRw\n",
    "Oi8vd3d3LnczLm9yZy8xOTk5L3hsaW5rIiB3aWR0aD0iMTExLjE2MSIgaGVpZ2h0PSIxMzQuNjY4\n",
    "IiB2ZXJzaW9uPSIxLjAiPjxkZWZzPjxsaW5lYXJHcmFkaWVudCBpZD0iYyI+PHN0b3Agb2Zmc2V0\n",
    "PSIwIiBzdHlsZT0ic3RvcC1jb2xvcjojYjhiOGI4O3N0b3Atb3BhY2l0eTouNDk4MDM5MjIiLz48\n",
    "c3RvcCBvZmZzZXQ9IjEiIHN0eWxlPSJzdG9wLWNvbG9yOiM3ZjdmN2Y7c3RvcC1vcGFjaXR5OjAi\n",
    "Lz48L2xpbmVhckdyYWRpZW50PjxsaW5lYXJHcmFkaWVudCBpZD0iYSI+PHN0b3Agb2Zmc2V0PSIw\n",
    "IiBzdHlsZT0ic3RvcC1jb2xvcjojZmZkNDNiO3N0b3Atb3BhY2l0eToxIi8+PHN0b3Agb2Zmc2V0\n",
    "PSIxIiBzdHlsZT0ic3RvcC1jb2xvcjojZmZlODczO3N0b3Atb3BhY2l0eToxIi8+PC9saW5lYXJH\n",
    "cmFkaWVudD48bGluZWFyR3JhZGllbnQgaWQ9ImIiPjxzdG9wIG9mZnNldD0iMCIgc3R5bGU9InN0\n",
    "b3AtY29sb3I6IzVhOWZkNDtzdG9wLW9wYWNpdHk6MSIvPjxzdG9wIG9mZnNldD0iMSIgc3R5bGU9\n",
    "InN0b3AtY29sb3I6IzMwNjk5ODtzdG9wLW9wYWNpdHk6MSIvPjwvbGluZWFyR3JhZGllbnQ+PGxp\n",
    "bmVhckdyYWRpZW50IHhsaW5rOmhyZWY9IiNhIiBpZD0iZSIgeDE9IjE1MC45NjEiIHgyPSIxMTIu\n",
    "MDMxIiB5MT0iMTkyLjM1MiIgeTI9IjEzNy4yNzMiIGdyYWRpZW50VHJhbnNmb3JtPSJtYXRyaXgo\n",
    "LjU2MjU0IDAgMCAuNTY3OTcgLTE0Ljk5MSAtMTEuNzAyKSIgZ3JhZGllbnRVbml0cz0idXNlclNw\n",
    "YWNlT25Vc2UiLz48bGluZWFyR3JhZGllbnQgeGxpbms6aHJlZj0iI2IiIGlkPSJkIiB4MT0iMjYu\n",
    "NjQ5IiB4Mj0iMTM1LjY2NSIgeTE9IjIwLjYwNCIgeTI9IjExNC4zOTgiIGdyYWRpZW50VHJhbnNm\n",
    "b3JtPSJtYXRyaXgoLjU2MjU0IDAgMCAuNTY3OTcgLTE0Ljk5MSAtMTEuNzAyKSIgZ3JhZGllbnRV\n",
    "bml0cz0idXNlclNwYWNlT25Vc2UiLz48cmFkaWFsR3JhZGllbnQgeGxpbms6aHJlZj0iI2MiIGlk\n",
    "PSJmIiBjeD0iNjEuNTE5IiBjeT0iMTMyLjI4NiIgcj0iMjkuMDM3IiBmeD0iNjEuNTE5IiBmeT0i\n",
    "MTMyLjI4NiIgZ3JhZGllbnRUcmFuc2Zvcm09Im1hdHJpeCgwIC0uMjM5OTUgMS4wNTQ2NyAwIC04\n",
    "My43IDE0Mi40NjIpIiBncmFkaWVudFVuaXRzPSJ1c2VyU3BhY2VPblVzZSIvPjwvZGVmcz48cGF0\n",
    "aCBkPSJNNTQuOTE5IDBjLTQuNTg0LjAyMi04Ljk2MS40MTMtMTIuODEzIDEuMDk1QzMwLjc2IDMu\n",
    "MDk5IDI4LjcgNy4yOTUgMjguNyAxNS4wMzJ2MTAuMjE5aDI2LjgxM3YzLjQwNkgxOC42MzhjLTcu\n",
    "NzkzIDAtMTQuNjE2IDQuNjg0LTE2Ljc1IDEzLjU5NC0yLjQ2MiAxMC4yMTMtMi41NzEgMTYuNTg2\n",
    "IDAgMjcuMjUgMS45MDUgNy45MzggNi40NTcgMTMuNTk0IDE0LjI1IDEzLjU5NGg5LjIxOHYtMTIu\n",
    "MjVjMC04Ljg1IDcuNjU3LTE2LjY1NyAxNi43NS0xNi42NTdoMjYuNzgyYzcuNDU0IDAgMTMuNDA2\n",
    "LTYuMTM4IDEzLjQwNi0xMy42MjV2LTI1LjUzYzAtNy4yNjctNi4xMy0xMi43MjYtMTMuNDA2LTEz\n",
    "LjkzOEM2NC4yODIuMzI4IDU5LjUwMi0uMDIgNTQuOTE4IDBtLTE0LjUgOC4yMmMyLjc3IDAgNS4w\n",
    "MzEgMi4yOTggNS4wMzEgNS4xMjUgMCAyLjgxNi0yLjI2MiA1LjA5My01LjAzMSA1LjA5My0yLjc4\n",
    "IDAtNS4wMzEtMi4yNzctNS4wMzEtNS4wOTMgMC0yLjgyNyAyLjI1MS01LjEyNSA1LjAzLTUuMTI1\n",
    "IiBzdHlsZT0iZmlsbDp1cmwoI2QpO2ZpbGwtb3BhY2l0eToxIi8+PHBhdGggZD0iTTg1LjYzOCAy\n",
    "OC42NTd2MTEuOTA2YzAgOS4yMzEtNy44MjYgMTctMTYuNzUgMTdINDIuMTA2Yy03LjMzNiAwLTEz\n",
    "LjQwNiA2LjI3OS0xMy40MDYgMTMuNjI1Vjk2LjcyYzAgNy4yNjYgNi4zMTkgMTEuNTQgMTMuNDA2\n",
    "IDEzLjYyNSA4LjQ4OCAyLjQ5NSAxNi42MjcgMi45NDYgMjYuNzgyIDAgNi43NS0xLjk1NSAxMy40\n",
    "MDYtNS44ODggMTMuNDA2LTEzLjYyNVY4Ni41SDU1LjUxM3YtMy40MDVIOTUuN2M3Ljc5MyAwIDEw\n",
    "LjY5Ni01LjQzNiAxMy40MDYtMTMuNTk0IDIuOC04LjM5OSAyLjY4LTE2LjQ3NiAwLTI3LjI1LTEu\n",
    "OTI1LTcuNzU4LTUuNjA0LTEzLjU5NC0xMy40MDYtMTMuNTk0ek03MC41NzUgOTMuMzEzYzIuNzgg\n",
    "MCA1LjAzMSAyLjI3OCA1LjAzMSA1LjA5NCAwIDIuODI3LTIuMjUxIDUuMTI1LTUuMDMxIDUuMTI1\n",
    "LTIuNzcgMC01LjAzMS0yLjI5OC01LjAzMS01LjEyNSAwLTIuODE2IDIuMjYxLTUuMDk0IDUuMDMx\n",
    "LTUuMDk0IiBzdHlsZT0iZmlsbDp1cmwoI2UpO2ZpbGwtb3BhY2l0eToxIi8+PGVsbGlwc2UgY3g9\n",
    "IjU1LjgxNyIgY3k9IjEyNy43MDEiIHJ4PSIzNS45MzEiIHJ5PSI2Ljk2NyIgc3R5bGU9Im9wYWNp\n",
    "dHk6LjQ0MzgyO2ZpbGw6dXJsKCNmKTtmaWxsLW9wYWNpdHk6MTtmaWxsLXJ1bGU6bm9uemVybztz\n",
    "dHJva2U6bm9uZTtzdHJva2Utd2lkdGg6MTUuNDE3NDtzdHJva2UtbWl0ZXJsaW1pdDo0O3N0cm9r\n",
    "ZS1kYXNoYXJyYXk6bm9uZTtzdHJva2Utb3BhY2l0eToxIi8+PC9zdmc+\n",
    "\"\n",
    "     style=\"display:block;margin:auto;width:10%\" alt=\"Python Logo\"/>\n",
    "<br>\n",
    "\n",
    "<div style=\"text-align:center; font-size:200%;\">\n",
    " <b>Test-Driven-Development</b>\n",
    "</div>\n",
    "<br/>\n",
    "<div style=\"text-align:center;\">Dr. Matthias Hölzl</div>\n",
    "<br/>"
   ]
  },
  {
   "cell_type": "markdown",
   "id": "6c5e89df1b7cff46",
   "metadata": {
    "lang": "de",
    "slideshow": {
     "slide_type": "subslide"
    },
    "tags": [
     "subslide"
    ]
   },
   "source": [
    "\n",
    "## Idee\n",
    "\n",
    "- Verwende Tests, um das Design und die Feature-Entwicklung des Programms\n",
    "  voranzutreiben\n",
    "- Jeder neue Test beschreibt ein Feature-Inkrement des Programms\n",
    "- (Gut testbarer Code entsteht dabei quasi als Nebenprodukt)"
   ]
  },
  {
   "cell_type": "markdown",
   "id": "e69a7c35f1e28432",
   "metadata": {
    "lang": "de",
    "slideshow": {
     "slide_type": "subslide"
    },
    "tags": [
     "subslide"
    ]
   },
   "source": [
    "\n",
    "## Problem\n",
    "\n",
    "Wie können Tests das Design des Programms vorantreiben?"
   ]
  },
  {
   "cell_type": "markdown",
   "id": "66dd00ad783b4ae7",
   "metadata": {
    "lang": "de",
    "slideshow": {
     "slide_type": "subslide"
    },
    "tags": [
     "subslide"
    ]
   },
   "source": [
    "\n",
    "## Mögliche Antworten\n",
    "\n",
    "- Tests verwenden die Funktionalität und zeigen komplizierte Interfaces auf\n",
    "- Tests ermöglichen Refactoring"
   ]
  },
  {
   "cell_type": "markdown",
   "id": "2f927b1287a5752f",
   "metadata": {
    "lang": "de",
    "slideshow": {
     "slide_type": "subslide"
    },
    "tags": [
     "subslide"
    ]
   },
   "source": [
    "\n",
    "## Refactoring\n",
    "\n",
    "- Verbessern der Code-Struktur ohne Änderung des Verhaltens\n",
    "- Vorgehen in kleinen Schritten\n",
    "  - Nach jedem Schritt ist der Code wieder ausführbar\n",
    "- Ziele:\n",
    "  - Verbessern des Codes\n",
    "  - Verbesserung des Designs"
   ]
  },
  {
   "cell_type": "markdown",
   "id": "36b0dcf358222c11",
   "metadata": {
    "lang": "de",
    "lines_to_next_cell": 2,
    "slideshow": {
     "slide_type": "subslide"
    },
    "tags": [
     "subslide"
    ]
   },
   "source": [
    "\n",
    "## Refactoring und Tests\n",
    "\n",
    "- Durch Refactoring wird das Design des Programms in kleinen Schritten verbessert\n",
    "- Die Korrektheit dieser Schritte wird durch Tests abgesichert"
   ]
  },
  {
   "cell_type": "markdown",
   "id": "b80891c1af6abf27",
   "metadata": {
    "lang": "de",
    "lines_to_next_cell": 2,
    "slideshow": {
     "slide_type": "subslide"
    },
    "tags": [
     "subslide"
    ]
   },
   "source": [
    "\n",
    "## So what???\n",
    "\n",
    "<img src=\"img/dev-velocity.png\"\n",
    "     style=\"display:block;margin:auto;width:70%\"/>"
   ]
  },
  {
   "cell_type": "markdown",
   "id": "78ffaae8a6f3ef2f",
   "metadata": {
    "lang": "de",
    "lines_to_next_cell": 2,
    "slideshow": {
     "slide_type": "subslide"
    },
    "tags": [
     "subslide"
    ]
   },
   "source": [
    "\n",
    "## Test-Driven Development\n",
    "\n",
    "- Ziel beim TDD ist nicht in erster Linie, eine hohe Testabdeckung zu erreichen\n",
    "  - Typischerweise schreibt man keine Tests für Methoden, von denen man überzeugt\n",
    "    ist, dass sie nicht fehlschlagen können\n",
    "- Ziel beim TDD ist es, durch Tests ein gutes Design zu entdecken\n",
    "  - Beim Schreiben der Tests versucht man, das Interface von Klassen und Funktionen\n",
    "    so zu gestalten, dass es leicht zu benutzen ist\n",
    "  - Dadurch, dass alle wesentlichen Teile des Programms durch Tests abgesichert\n",
    "    sind, kann man das Design durch Refactoring permanent an das aktuelle Feature-Set\n",
    "    anpassen"
   ]
  },
  {
   "cell_type": "markdown",
   "id": "59b3df4b563a8607",
   "metadata": {
    "lang": "de",
    "lines_to_next_cell": 2,
    "slideshow": {
     "slide_type": "subslide"
    },
    "tags": [
     "subslide"
    ]
   },
   "source": [
    "\n",
    "## Der TDD-Zyklus\n",
    "\n",
    "- Schreibe einen (minimalen) Test\n",
    "  - Der Test testet nur ein einziges neues (Teil-)Feature: **Baby Steps**\n",
    "  - Dieser Test schlägt fehl\n",
    "- Implementiere die minimale Funktionalität, um den Test zum Laufen zu bringen\n",
    "  - Dabei muss man nicht auf sauberen Code oder gutes Design achten\n",
    "  - Aber: **Solve Simply**\n",
    "- Verbessere den Code\n",
    "  - Entferne die unsauberen Konstrukte, die im vorhergehenden Schritt eingefügt wurden\n",
    "  - Generalisiere die Implementierung, wenn zu viel Wiederholung entstanden ist\n",
    "  - **Dieser Schritt ist nicht optional!!!**"
   ]
  },
  {
   "cell_type": "markdown",
   "id": "f9b0a1d7b5e808f1",
   "metadata": {
    "lang": "de",
    "slideshow": {
     "slide_type": "subslide"
    },
    "tags": [
     "subslide"
    ]
   },
   "source": [
    "\n",
    "## Der TDD-Zyklus\n",
    "\n",
    "- <span style=\"color: red\"><b>Red (fehlschlagender Test)</b></span>\n",
    "- <span style=\"color: green\"><b>Green (alle Tests sind wieder grün)</b></span>\n",
    "- <span style=\"color: blue\"><b>Clean/Refactor (der Code ist wieder sauber)</b></span>"
   ]
  },
  {
   "cell_type": "markdown",
   "id": "0c348ba3e500b667",
   "metadata": {
    "lang": "de",
    "slideshow": {
     "slide_type": "subslide"
    },
    "tags": [
     "subslide"
    ]
   },
   "source": [
    "\n",
    "## Baby-Steps\n",
    "\n",
    "- Das System ist nicht stunden- oder tagelang in einem Zustand, in dem es nicht\n",
    "  baubar, testbar oder ausführbar ist\n",
    "- Dadurch bekommt man bei jeder Änderung schnell Feedback vom Code\n",
    "- Häufiges Mergen und CI wird möglich"
   ]
  },
  {
   "cell_type": "markdown",
   "id": "be80b4c3f0c253e0",
   "metadata": {
    "lang": "de",
    "slideshow": {
     "slide_type": "subslide"
    },
    "tags": [
     "subslide"
    ]
   },
   "source": [
    "\n",
    "## Warum Solve Simply?\n",
    "\n",
    "- Eine flexible, generische Lösung erhöht oft die Komplexität des Systems\n",
    "- Das lohnt sich nur, wenn die Flexibilität auch benötigt wird\n",
    "- Entwickler können meist schlecht vorhersehen, an welchen Stellen\n",
    "  Flexibilität/Erweiterbarkeit benötigt wird\n",
    "- Eine flexible, generische Lösung ist oft sehr viel schwerer zu implementieren\n",
    "  als eine einfache Lösung für einen spezielleren Anwendungsfall\n",
    "- Die naheliegendste flexible, generische Lösung ist oft nicht der sauberste und\n",
    "  wartbare Code"
   ]
  },
  {
   "cell_type": "markdown",
   "id": "dcb02115140c8b63",
   "metadata": {
    "lang": "de",
    "slideshow": {
     "slide_type": "subslide"
    },
    "tags": [
     "subslide"
    ]
   },
   "source": [
    "\n",
    "## Annahmen von Solve Simply\n",
    "\n",
    "- Es ist durch Refactoring möglich, Code in einen sauberen, wartbaren Zustand zu\n",
    "  bekommen, ohne dadurch die Funktionalität zu verändern\n",
    "- Es ist möglich, Code iterativ zu erweitern und flexibler zu machen,\n",
    "  wenn das erforderlich ist\n",
    "- Es ist einfacher, die Refactoring- und Iterations-Schritte durchzuführen, als\n",
    "  gleich die endgültige Lösung zu entwickeln\n",
    "- Diese Annahmen sind nur dann erfüllt, wenn hinreichend viele, gute\n",
    "  Unit-Tests vorliegen"
   ]
  },
  {
   "cell_type": "markdown",
   "id": "deac7cb941ddd8b9",
   "metadata": {
    "lang": "de",
    "slideshow": {
     "slide_type": "subslide"
    },
    "tags": [
     "subslide"
    ]
   },
   "source": [
    "\n",
    "## Noch besser: TDD + Vorbereitungsschritt\n",
    "\n",
    "- Refactore den Code, sodass die Änderung einfach wird\n",
    "  - Das ist oft nicht so einfach…\n",
    "  - Wenn beim Refactoring klar wird, dass Tests fehlen, so werden diese hinzugefügt\n",
    "- Führe die einfache Änderung mit dem TDD-Zyklus durch\n",
    "- Wiederhole diese Schritte immer wieder"
   ]
  },
  {
   "cell_type": "markdown",
   "id": "471a1e79a2e6c879",
   "metadata": {
    "lang": "de",
    "slideshow": {
     "slide_type": "subslide"
    },
    "tags": [
     "subslide"
    ]
   },
   "source": [
    "\n",
    "## Geleitetes Kata: Primfaktorzerlegung\n",
    "\n",
    "- Eine Übung zu TDD, die zeigt, wie man durch Tests auf eine einfache\n",
    "  Implementierung eines Algorithmus geführt werden kann\n",
    "- Wichtig ist die Vorgehensweise: Tests sollen das Design treiben\n",
    "- Ziel: Lernen inkrementell und iterativ zu arbeiten!"
   ]
  },
  {
   "cell_type": "markdown",
   "id": "5cfc46ef4523568e",
   "metadata": {
    "lang": "de",
    "slideshow": {
     "slide_type": "subslide"
    },
    "tags": [
     "subslide"
    ]
   },
   "source": [
    "\n",
    "## Geleitetes Kata: Primfaktorzerlegung\n",
    "\n",
    "Schreiben Sie eine Funktion\n",
    "\n",
    "```python\n",
    "compute_prime_factors(n: int) -> list[int]\n",
    "```\n",
    "die die Primfaktoren von n in aufsteigender Reihenfolge zurückgibt.\n",
    "\n",
    "Mehrfach vorkommende Primfaktoren sind in der Liste mehrmals enthalten.\n",
    "\n",
    "Sie können dazu das Programmgerüst `examples/PrimesStarterKit` hernehmen."
   ]
  },
  {
   "cell_type": "code",
   "execution_count": null,
   "id": "bfabc0d6f37eb92a",
   "metadata": {
    "slideshow": {
     "slide_type": "subslide"
    },
    "tags": [
     "subslide"
    ]
   },
   "outputs": [],
   "source": []
  },
  {
   "cell_type": "code",
   "execution_count": null,
   "id": "6ba46eb56acf9706",
   "metadata": {},
   "outputs": [],
   "source": []
  },
  {
   "cell_type": "markdown",
   "id": "3eeadc5a993552ab",
   "metadata": {
    "lang": "de",
    "slideshow": {
     "slide_type": "subslide"
    },
    "tags": [
     "subslide"
    ]
   },
   "source": [
    "\n",
    "## Kata: FizzBuzz\n",
    "\n",
    "Schreiben Sie eine Funktion `fizz_buzz(n)`, die die Zahlen von 1 bis `n`\n",
    "ausgibt aber dabei\n",
    "\n",
    "- jede Zahl, die durch 3 teilbar ist, durch `Fizz` ersetzt\n",
    "- jede Zahl, die durch 5 teilbar ist, durch `Buzz` ersetzt\n",
    "- jede Zahl, die durch 3 und 5 teilbar ist, durch `FizzBuzz` ersetzt\n",
    "\n",
    "Zum Beispiel soll `fizz_buzz(31)` die folgende Ausgabe erzeugen:\n",
    "\n",
    "```\n",
    "1\n",
    "2\n",
    "Fizz\n",
    "4\n",
    "Buzz\n",
    "Fizz\n",
    "7\n",
    "8\n",
    "Fizz\n",
    "Buzz\n",
    "11\n",
    "Fizz\n",
    "13\n",
    "14\n",
    "FizzBuzz\n",
    "16\n",
    "17\n",
    "Fizz\n",
    "19\n",
    "Buzz\n",
    "Fizz\n",
    "22\n",
    "23\n",
    "Fizz\n",
    "Buzz\n",
    "26\n",
    "Fizz\n",
    "28\n",
    "29\n",
    "FizzBuzz\n",
    "31\n",
    "```"
   ]
  },
  {
   "cell_type": "code",
   "execution_count": 13,
   "id": "8e37798e",
   "metadata": {},
   "outputs": [],
   "source": [
    "import pytest"
   ]
  },
  {
   "cell_type": "code",
   "execution_count": null,
   "id": "704fc132",
   "metadata": {},
   "outputs": [],
   "source": [
    "FIZZBUZZ_RESULTS = [\n",
    "    \"1\",\n",
    "    \"2\",\n",
    "    \"Fizz\",\n",
    "    \"4\",\n",
    "    \"Buzz\",\n",
    "    \"Fizz\",\n",
    "    \"7\",\n",
    "    \"8\",\n",
    "    \"Fizz\",\n",
    "    \"Buzz\",\n",
    "    \"11\",\n",
    "    \"Fizz\",\n",
    "    \"13\",\n",
    "    \"14\",\n",
    "    \"FizzBuzz\",\n",
    "    \"16\",\n",
    "]"
   ]
  },
  {
   "cell_type": "code",
   "execution_count": 60,
   "id": "00ea87b367d23dd1",
   "metadata": {},
   "outputs": [],
   "source": [
    "def fizz_buzz(n):\n",
    "    result = []\n",
    "    for i in range(1, n+1):\n",
    "        if i % 3 == 0 and i % 5 == 0:\n",
    "            result.append(\"FizzBuzz\")\n",
    "        elif i % 3 == 0:\n",
    "            result.append(\"Fizz\")\n",
    "        elif i % 5 == 0:\n",
    "            result.append(\"Buzz\")\n",
    "        else:\n",
    "            result.append(str(i))\n",
    "\n",
    "    return result"
   ]
  },
  {
   "cell_type": "code",
   "execution_count": 61,
   "id": "ddde5c9f56fdca1a",
   "metadata": {
    "incorrectly_encoded_metadata": "tags=[\"subslide\", alt]"
   },
   "outputs": [],
   "source": [
    "def test_fizz_buzz(n, output):\n",
    "    assert fizz_buzz(n) == output\n",
    "\n",
    "# Test Case\n",
    "test_fizz_buzz(1, [\"1\"])\n",
    "test_fizz_buzz(2, [\"1\", \"2\"])\n",
    "test_fizz_buzz(3, [\"1\", \"2\", \"Fizz\"])\n",
    "test_fizz_buzz(5, [\"1\", \"2\", \"Fizz\", \"4\", \"Buzz\"])\n",
    "test_fizz_buzz(16, FIZZBUZZ_RESULTS)"
   ]
  },
  {
   "cell_type": "code",
   "execution_count": null,
   "id": "3b989b6deaf8ebe5",
   "metadata": {
    "incorrectly_encoded_metadata": "tags=[\"subslide\", alt]"
   },
   "outputs": [],
   "source": []
  },
  {
   "cell_type": "code",
   "execution_count": null,
   "id": "a7c6e4a98b52413b",
   "metadata": {
    "incorrectly_encoded_metadata": "tags=[\"subslide\", alt]"
   },
   "outputs": [],
   "source": []
  },
  {
   "cell_type": "code",
   "execution_count": null,
   "id": "31c15ca674a93289",
   "metadata": {
    "incorrectly_encoded_metadata": "tags=[\"subslide\", alt]"
   },
   "outputs": [],
   "source": []
  },
  {
   "cell_type": "code",
   "execution_count": null,
   "id": "dd1bec54f642c6e1",
   "metadata": {
    "slideshow": {
     "slide_type": "subslide"
    },
    "tags": [
     "subslide"
    ]
   },
   "outputs": [],
   "source": []
  },
  {
   "cell_type": "code",
   "execution_count": null,
   "id": "897af7f879710dfa",
   "metadata": {
    "lines_to_next_cell": 2
   },
   "outputs": [],
   "source": []
  },
  {
   "cell_type": "markdown",
   "id": "f0063eb0c549d752",
   "metadata": {
    "lang": "de",
    "slideshow": {
     "slide_type": "subslide"
    },
    "tags": [
     "subslide"
    ]
   },
   "source": [
    "\n",
    "### Implementierungsvariante"
   ]
  },
  {
   "cell_type": "code",
   "execution_count": null,
   "id": "2dd343751fae2303",
   "metadata": {
    "slideshow": {
     "slide_type": "subslide"
    },
    "tags": [
     "subslide"
    ]
   },
   "outputs": [],
   "source": []
  },
  {
   "cell_type": "code",
   "execution_count": null,
   "id": "48a2b9090c3dc533",
   "metadata": {},
   "outputs": [],
   "source": []
  },
  {
   "cell_type": "code",
   "execution_count": null,
   "id": "18f0d8b1acb14f6a",
   "metadata": {
    "slideshow": {
     "slide_type": "subslide"
    },
    "tags": [
     "keep",
     "subslide"
    ]
   },
   "outputs": [],
   "source": [
    "FIZZBUZZ_RESULTS = [\n",
    "    \"1\",\n",
    "    \"2\",\n",
    "    \"Fizz\",\n",
    "    \"4\",\n",
    "    \"Buzz\",\n",
    "    \"Fizz\",\n",
    "    \"7\",\n",
    "    \"8\",\n",
    "    \"Fizz\",\n",
    "    \"Buzz\",\n",
    "    \"11\",\n",
    "    \"Fizz\",\n",
    "    \"13\",\n",
    "    \"14\",\n",
    "    \"FizzBuzz\",\n",
    "    \"16\",\n",
    "]"
   ]
  },
  {
   "cell_type": "code",
   "execution_count": null,
   "id": "399bb0acbe56be69",
   "metadata": {
    "slideshow": {
     "slide_type": "subslide"
    },
    "tags": [
     "subslide"
    ]
   },
   "outputs": [],
   "source": []
  },
  {
   "cell_type": "code",
   "execution_count": null,
   "id": "bb18be52162bd49d",
   "metadata": {},
   "outputs": [],
   "source": []
  }
 ],
 "metadata": {
  "jupytext": {
   "cell_metadata_filter": "incorrectly_encoded_metadata,lang,tags,-all",
   "main_language": "python",
   "notebook_metadata_filter": "-all"
  },
  "kernelspec": {
   "display_name": "base",
   "language": "python",
   "name": "python3"
  },
  "language_info": {
   "codemirror_mode": {
    "name": "ipython",
    "version": 3
   },
   "file_extension": ".py",
   "mimetype": "text/x-python",
   "name": "python",
   "nbconvert_exporter": "python",
   "pygments_lexer": "ipython3",
   "version": "3.9.12"
  }
 },
 "nbformat": 4,
 "nbformat_minor": 5
}
