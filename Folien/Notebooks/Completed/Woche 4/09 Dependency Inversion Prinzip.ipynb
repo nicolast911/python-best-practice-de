{
 "cells": [
  {
   "cell_type": "markdown",
   "id": "c1df4d5ea40807f6",
   "metadata": {
    "lang": "de",
    "slideshow": {
     "slide_type": "slide"
    },
    "tags": [
     "slide"
    ]
   },
   "source": [
    "\n",
    "<img src=\"data:image/svg+xml;base64,PHN2ZyB4bWxucz0iaHR0cDovL3d3dy53My5vcmcvMjAwMC9zdmciIHhtbG5zOnhsaW5rPSJodHRw\n",
    "Oi8vd3d3LnczLm9yZy8xOTk5L3hsaW5rIiB3aWR0aD0iMTExLjE2MSIgaGVpZ2h0PSIxMzQuNjY4\n",
    "IiB2ZXJzaW9uPSIxLjAiPjxkZWZzPjxsaW5lYXJHcmFkaWVudCBpZD0iYyI+PHN0b3Agb2Zmc2V0\n",
    "PSIwIiBzdHlsZT0ic3RvcC1jb2xvcjojYjhiOGI4O3N0b3Atb3BhY2l0eTouNDk4MDM5MjIiLz48\n",
    "c3RvcCBvZmZzZXQ9IjEiIHN0eWxlPSJzdG9wLWNvbG9yOiM3ZjdmN2Y7c3RvcC1vcGFjaXR5OjAi\n",
    "Lz48L2xpbmVhckdyYWRpZW50PjxsaW5lYXJHcmFkaWVudCBpZD0iYSI+PHN0b3Agb2Zmc2V0PSIw\n",
    "IiBzdHlsZT0ic3RvcC1jb2xvcjojZmZkNDNiO3N0b3Atb3BhY2l0eToxIi8+PHN0b3Agb2Zmc2V0\n",
    "PSIxIiBzdHlsZT0ic3RvcC1jb2xvcjojZmZlODczO3N0b3Atb3BhY2l0eToxIi8+PC9saW5lYXJH\n",
    "cmFkaWVudD48bGluZWFyR3JhZGllbnQgaWQ9ImIiPjxzdG9wIG9mZnNldD0iMCIgc3R5bGU9InN0\n",
    "b3AtY29sb3I6IzVhOWZkNDtzdG9wLW9wYWNpdHk6MSIvPjxzdG9wIG9mZnNldD0iMSIgc3R5bGU9\n",
    "InN0b3AtY29sb3I6IzMwNjk5ODtzdG9wLW9wYWNpdHk6MSIvPjwvbGluZWFyR3JhZGllbnQ+PGxp\n",
    "bmVhckdyYWRpZW50IHhsaW5rOmhyZWY9IiNhIiBpZD0iZSIgeDE9IjE1MC45NjEiIHgyPSIxMTIu\n",
    "MDMxIiB5MT0iMTkyLjM1MiIgeTI9IjEzNy4yNzMiIGdyYWRpZW50VHJhbnNmb3JtPSJtYXRyaXgo\n",
    "LjU2MjU0IDAgMCAuNTY3OTcgLTE0Ljk5MSAtMTEuNzAyKSIgZ3JhZGllbnRVbml0cz0idXNlclNw\n",
    "YWNlT25Vc2UiLz48bGluZWFyR3JhZGllbnQgeGxpbms6aHJlZj0iI2IiIGlkPSJkIiB4MT0iMjYu\n",
    "NjQ5IiB4Mj0iMTM1LjY2NSIgeTE9IjIwLjYwNCIgeTI9IjExNC4zOTgiIGdyYWRpZW50VHJhbnNm\n",
    "b3JtPSJtYXRyaXgoLjU2MjU0IDAgMCAuNTY3OTcgLTE0Ljk5MSAtMTEuNzAyKSIgZ3JhZGllbnRV\n",
    "bml0cz0idXNlclNwYWNlT25Vc2UiLz48cmFkaWFsR3JhZGllbnQgeGxpbms6aHJlZj0iI2MiIGlk\n",
    "PSJmIiBjeD0iNjEuNTE5IiBjeT0iMTMyLjI4NiIgcj0iMjkuMDM3IiBmeD0iNjEuNTE5IiBmeT0i\n",
    "MTMyLjI4NiIgZ3JhZGllbnRUcmFuc2Zvcm09Im1hdHJpeCgwIC0uMjM5OTUgMS4wNTQ2NyAwIC04\n",
    "My43IDE0Mi40NjIpIiBncmFkaWVudFVuaXRzPSJ1c2VyU3BhY2VPblVzZSIvPjwvZGVmcz48cGF0\n",
    "aCBkPSJNNTQuOTE5IDBjLTQuNTg0LjAyMi04Ljk2MS40MTMtMTIuODEzIDEuMDk1QzMwLjc2IDMu\n",
    "MDk5IDI4LjcgNy4yOTUgMjguNyAxNS4wMzJ2MTAuMjE5aDI2LjgxM3YzLjQwNkgxOC42MzhjLTcu\n",
    "NzkzIDAtMTQuNjE2IDQuNjg0LTE2Ljc1IDEzLjU5NC0yLjQ2MiAxMC4yMTMtMi41NzEgMTYuNTg2\n",
    "IDAgMjcuMjUgMS45MDUgNy45MzggNi40NTcgMTMuNTk0IDE0LjI1IDEzLjU5NGg5LjIxOHYtMTIu\n",
    "MjVjMC04Ljg1IDcuNjU3LTE2LjY1NyAxNi43NS0xNi42NTdoMjYuNzgyYzcuNDU0IDAgMTMuNDA2\n",
    "LTYuMTM4IDEzLjQwNi0xMy42MjV2LTI1LjUzYzAtNy4yNjctNi4xMy0xMi43MjYtMTMuNDA2LTEz\n",
    "LjkzOEM2NC4yODIuMzI4IDU5LjUwMi0uMDIgNTQuOTE4IDBtLTE0LjUgOC4yMmMyLjc3IDAgNS4w\n",
    "MzEgMi4yOTggNS4wMzEgNS4xMjUgMCAyLjgxNi0yLjI2MiA1LjA5My01LjAzMSA1LjA5My0yLjc4\n",
    "IDAtNS4wMzEtMi4yNzctNS4wMzEtNS4wOTMgMC0yLjgyNyAyLjI1MS01LjEyNSA1LjAzLTUuMTI1\n",
    "IiBzdHlsZT0iZmlsbDp1cmwoI2QpO2ZpbGwtb3BhY2l0eToxIi8+PHBhdGggZD0iTTg1LjYzOCAy\n",
    "OC42NTd2MTEuOTA2YzAgOS4yMzEtNy44MjYgMTctMTYuNzUgMTdINDIuMTA2Yy03LjMzNiAwLTEz\n",
    "LjQwNiA2LjI3OS0xMy40MDYgMTMuNjI1Vjk2LjcyYzAgNy4yNjYgNi4zMTkgMTEuNTQgMTMuNDA2\n",
    "IDEzLjYyNSA4LjQ4OCAyLjQ5NSAxNi42MjcgMi45NDYgMjYuNzgyIDAgNi43NS0xLjk1NSAxMy40\n",
    "MDYtNS44ODggMTMuNDA2LTEzLjYyNVY4Ni41SDU1LjUxM3YtMy40MDVIOTUuN2M3Ljc5MyAwIDEw\n",
    "LjY5Ni01LjQzNiAxMy40MDYtMTMuNTk0IDIuOC04LjM5OSAyLjY4LTE2LjQ3NiAwLTI3LjI1LTEu\n",
    "OTI1LTcuNzU4LTUuNjA0LTEzLjU5NC0xMy40MDYtMTMuNTk0ek03MC41NzUgOTMuMzEzYzIuNzgg\n",
    "MCA1LjAzMSAyLjI3OCA1LjAzMSA1LjA5NCAwIDIuODI3LTIuMjUxIDUuMTI1LTUuMDMxIDUuMTI1\n",
    "LTIuNzcgMC01LjAzMS0yLjI5OC01LjAzMS01LjEyNSAwLTIuODE2IDIuMjYxLTUuMDk0IDUuMDMx\n",
    "LTUuMDk0IiBzdHlsZT0iZmlsbDp1cmwoI2UpO2ZpbGwtb3BhY2l0eToxIi8+PGVsbGlwc2UgY3g9\n",
    "IjU1LjgxNyIgY3k9IjEyNy43MDEiIHJ4PSIzNS45MzEiIHJ5PSI2Ljk2NyIgc3R5bGU9Im9wYWNp\n",
    "dHk6LjQ0MzgyO2ZpbGw6dXJsKCNmKTtmaWxsLW9wYWNpdHk6MTtmaWxsLXJ1bGU6bm9uemVybztz\n",
    "dHJva2U6bm9uZTtzdHJva2Utd2lkdGg6MTUuNDE3NDtzdHJva2UtbWl0ZXJsaW1pdDo0O3N0cm9r\n",
    "ZS1kYXNoYXJyYXk6bm9uZTtzdHJva2Utb3BhY2l0eToxIi8+PC9zdmc+\n",
    "\"\n",
    "     style=\"display:block;margin:auto;width:10%\" alt=\"Python Logo\"/>\n",
    "<br>\n",
    "\n",
    "<div style=\"text-align:center; font-size:200%;\">\n",
    " <b>Dependency Inversion Prinzip</b>\n",
    "</div>\n",
    "<br/>\n",
    "<div style=\"text-align:center;\">Dr. Matthias Hölzl</div>\n",
    "<br/>"
   ]
  },
  {
   "cell_type": "markdown",
   "id": "a746313c51a6882c",
   "metadata": {
    "lang": "de",
    "slideshow": {
     "slide_type": "subslide"
    },
    "tags": [
     "subslide"
    ]
   },
   "source": [
    "\n",
    "# Abhängigkeiten\n",
    "\n",
    "- Wir müssen zwei Arten von Abhängigkeiten unterscheiden:\n",
    "  - Daten- und Kontrollfluss\n",
    "  - Quellcode-Abhängigkeiten\n",
    "- Daten- und Kontrollfluss-Abhängigkeiten sind inhärent in der Logik\n",
    "- Quellcode-Abhängigkeiten können wir durch die Architektur kontrollieren"
   ]
  },
  {
   "cell_type": "markdown",
   "id": "e5fc04dea83a6466",
   "metadata": {
    "lang": "de",
    "slideshow": {
     "slide_type": "subslide"
    },
    "tags": [
     "subslide"
    ]
   },
   "source": [
    "\n",
    "## Beispiel\n",
    "\n",
    "- Modul `my_module.py` schreibt Daten in eine Datenbank\n",
    "- Datenfluss: von `my_module.py` zur Datenbank\n",
    "- Quellcode-Abhängigkeit: `my_module.py` hängt von der Datenbank (`sqlite3`) ab"
   ]
  },
  {
   "cell_type": "markdown",
   "id": "5df180b431440887",
   "metadata": {
    "lang": "de",
    "slideshow": {
     "slide_type": "subslide"
    },
    "tags": [
     "subslide"
    ]
   },
   "source": [
    "\n",
    "Modul `my_module.py`:"
   ]
  },
  {
   "cell_type": "code",
   "execution_count": null,
   "id": "02614641ae12e5de",
   "metadata": {
    "tags": [
     "keep"
    ]
   },
   "outputs": [],
   "source": [
    "import sqlite3  # Quellcode-Abhängigkeit"
   ]
  },
  {
   "cell_type": "code",
   "execution_count": null,
   "id": "a50d7e097128b78b",
   "metadata": {
    "tags": [
     "keep"
    ]
   },
   "outputs": [],
   "source": [
    "class MyDomainClassV1:\n",
    "    def __init__(self):\n",
    "        conn = sqlite3.connect(\":memory:\")\n",
    "        conn.execute(\"CREATE TABLE my_table (data text)\")\n",
    "        conn.commit()\n",
    "        self.conn = conn\n",
    "\n",
    "    def perform_work(self, data: str):\n",
    "        data = \"Processed: \" + data\n",
    "        self.conn.execute(\"INSERT INTO my_table VALUES (?)\", (data,))\n",
    "        self.conn.commit()\n",
    "\n",
    "    def retrieve_result(self):\n",
    "        cur = self.conn.execute(\"SELECT * FROM my_table\")\n",
    "        return cur.fetchall()"
   ]
  },
  {
   "cell_type": "markdown",
   "id": "b4a0d845a6d85cdd",
   "metadata": {
    "lang": "de",
    "slideshow": {
     "slide_type": "subslide"
    },
    "tags": [
     "subslide"
    ]
   },
   "source": [
    "\n",
    "Modul `main.py`:"
   ]
  },
  {
   "cell_type": "code",
   "execution_count": null,
   "id": "5228a6a84d268682",
   "metadata": {
    "tags": [
     "keep"
    ]
   },
   "outputs": [],
   "source": [
    "# from my_module import MyDomainClassV1\n",
    "\n",
    "my_domain_object = MyDomainClassV1()\n",
    "my_domain_object.perform_work(\"Hello World\")\n",
    "print(my_domain_object.retrieve_result())"
   ]
  },
  {
   "cell_type": "markdown",
   "id": "b8b2c29c3040b921",
   "metadata": {
    "lang": "de",
    "lines_to_next_cell": 2,
    "slideshow": {
     "slide_type": "subslide"
    },
    "tags": [
     "subslide"
    ]
   },
   "source": [
    "\n",
    "Die Quellcode-Abhängigkeit geht in die gleiche Richtung wie der Datenfluss:\n",
    "\n",
    "`my_module.py` ⟹ `sqlite3`\n",
    "\n",
    "<img src=\"img/dependency-01.svg\"\n",
    "     style=\"display:block;margin:auto;width:75%\"/>"
   ]
  },
  {
   "cell_type": "markdown",
   "id": "d7841be68ec5ffa5",
   "metadata": {
    "slideshow": {
     "slide_type": "subslide"
    },
    "tags": [
     "subslide"
    ]
   },
   "source": [
    "\n",
    "Wir würden derartige Abhängigkeiten im Kern unsere Anwendung gerne vermeiden\n",
    "\n",
    "- Einfacher zu testen\n",
    "- Einfacher zu erweitern\n",
    "- Einfacher externe Abhängigkeiten zu ersetzen\n",
    "- Einfacher den Code zu verstehen\n",
    "- ..."
   ]
  },
  {
   "cell_type": "markdown",
   "id": "c9c0697ff6b3d155",
   "metadata": {
    "lang": "de",
    "slideshow": {
     "slide_type": "subslide"
    },
    "tags": [
     "subslide"
    ]
   },
   "source": [
    "\n",
    "<img src=\"img/dependency-02.svg\"\n",
    "     style=\"display:block;margin:auto;width:75%\"/>"
   ]
  },
  {
   "cell_type": "markdown",
   "id": "9e9544af6c0baff9",
   "metadata": {
    "lang": "de",
    "slideshow": {
     "slide_type": "subslide"
    },
    "tags": [
     "subslide"
    ]
   },
   "source": [
    "\n",
    "- Modul `my_module.py`:\n",
    "  - Keine Abhängigkeit mehr zu `sqlite3`\n",
    "  - Kombination aus Adapter und Strategy Pattern"
   ]
  },
  {
   "cell_type": "code",
   "execution_count": null,
   "id": "358d3acdd9f86a51",
   "metadata": {
    "slideshow": {
     "slide_type": "subslide"
    },
    "tags": [
     "keep",
     "subslide"
    ]
   },
   "outputs": [],
   "source": [
    "from abc import ABC, abstractmethod"
   ]
  },
  {
   "cell_type": "code",
   "execution_count": null,
   "id": "157cf86f37d8e718",
   "metadata": {
    "tags": [
     "keep"
    ]
   },
   "outputs": [],
   "source": [
    "class DatabaseAdapter(ABC):\n",
    "    @abstractmethod\n",
    "    def save_object(self, data: str):\n",
    "        ...\n",
    "\n",
    "    @abstractmethod\n",
    "    def retrieve_data(self):\n",
    "        ..."
   ]
  },
  {
   "cell_type": "code",
   "execution_count": null,
   "id": "87cf7db9781869e8",
   "metadata": {
    "tags": [
     "keep"
    ]
   },
   "outputs": [],
   "source": [
    "class MyDomainClassV2:\n",
    "    def __init__(self, db: DatabaseAdapter):\n",
    "        self.db = db\n",
    "\n",
    "    def perform_work(self, data: str):\n",
    "        data = \"Processed: \" + data\n",
    "        self.db.save_object(data)\n",
    "\n",
    "    def retrieve_result(self):\n",
    "        return self.db.retrieve_data()"
   ]
  },
  {
   "cell_type": "markdown",
   "id": "7634bb144889ff84",
   "metadata": {
    "lang": "de",
    "slideshow": {
     "slide_type": "subslide"
    },
    "tags": [
     "subslide"
    ]
   },
   "source": [
    "\n",
    "- Modul `sqlite_adapter.py`:\n",
    "  - Implementiert `DatabaseAdapter` für `sqlite3`\n",
    "  - Hängt von `sqlite3` ab"
   ]
  },
  {
   "cell_type": "code",
   "execution_count": null,
   "id": "4e3210b404bdec99",
   "metadata": {
    "tags": [
     "keep"
    ]
   },
   "outputs": [],
   "source": [
    "import sqlite3"
   ]
  },
  {
   "cell_type": "code",
   "execution_count": null,
   "id": "2b14f3e169e8fd45",
   "metadata": {
    "lines_to_next_cell": 2,
    "tags": [
     "keep"
    ]
   },
   "outputs": [],
   "source": [
    "class SqliteAdapter(DatabaseAdapter):\n",
    "    def __init__(self):\n",
    "        conn = sqlite3.connect(\":memory:\")\n",
    "        conn.execute(\"CREATE TABLE my_table (data text)\")\n",
    "        conn.commit()\n",
    "        self.conn = conn\n",
    "\n",
    "    def save_object(self, data: str):\n",
    "        self.conn.execute(\"INSERT INTO my_table VALUES (?)\", (data,))\n",
    "        self.conn.commit()\n",
    "\n",
    "    def retrieve_data(self):\n",
    "        cur = self.conn.execute(\"SELECT * FROM my_table\")\n",
    "        return cur.fetchall()"
   ]
  },
  {
   "cell_type": "markdown",
   "id": "7a7416f27e8f67c8",
   "metadata": {
    "lang": "de",
    "slideshow": {
     "slide_type": "subslide"
    },
    "tags": [
     "subslide"
    ]
   },
   "source": [
    "\n",
    "- Modul `main.py`:"
   ]
  },
  {
   "cell_type": "code",
   "execution_count": null,
   "id": "7b8cac96f2653ced",
   "metadata": {
    "lines_to_next_cell": 2,
    "tags": [
     "keep"
    ]
   },
   "outputs": [],
   "source": [
    "# from my_module import MyDomainClassV2\n",
    "# from sqlite_adapter import SqliteAdapter"
   ]
  },
  {
   "cell_type": "code",
   "execution_count": null,
   "id": "a85e9f149cb5d36c",
   "metadata": {
    "tags": [
     "keep"
    ]
   },
   "outputs": [],
   "source": [
    "my_domain_object = MyDomainClassV2(SqliteAdapter())\n",
    "my_domain_object.perform_work(\"Hello World\")\n",
    "print(my_domain_object.retrieve_result())"
   ]
  },
  {
   "cell_type": "markdown",
   "id": "ef27447470f93635",
   "metadata": {
    "lang": "de",
    "slideshow": {
     "slide_type": "slide"
    },
    "tags": [
     "slide"
    ]
   },
   "source": [
    "\n",
    "# SOLID: Dependency Inversion Prinzip\n",
    "\n",
    "- Die Kernfunktionalität eines Systems hängt nicht von seiner Umgebung ab\n",
    "  - **Konkrete Artefakte hängen von Abstraktionen ab** (nicht umgekehrt)\n",
    "  - **Instabile Artefakte hängen von stabilen Artefakten ab** (nicht umgekehrt)\n",
    "  - **Äußere Schichten** der Architektur **hängen von inneren Schichten ab**\n",
    "    (nicht umgekehrt)\n",
    "  - Klassen/Module hängen von Abstraktionen (z. B. Schnittstellen) ab,\n",
    "    nicht von anderen Klassen/Modulen\n",
    "- Abhängigkeitsinversion (Dependency Inversion) erreicht dies durch die Einführung\n",
    "  von Schnittstellen, die \"die Abhängigkeiten umkehren\""
   ]
  },
  {
   "cell_type": "markdown",
   "id": "bab6ce6d3b5bb775",
   "metadata": {
    "lang": "de",
    "slideshow": {
     "slide_type": "subslide"
    },
    "tags": [
     "subslide"
    ]
   },
   "source": [
    "\n",
    "### Vorher\n",
    "<img src=\"img/dependency-01.svg\"\n",
    "     style=\"display:block;margin:auto;width:75%\"/>\n",
    "\n",
    "### Nachher\n",
    "<img src=\"img/dependency-02.svg\"\n",
    "     style=\"display:block;margin:auto;width:75%\"/>"
   ]
  },
  {
   "cell_type": "markdown",
   "id": "579cdb008d39aeb0",
   "metadata": {
    "slideshow": {
     "slide_type": "subslide"
    },
    "tags": [
     "subslide"
    ]
   },
   "source": [
    "\n",
    "<img src=\"img/dip-01.svg\"\n",
    "     style=\"display:block;margin:auto;width:95%\"/>"
   ]
  },
  {
   "cell_type": "markdown",
   "id": "ab8db102d960f9ec",
   "metadata": {
    "slideshow": {
     "slide_type": "subslide"
    },
    "tags": [
     "subslide"
    ]
   },
   "source": [
    "\n",
    "<img src=\"img/dip-02.svg\"\n",
    "     style=\"display:block;margin:auto;width:95%\"/>"
   ]
  },
  {
   "cell_type": "markdown",
   "id": "02904b55f27d2b16",
   "metadata": {
    "slideshow": {
     "slide_type": "subslide"
    },
    "tags": [
     "subslide"
    ]
   },
   "source": [
    "\n",
    "<img src=\"img/dip-03.svg\"\n",
    "     style=\"display:block;margin:auto;width:95%\"/>"
   ]
  },
  {
   "cell_type": "markdown",
   "id": "67bec8564736fd0a",
   "metadata": {
    "lang": "de",
    "slideshow": {
     "slide_type": "subslide"
    },
    "tags": [
     "subslide"
    ]
   },
   "source": [
    "\n",
    "## Beispiel"
   ]
  },
  {
   "cell_type": "code",
   "execution_count": null,
   "id": "88de5a8a30ff6828",
   "metadata": {
    "tags": [
     "keep"
    ]
   },
   "outputs": [],
   "source": [
    "from dataclasses import dataclass\n",
    "from pprint import pprint"
   ]
  },
  {
   "cell_type": "code",
   "execution_count": null,
   "id": "b3eeeb962f6479a0",
   "metadata": {
    "tags": [
     "keep"
    ]
   },
   "outputs": [],
   "source": [
    "from augurdb import AugurDatabase"
   ]
  },
  {
   "cell_type": "code",
   "execution_count": null,
   "id": "6cfccb32157a0662",
   "metadata": {
    "tags": [
     "keep"
    ]
   },
   "outputs": [],
   "source": [
    "@dataclass\n",
    "class BadEmployee:\n",
    "    id: int\n",
    "    name: str\n",
    "    database: AugurDatabase\n",
    "\n",
    "    def save(self):\n",
    "        self.database.start_transaction()\n",
    "        self.database.store_field(self.id, \"name\", self.name)\n",
    "        self.database.commit_transaction()"
   ]
  },
  {
   "cell_type": "code",
   "execution_count": null,
   "id": "b7d16c8806e8068b",
   "metadata": {
    "slideshow": {
     "slide_type": "subslide"
    },
    "tags": [
     "keep",
     "subslide"
    ]
   },
   "outputs": [],
   "source": [
    "db = AugurDatabase()\n",
    "be = BadEmployee(123, \"Joe\", db)"
   ]
  },
  {
   "cell_type": "code",
   "execution_count": null,
   "id": "6a92da96e12e85ff",
   "metadata": {
    "tags": [
     "keep"
    ]
   },
   "outputs": [],
   "source": [
    "be.save()"
   ]
  },
  {
   "cell_type": "code",
   "execution_count": null,
   "id": "2936142550a2790b",
   "metadata": {
    "tags": [
     "keep"
    ]
   },
   "outputs": [],
   "source": [
    "pprint(db.records)"
   ]
  },
  {
   "cell_type": "markdown",
   "id": "b259a6c4a535b07a",
   "metadata": {
    "lang": "de",
    "slideshow": {
     "slide_type": "subslide"
    },
    "tags": [
     "subslide"
    ]
   },
   "source": [
    "\n",
    "- Einführen eines Interfaces"
   ]
  },
  {
   "cell_type": "code",
   "execution_count": null,
   "id": "2b0093bdcd03e2e2",
   "metadata": {},
   "outputs": [],
   "source": [
    "from abc import ABC, abstractmethod"
   ]
  },
  {
   "cell_type": "code",
   "execution_count": null,
   "id": "daa5cdde595caf5a",
   "metadata": {
    "lines_to_next_cell": 2
   },
   "outputs": [],
   "source": [
    "# module employee\n",
    "class DatabaseAdapter(ABC):\n",
    "    @abstractmethod\n",
    "    def save(self, e: \"BetterEmployee\"):\n",
    "        ..."
   ]
  },
  {
   "cell_type": "markdown",
   "id": "d4f04952b28fc7ec",
   "metadata": {
    "lang": "de",
    "slideshow": {
     "slide_type": "subslide"
    },
    "tags": [
     "subslide"
    ]
   },
   "source": [
    "\n",
    "- Verwenden des Interfaces"
   ]
  },
  {
   "cell_type": "code",
   "execution_count": null,
   "id": "98e5145d5a3b6970",
   "metadata": {
    "lines_to_next_cell": 2,
    "tags": [
     "alt"
    ]
   },
   "outputs": [],
   "source": [
    "# module employee\n",
    "@dataclass\n",
    "class BetterEmployee:\n",
    "    id: int\n",
    "    name: str\n",
    "    database: DatabaseAdapter\n",
    "\n",
    "    def save(self):\n",
    "        self.database.save(self)"
   ]
  },
  {
   "cell_type": "markdown",
   "id": "6e59f59a8e3c80fa",
   "metadata": {
    "lang": "de",
    "slideshow": {
     "slide_type": "subslide"
    },
    "tags": [
     "subslide"
    ]
   },
   "source": [
    "\n",
    "- Konkrete Implementierung des Interfaces"
   ]
  },
  {
   "cell_type": "code",
   "execution_count": null,
   "id": "f4c35f14c8bcec81",
   "metadata": {
    "tags": [
     "keep"
    ]
   },
   "outputs": [],
   "source": [
    "from dataclasses import dataclass, field"
   ]
  },
  {
   "cell_type": "code",
   "execution_count": null,
   "id": "272e7cac6c501be8",
   "metadata": {},
   "outputs": [],
   "source": [
    "# module db\n",
    "@dataclass\n",
    "class AugurDatabaseAdapter(DatabaseAdapter):\n",
    "    database: AugurDatabase = field(default_factory=AugurDatabase)\n",
    "\n",
    "    def save(self, e: \"BetterEmployee\"):\n",
    "        self.database.start_transaction()\n",
    "        self.database.store_field(e.id, \"name\", e.name)\n",
    "        self.database.commit_transaction()"
   ]
  },
  {
   "cell_type": "code",
   "execution_count": null,
   "id": "3774fceca78dfe08",
   "metadata": {
    "slideshow": {
     "slide_type": "subslide"
    },
    "tags": [
     "subslide"
    ]
   },
   "outputs": [],
   "source": [
    "db = AugurDatabaseAdapter()\n",
    "be = BetterEmployee(123, \"Joe\", db)"
   ]
  },
  {
   "cell_type": "code",
   "execution_count": null,
   "id": "55c0e794f179bc67",
   "metadata": {},
   "outputs": [],
   "source": [
    "be.save()"
   ]
  },
  {
   "cell_type": "code",
   "execution_count": null,
   "id": "4e68c01149e02497",
   "metadata": {
    "lines_to_next_cell": 2
   },
   "outputs": [],
   "source": [
    "pprint(db.database.records)"
   ]
  },
  {
   "cell_type": "markdown",
   "id": "4125f087de42ab10",
   "metadata": {
    "lang": "de",
    "slideshow": {
     "slide_type": "subslide"
    },
    "tags": [
     "subslide"
    ]
   },
   "source": [
    "\n",
    "## Workshop: Wetterbericht\n",
    "\n",
    "In einem Programm wird ein Wetterbericht von einem Server abgerufen. Leider ist\n",
    "dabei die Abhängigkeit zum Server hart kodiert.\n",
    "\n",
    "- Führen Sie eine Abstraktion ein, um die Abhängigkeit umzukehren\n",
    "- Schreiben Sie eine konkrete Implementierung der Abstraktion\n",
    "- Testen Sie die Implementierung"
   ]
  },
  {
   "cell_type": "code",
   "execution_count": null,
   "id": "3f5203df18900b5a",
   "metadata": {
    "slideshow": {
     "slide_type": "subslide"
    },
    "tags": [
     "subslide",
     "keep"
    ]
   },
   "outputs": [],
   "source": [
    "from dataclasses import dataclass"
   ]
  },
  {
   "cell_type": "code",
   "execution_count": null,
   "id": "c2dd38af2ca23c1c",
   "metadata": {
    "tags": [
     "keep"
    ]
   },
   "outputs": [],
   "source": [
    "@dataclass\n",
    "class WeatherReport:\n",
    "    temperature: float\n",
    "    humidity: float"
   ]
  },
  {
   "cell_type": "code",
   "execution_count": null,
   "id": "d68ce403c4edf079",
   "metadata": {
    "tags": [
     "keep"
    ]
   },
   "outputs": [],
   "source": [
    "@dataclass\n",
    "class WeatherServer:\n",
    "    def get_weather_report(self) -> WeatherReport:\n",
    "        from random import random\n",
    "\n",
    "        return WeatherReport(20 + 10 * random(), 0.5 + 0.5 * random())"
   ]
  },
  {
   "cell_type": "code",
   "execution_count": null,
   "id": "47245d7e3aabb68b",
   "metadata": {
    "slideshow": {
     "slide_type": "subslide"
    },
    "tags": [
     "keep",
     "subslide"
    ]
   },
   "outputs": [],
   "source": [
    "class WeatherReporter:\n",
    "    def __init__(self, server: WeatherServer):\n",
    "        self.server: WeatherServer = server\n",
    "\n",
    "    def report(self):\n",
    "        report = self.server.get_weather_report()\n",
    "        if report.temperature > 25:\n",
    "            return \"It's hot\"\n",
    "        else:\n",
    "            return \"It's not hot\""
   ]
  },
  {
   "cell_type": "code",
   "execution_count": null,
   "id": "c7d76a98ce46668c",
   "metadata": {
    "tags": [
     "keep"
    ]
   },
   "outputs": [],
   "source": [
    "reporter = WeatherReporter(WeatherServer())"
   ]
  },
  {
   "cell_type": "code",
   "execution_count": null,
   "id": "1212707255a9a201",
   "metadata": {
    "lines_to_next_cell": 2,
    "tags": [
     "keep"
    ]
   },
   "outputs": [],
   "source": [
    "reporter.report()"
   ]
  },
  {
   "cell_type": "code",
   "execution_count": null,
   "id": "25f7f2bc65921240",
   "metadata": {
    "slideshow": {
     "slide_type": "subslide"
    },
    "tags": [
     "subslide"
    ]
   },
   "outputs": [],
   "source": [
    "from abc import ABC, abstractmethod"
   ]
  },
  {
   "cell_type": "code",
   "execution_count": null,
   "id": "6a2570f83ad1747c",
   "metadata": {},
   "outputs": [],
   "source": [
    "class WeatherDataSource(ABC):\n",
    "    @abstractmethod\n",
    "    def get_weather_report(self) -> WeatherReport:\n",
    "        ..."
   ]
  },
  {
   "cell_type": "code",
   "execution_count": null,
   "id": "0a17b62a9641d8b3",
   "metadata": {},
   "outputs": [],
   "source": [
    "class DiWeatherReporter:\n",
    "    def __init__(self, data_source: WeatherDataSource):\n",
    "        self.data_source: WeatherDataSource = data_source\n",
    "\n",
    "    def report(self):\n",
    "        report = self.data_source.get_weather_report()\n",
    "        if report.temperature > 25:\n",
    "            return \"It's hot\"\n",
    "        else:\n",
    "            return \"It's not hot\""
   ]
  },
  {
   "cell_type": "code",
   "execution_count": null,
   "id": "16c6302c982a541c",
   "metadata": {
    "slideshow": {
     "slide_type": "subslide"
    },
    "tags": [
     "subslide"
    ]
   },
   "outputs": [],
   "source": [
    "class WeatherServerAdapter(WeatherDataSource):\n",
    "    def __init__(self, server: WeatherServer):\n",
    "        self.server: WeatherServer = server\n",
    "\n",
    "    def get_weather_report(self) -> WeatherReport:\n",
    "        return self.server.get_weather_report()"
   ]
  },
  {
   "cell_type": "code",
   "execution_count": null,
   "id": "5c8645a154f13eb8",
   "metadata": {},
   "outputs": [],
   "source": [
    "reporter = DiWeatherReporter(WeatherServerAdapter(WeatherServer()))"
   ]
  },
  {
   "cell_type": "code",
   "execution_count": null,
   "id": "590edf1d564e69a7",
   "metadata": {},
   "outputs": [],
   "source": [
    "reporter.report()"
   ]
  }
 ],
 "metadata": {
  "jupytext": {
   "cell_metadata_filter": "tags,lang,-all",
   "main_language": "python",
   "notebook_metadata_filter": "-all"
  },
  "kernelspec": {
   "display_name": "cam-basic",
   "language": "python",
   "name": "python3"
  },
  "language_info": {
   "codemirror_mode": {
    "name": "ipython",
    "version": 3
   },
   "file_extension": ".py",
   "mimetype": "text/x-python",
   "name": "python",
   "nbconvert_exporter": "python",
   "pygments_lexer": "ipython3",
   "version": "3.12.8"
  }
 },
 "nbformat": 4,
 "nbformat_minor": 5
}
