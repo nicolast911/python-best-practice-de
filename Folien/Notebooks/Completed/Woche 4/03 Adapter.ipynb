{
 "cells": [
  {
   "cell_type": "markdown",
   "id": "4e916e1b5b6b7594",
   "metadata": {
    "lang": "de",
    "slideshow": {
     "slide_type": "slide"
    },
    "tags": [
     "slide"
    ]
   },
   "source": [
    "\n",
    "<img src=\"data:image/svg+xml;base64,PHN2ZyB4bWxucz0iaHR0cDovL3d3dy53My5vcmcvMjAwMC9zdmciIHhtbG5zOnhsaW5rPSJodHRw\n",
    "Oi8vd3d3LnczLm9yZy8xOTk5L3hsaW5rIiB3aWR0aD0iMTExLjE2MSIgaGVpZ2h0PSIxMzQuNjY4\n",
    "IiB2ZXJzaW9uPSIxLjAiPjxkZWZzPjxsaW5lYXJHcmFkaWVudCBpZD0iYyI+PHN0b3Agb2Zmc2V0\n",
    "PSIwIiBzdHlsZT0ic3RvcC1jb2xvcjojYjhiOGI4O3N0b3Atb3BhY2l0eTouNDk4MDM5MjIiLz48\n",
    "c3RvcCBvZmZzZXQ9IjEiIHN0eWxlPSJzdG9wLWNvbG9yOiM3ZjdmN2Y7c3RvcC1vcGFjaXR5OjAi\n",
    "Lz48L2xpbmVhckdyYWRpZW50PjxsaW5lYXJHcmFkaWVudCBpZD0iYSI+PHN0b3Agb2Zmc2V0PSIw\n",
    "IiBzdHlsZT0ic3RvcC1jb2xvcjojZmZkNDNiO3N0b3Atb3BhY2l0eToxIi8+PHN0b3Agb2Zmc2V0\n",
    "PSIxIiBzdHlsZT0ic3RvcC1jb2xvcjojZmZlODczO3N0b3Atb3BhY2l0eToxIi8+PC9saW5lYXJH\n",
    "cmFkaWVudD48bGluZWFyR3JhZGllbnQgaWQ9ImIiPjxzdG9wIG9mZnNldD0iMCIgc3R5bGU9InN0\n",
    "b3AtY29sb3I6IzVhOWZkNDtzdG9wLW9wYWNpdHk6MSIvPjxzdG9wIG9mZnNldD0iMSIgc3R5bGU9\n",
    "InN0b3AtY29sb3I6IzMwNjk5ODtzdG9wLW9wYWNpdHk6MSIvPjwvbGluZWFyR3JhZGllbnQ+PGxp\n",
    "bmVhckdyYWRpZW50IHhsaW5rOmhyZWY9IiNhIiBpZD0iZSIgeDE9IjE1MC45NjEiIHgyPSIxMTIu\n",
    "MDMxIiB5MT0iMTkyLjM1MiIgeTI9IjEzNy4yNzMiIGdyYWRpZW50VHJhbnNmb3JtPSJtYXRyaXgo\n",
    "LjU2MjU0IDAgMCAuNTY3OTcgLTE0Ljk5MSAtMTEuNzAyKSIgZ3JhZGllbnRVbml0cz0idXNlclNw\n",
    "YWNlT25Vc2UiLz48bGluZWFyR3JhZGllbnQgeGxpbms6aHJlZj0iI2IiIGlkPSJkIiB4MT0iMjYu\n",
    "NjQ5IiB4Mj0iMTM1LjY2NSIgeTE9IjIwLjYwNCIgeTI9IjExNC4zOTgiIGdyYWRpZW50VHJhbnNm\n",
    "b3JtPSJtYXRyaXgoLjU2MjU0IDAgMCAuNTY3OTcgLTE0Ljk5MSAtMTEuNzAyKSIgZ3JhZGllbnRV\n",
    "bml0cz0idXNlclNwYWNlT25Vc2UiLz48cmFkaWFsR3JhZGllbnQgeGxpbms6aHJlZj0iI2MiIGlk\n",
    "PSJmIiBjeD0iNjEuNTE5IiBjeT0iMTMyLjI4NiIgcj0iMjkuMDM3IiBmeD0iNjEuNTE5IiBmeT0i\n",
    "MTMyLjI4NiIgZ3JhZGllbnRUcmFuc2Zvcm09Im1hdHJpeCgwIC0uMjM5OTUgMS4wNTQ2NyAwIC04\n",
    "My43IDE0Mi40NjIpIiBncmFkaWVudFVuaXRzPSJ1c2VyU3BhY2VPblVzZSIvPjwvZGVmcz48cGF0\n",
    "aCBkPSJNNTQuOTE5IDBjLTQuNTg0LjAyMi04Ljk2MS40MTMtMTIuODEzIDEuMDk1QzMwLjc2IDMu\n",
    "MDk5IDI4LjcgNy4yOTUgMjguNyAxNS4wMzJ2MTAuMjE5aDI2LjgxM3YzLjQwNkgxOC42MzhjLTcu\n",
    "NzkzIDAtMTQuNjE2IDQuNjg0LTE2Ljc1IDEzLjU5NC0yLjQ2MiAxMC4yMTMtMi41NzEgMTYuNTg2\n",
    "IDAgMjcuMjUgMS45MDUgNy45MzggNi40NTcgMTMuNTk0IDE0LjI1IDEzLjU5NGg5LjIxOHYtMTIu\n",
    "MjVjMC04Ljg1IDcuNjU3LTE2LjY1NyAxNi43NS0xNi42NTdoMjYuNzgyYzcuNDU0IDAgMTMuNDA2\n",
    "LTYuMTM4IDEzLjQwNi0xMy42MjV2LTI1LjUzYzAtNy4yNjctNi4xMy0xMi43MjYtMTMuNDA2LTEz\n",
    "LjkzOEM2NC4yODIuMzI4IDU5LjUwMi0uMDIgNTQuOTE4IDBtLTE0LjUgOC4yMmMyLjc3IDAgNS4w\n",
    "MzEgMi4yOTggNS4wMzEgNS4xMjUgMCAyLjgxNi0yLjI2MiA1LjA5My01LjAzMSA1LjA5My0yLjc4\n",
    "IDAtNS4wMzEtMi4yNzctNS4wMzEtNS4wOTMgMC0yLjgyNyAyLjI1MS01LjEyNSA1LjAzLTUuMTI1\n",
    "IiBzdHlsZT0iZmlsbDp1cmwoI2QpO2ZpbGwtb3BhY2l0eToxIi8+PHBhdGggZD0iTTg1LjYzOCAy\n",
    "OC42NTd2MTEuOTA2YzAgOS4yMzEtNy44MjYgMTctMTYuNzUgMTdINDIuMTA2Yy03LjMzNiAwLTEz\n",
    "LjQwNiA2LjI3OS0xMy40MDYgMTMuNjI1Vjk2LjcyYzAgNy4yNjYgNi4zMTkgMTEuNTQgMTMuNDA2\n",
    "IDEzLjYyNSA4LjQ4OCAyLjQ5NSAxNi42MjcgMi45NDYgMjYuNzgyIDAgNi43NS0xLjk1NSAxMy40\n",
    "MDYtNS44ODggMTMuNDA2LTEzLjYyNVY4Ni41SDU1LjUxM3YtMy40MDVIOTUuN2M3Ljc5MyAwIDEw\n",
    "LjY5Ni01LjQzNiAxMy40MDYtMTMuNTk0IDIuOC04LjM5OSAyLjY4LTE2LjQ3NiAwLTI3LjI1LTEu\n",
    "OTI1LTcuNzU4LTUuNjA0LTEzLjU5NC0xMy40MDYtMTMuNTk0ek03MC41NzUgOTMuMzEzYzIuNzgg\n",
    "MCA1LjAzMSAyLjI3OCA1LjAzMSA1LjA5NCAwIDIuODI3LTIuMjUxIDUuMTI1LTUuMDMxIDUuMTI1\n",
    "LTIuNzcgMC01LjAzMS0yLjI5OC01LjAzMS01LjEyNSAwLTIuODE2IDIuMjYxLTUuMDk0IDUuMDMx\n",
    "LTUuMDk0IiBzdHlsZT0iZmlsbDp1cmwoI2UpO2ZpbGwtb3BhY2l0eToxIi8+PGVsbGlwc2UgY3g9\n",
    "IjU1LjgxNyIgY3k9IjEyNy43MDEiIHJ4PSIzNS45MzEiIHJ5PSI2Ljk2NyIgc3R5bGU9Im9wYWNp\n",
    "dHk6LjQ0MzgyO2ZpbGw6dXJsKCNmKTtmaWxsLW9wYWNpdHk6MTtmaWxsLXJ1bGU6bm9uemVybztz\n",
    "dHJva2U6bm9uZTtzdHJva2Utd2lkdGg6MTUuNDE3NDtzdHJva2UtbWl0ZXJsaW1pdDo0O3N0cm9r\n",
    "ZS1kYXNoYXJyYXk6bm9uZTtzdHJva2Utb3BhY2l0eToxIi8+PC9zdmc+\n",
    "\"\n",
    "     style=\"display:block;margin:auto;width:10%\" alt=\"Python Logo\"/>\n",
    "<br>\n",
    "\n",
    "<div style=\"text-align:center; font-size:200%;\">\n",
    " <b>Adapter</b>\n",
    "</div>\n",
    "<br/>\n",
    "<div style=\"text-align:center;\">Dr. Matthias Hölzl</div>\n",
    "<br/>"
   ]
  },
  {
   "cell_type": "markdown",
   "id": "c7e95455739226a4",
   "metadata": {
    "lang": "de",
    "slideshow": {
     "slide_type": "slide"
    },
    "tags": [
     "slide"
    ]
   },
   "source": [
    "\n",
    "## Zweck\n",
    "\n",
    "- Anpassung der Schnittstelle einer Klasse an ein erwartetes Interface\n",
    "- Zusammenarbeit von Klassen, die aufgrund inkompatibler Schnittstellen nicht\n",
    "  zusammenarbeiten können"
   ]
  },
  {
   "cell_type": "markdown",
   "id": "484a694d067fcd79",
   "metadata": {
    "lang": "de",
    "slideshow": {
     "slide_type": "subslide"
    },
    "tags": [
     "subslide"
    ]
   },
   "source": [
    "\n",
    "## Auch bekannt als\n",
    "\n",
    "- Wrapper"
   ]
  },
  {
   "cell_type": "markdown",
   "id": "db28c90890fd1f15",
   "metadata": {
    "lang": "de",
    "slideshow": {
     "slide_type": "subslide"
    },
    "tags": [
     "subslide"
    ]
   },
   "source": [
    "\n",
    "## Motivation\n",
    "\n",
    "- Nutzung einer Bibliotheks-Klasse aufgrund inkompatibler Schnittstellen nicht möglich\n",
    "- Beispiel: Grafischer Editor\n",
    "  - Grafik-Objekte sind relativ einfach zu realisieren\n",
    "  - Text ist komplexer, möglicherweise ist der Einsatz einer externen Bibliothek\n",
    "    sinnvoll\n",
    "- Die Schnittstelle dieser Bibliothek ist nicht kompatibel mit der Schnittstelle,\n",
    "  die unser Editor erwartet\n",
    "- Mit einem Adapter können wir die Schnittstelle der Bibliothek an die\n",
    "  Schnittstelle unseres Editors anpassen"
   ]
  },
  {
   "cell_type": "markdown",
   "id": "39c7b56248a97a45",
   "metadata": {
    "lang": "de",
    "slideshow": {
     "slide_type": "subslide"
    },
    "tags": [
     "subslide"
    ]
   },
   "source": [
    "\n",
    "<img src=\"img/adapter-example.png\"\n",
    "     style=\"display:block;margin:auto;width:80%\"/>"
   ]
  },
  {
   "cell_type": "markdown",
   "id": "d3831430dbb78aea",
   "metadata": {
    "lang": "de",
    "slideshow": {
     "slide_type": "subslide"
    },
    "tags": [
     "subslide"
    ]
   },
   "source": [
    "\n",
    "## Anwendbarkeit\n",
    "\n",
    "- Nutzung einer bestehenden Klasse mit inkompatibler Schnittstelle\n",
    "- [...]"
   ]
  },
  {
   "cell_type": "markdown",
   "id": "4d9d457e4ec2b195",
   "metadata": {
    "lang": "de",
    "slideshow": {
     "slide_type": "subslide"
    },
    "tags": [
     "subslide"
    ]
   },
   "source": [
    "\n",
    "## Struktur\n",
    "\n",
    "- Es werden zwei Varianten definiert: Klassenadapter und Objektadapter\n",
    "- Klassenadapter verwenden Mehrfachvererbung und werden seltener eingesetzt\n",
    "- Klassendiagramm für Objektadapter:\n",
    "\n",
    "<img src=\"img/pat_adapter.png\"\n",
    "     style=\"display: block; margin: auto; width: 80%;\"/>"
   ]
  },
  {
   "cell_type": "markdown",
   "id": "31af669e86744445",
   "metadata": {
    "lang": "de",
    "slideshow": {
     "slide_type": "subslide"
    },
    "tags": [
     "subslide"
    ]
   },
   "source": [
    "\n",
    "## Teilnehmer\n",
    "\n",
    "- **Client**\n",
    "  - Nutzt das Interface von Target\n",
    "- **Target**\n",
    "  - Definiert das Interface, das vom Client verwendet wird\n",
    "- **Adapter**\n",
    "  - Implementiert das Interface von Target und hält eine Referenz auf das Adaptee\n",
    "- **Adaptee**\n",
    "  - Die Klasse, deren Schnittstelle angepasst werden soll"
   ]
  },
  {
   "cell_type": "markdown",
   "id": "5c77cdf4448ae7d6",
   "metadata": {
    "lang": "de",
    "slideshow": {
     "slide_type": "subslide"
    },
    "tags": [
     "subslide"
    ]
   },
   "source": [
    "\n",
    "## Interaktionen\n",
    "\n",
    "- Der Client ruft eine Target-Methode auf einem Adapter-Objekt auf\n",
    "- Der Adapter ruft die entsprechende Methode auf dem Adaptee auf"
   ]
  },
  {
   "cell_type": "markdown",
   "id": "4be3729f5489e862",
   "metadata": {
    "lang": "de",
    "slideshow": {
     "slide_type": "subslide"
    },
    "tags": [
     "subslide"
    ]
   },
   "source": [
    "\n",
    "## Konsequenzen\n",
    "\n",
    "- Klassenadapter\n",
    "  - ...\n",
    "- Objektadapter\n",
    "  - ein Adapter kann mit mehreren adaptierten Objekten zusammenarbeiten\n",
    "  - erschwert das Überschreiben von Adaptee-Methoden"
   ]
  },
  {
   "cell_type": "markdown",
   "id": "bb1925e1a2a2519c",
   "metadata": {
    "lang": "de",
    "slideshow": {
     "slide_type": "subslide"
    },
    "tags": [
     "subslide"
    ]
   },
   "source": [
    "\n",
    "## Weitere Konsequenzen\n",
    "\n",
    "- Anpassungsaufwand variiert je nachdem, wie unterschiedlich die Schnittstellen sind\n",
    "- Klassen mit integrierter Schnittstellenanpassung (pluggable Adapters)\n",
    "- 2-Wege-Adapter, wenn verschiedene Clients das gleiche Objekt adaptieren müssen"
   ]
  },
  {
   "cell_type": "markdown",
   "id": "10f25bcbc3a35be4",
   "metadata": {
    "lang": "de",
    "slideshow": {
     "slide_type": "subslide"
    },
    "tags": [
     "subslide"
    ]
   },
   "source": [
    "\n",
    "## Implementierung\n",
    "\n",
    "- ..."
   ]
  },
  {
   "cell_type": "markdown",
   "id": "7aa2cb36f643d890",
   "metadata": {
    "lang": "de",
    "slideshow": {
     "slide_type": "subslide"
    },
    "tags": [
     "subslide"
    ]
   },
   "source": [
    "\n",
    "## Beispielcode"
   ]
  },
  {
   "cell_type": "code",
   "execution_count": 1,
   "id": "16b82b5158fda9cc",
   "metadata": {
    "tags": [
     "keep"
    ]
   },
   "outputs": [],
   "source": [
    "from abc import ABC, abstractmethod\n",
    "from dataclasses import dataclass"
   ]
  },
  {
   "cell_type": "code",
   "execution_count": 2,
   "id": "d717ed80a9eecc29",
   "metadata": {
    "slideshow": {
     "slide_type": "subslide"
    },
    "tags": [
     "keep",
     "subslide"
    ]
   },
   "outputs": [],
   "source": [
    "class Employee(ABC):\n",
    "    @abstractmethod\n",
    "    def name(self) -> str:\n",
    "        ...\n",
    "\n",
    "    @abstractmethod\n",
    "    def salary(self) -> float:\n",
    "        ..."
   ]
  },
  {
   "cell_type": "code",
   "execution_count": 3,
   "id": "ff3aae40e6fbcbd4",
   "metadata": {
    "slideshow": {
     "slide_type": "subslide"
    },
    "tags": [
     "keep",
     "subslide"
    ]
   },
   "outputs": [],
   "source": [
    "@dataclass\n",
    "class Company:\n",
    "    employees: list[Employee]\n",
    "    monthly_rent: float = 1000.0\n",
    "\n",
    "    def monthly_expenses(self) -> float:\n",
    "        return sum(employee.salary() for employee in self.employees) + self.monthly_rent"
   ]
  },
  {
   "cell_type": "code",
   "execution_count": 4,
   "id": "4fbce93e85359c50",
   "metadata": {
    "slideshow": {
     "slide_type": "subslide"
    },
    "tags": [
     "subslide",
     "keep"
    ]
   },
   "outputs": [],
   "source": [
    "@dataclass\n",
    "class LegacyEmployee:\n",
    "    first_name: str\n",
    "    last_name: str\n",
    "    pay: float"
   ]
  },
  {
   "cell_type": "code",
   "execution_count": 5,
   "id": "7e23dd20465bef82",
   "metadata": {},
   "outputs": [],
   "source": [
    "class LegacyEmployeeAdapter(Employee):\n",
    "    def __init__(self, legacy_employee: LegacyEmployee):\n",
    "        self._legacy_employee = legacy_employee\n",
    "\n",
    "    def name(self) -> str:\n",
    "        return f\"{self._legacy_employee.first_name} {self._legacy_employee.last_name}\"\n",
    "\n",
    "    def salary(self) -> float:\n",
    "        return self._legacy_employee.pay\n",
    "\n",
    "    def __repr__(self):\n",
    "        return f\"LegacyEmployee({self.name()}, {self.salary()})\""
   ]
  },
  {
   "cell_type": "code",
   "execution_count": 6,
   "id": "7cd8289644ccaeaa",
   "metadata": {
    "lines_to_next_cell": 2,
    "slideshow": {
     "slide_type": "subslide"
    },
    "tags": [
     "subslide",
     "keep"
    ]
   },
   "outputs": [
    {
     "data": {
      "text/plain": [
       "LegacyEmployee(John Doe, 1500.0)"
      ]
     },
     "execution_count": 6,
     "metadata": {},
     "output_type": "execute_result"
    }
   ],
   "source": [
    "_legacy_employee_1 = LegacyEmployee(\"John\", \"Doe\", 1500.0)\n",
    "_employee_1 = LegacyEmployeeAdapter(_legacy_employee_1)\n",
    "_employee_1"
   ]
  },
  {
   "cell_type": "code",
   "execution_count": 7,
   "id": "d55f3e9bdea3e2c7",
   "metadata": {
    "tags": [
     "keep"
    ]
   },
   "outputs": [
    {
     "data": {
      "text/plain": [
       "LegacyEmployee(Jane Miller, 2000.0)"
      ]
     },
     "execution_count": 7,
     "metadata": {},
     "output_type": "execute_result"
    }
   ],
   "source": [
    "_legacy_employee_2 = LegacyEmployee(\"Jane\", \"Miller\", 2000.0)\n",
    "_employee_2 = LegacyEmployeeAdapter(_legacy_employee_2)\n",
    "_employee_2"
   ]
  },
  {
   "cell_type": "code",
   "execution_count": 8,
   "id": "8a64c0bb256598ad",
   "metadata": {
    "tags": [
     "keep"
    ]
   },
   "outputs": [
    {
     "data": {
      "text/plain": [
       "Company(employees=[LegacyEmployee(John Doe, 1500.0), LegacyEmployee(Jane Miller, 2000.0)], monthly_rent=1000.0)"
      ]
     },
     "execution_count": 8,
     "metadata": {},
     "output_type": "execute_result"
    }
   ],
   "source": [
    "_company = Company([_employee_1, _employee_2])\n",
    "_company"
   ]
  },
  {
   "cell_type": "code",
   "execution_count": 9,
   "id": "a917fdc74f9e5105",
   "metadata": {},
   "outputs": [
    {
     "data": {
      "text/plain": [
       "4500.0"
      ]
     },
     "execution_count": 9,
     "metadata": {},
     "output_type": "execute_result"
    }
   ],
   "source": [
    "_company.monthly_expenses()"
   ]
  },
  {
   "cell_type": "markdown",
   "id": "9479c8f1939f4f25",
   "metadata": {
    "lang": "de",
    "slideshow": {
     "slide_type": "subslide"
    },
    "tags": [
     "subslide"
    ]
   },
   "source": [
    "\n",
    "## Praxisbeispiele\n",
    "\n",
    "- ET++ Draw\n",
    "- InterViews 2.6\n",
    "- ..."
   ]
  },
  {
   "cell_type": "markdown",
   "id": "e834c60251d14de2",
   "metadata": {
    "lang": "de",
    "slideshow": {
     "slide_type": "subslide"
    },
    "tags": [
     "subslide"
    ]
   },
   "source": [
    "\n",
    "## Verwandte Muster\n",
    "\n",
    "- Bridge: ähnliche Struktur, aber andere Absicht (Trennung von Schnittstelle und\n",
    "  Implementierung)\n",
    "- Decorator: erweitert anderes Objekt, ohne die Schnittstelle zu ändern\n",
    "- Proxy: Stellvertreter für ein Objekt, das die gleiche Schnittstelle hat"
   ]
  },
  {
   "cell_type": "markdown",
   "id": "9cbf7870c986798d",
   "metadata": {
    "lang": "de",
    "slideshow": {
     "slide_type": "subslide"
    },
    "tags": [
     "subslide"
    ]
   },
   "source": [
    "\n",
    "## Python-Implementierung\n",
    "\n",
    "- Python bietet Sprachfeatures, die die Implementierung von Adaptern in manchen Fällen\n",
    "  vereinfachen können\n",
    "- Monkey Patching\n",
    "  - Methoden können nach der Definition zu einem Objekt hinzugefügt werden\n",
    "- ..."
   ]
  },
  {
   "cell_type": "markdown",
   "id": "65039066f65c7565",
   "metadata": {
    "lang": "de",
    "slideshow": {
     "slide_type": "subslide"
    },
    "tags": [
     "subslide"
    ]
   },
   "source": [
    "\n",
    "### Monkey Patching\n",
    "\n",
    "- Methoden können nach der Definition zu einem Objekt hinzugefügt werden"
   ]
  },
  {
   "cell_type": "code",
   "execution_count": 10,
   "id": "826a02ffb57543cb",
   "metadata": {},
   "outputs": [],
   "source": [
    "def name(obj) -> str:\n",
    "    return f\"{obj.first_name} {obj.last_name}\""
   ]
  },
  {
   "cell_type": "code",
   "execution_count": 11,
   "id": "57a9b7ac7e648ee1",
   "metadata": {},
   "outputs": [],
   "source": [
    "LegacyEmployee.name = name"
   ]
  },
  {
   "cell_type": "code",
   "execution_count": 12,
   "id": "42b57189659f05f5",
   "metadata": {},
   "outputs": [
    {
     "data": {
      "text/plain": [
       "'John Doe'"
      ]
     },
     "execution_count": 12,
     "metadata": {},
     "output_type": "execute_result"
    }
   ],
   "source": [
    "_legacy_employee_1.name()"
   ]
  },
  {
   "cell_type": "code",
   "execution_count": 13,
   "id": "17e1881e97557ffe",
   "metadata": {
    "slideshow": {
     "slide_type": "subslide"
    },
    "tags": [
     "subslide"
    ]
   },
   "outputs": [],
   "source": [
    "LegacyEmployee.salary = lambda obj: obj.pay"
   ]
  },
  {
   "cell_type": "code",
   "execution_count": 14,
   "id": "d9e24520c48bd207",
   "metadata": {},
   "outputs": [
    {
     "data": {
      "text/plain": [
       "1500.0"
      ]
     },
     "execution_count": 14,
     "metadata": {},
     "output_type": "execute_result"
    }
   ],
   "source": [
    "_legacy_employee_1.salary()"
   ]
  },
  {
   "cell_type": "code",
   "execution_count": 15,
   "id": "d8f2b24cdefc1666",
   "metadata": {},
   "outputs": [],
   "source": [
    "_company2 = Company([_legacy_employee_1, _legacy_employee_2])"
   ]
  },
  {
   "cell_type": "code",
   "execution_count": 16,
   "id": "72e52331f340657d",
   "metadata": {
    "lines_to_next_cell": 2
   },
   "outputs": [
    {
     "data": {
      "text/plain": [
       "4500.0"
      ]
     },
     "execution_count": 16,
     "metadata": {},
     "output_type": "execute_result"
    }
   ],
   "source": [
    "_company2.monthly_expenses()"
   ]
  },
  {
   "cell_type": "markdown",
   "id": "222fc01f0dd970e1",
   "metadata": {
    "lang": "de",
    "lines_to_next_cell": 2,
    "slideshow": {
     "slide_type": "subslide"
    },
    "tags": [
     "subslide"
    ]
   },
   "source": [
    "\n",
    "## Workshop: Einheitliche Schnittstelle für einen Chat-Client\n",
    "\n",
    "In diesem Workshop soll eine einheitliche Schnittstelle für einen Chat-Client\n",
    "implementiert werden. Der Chat-Client soll mit verschiedenen Messaging-Diensten wie\n",
    "SMS, E-Mail und einem In-App-Chat-System kommunizieren können. Die Herausforderung\n",
    "besteht darin, dass jeder dieser Dienste seine eigene Art hat, Nachrichten zu senden\n",
    "und zu empfangen.\n",
    "\n",
    "Ihre Aufgabe ist es, den Adapter-Entwurf zu verwenden, um eine gemeinsame\n",
    "Kommunikationsschnittstelle für all diese Dienste zu erstellen. Auf diese Weise kann\n",
    "die Hauptanwendungslogik Nachrichten einheitlich senden und empfangen, unabhängig vom\n",
    "zugrundeliegenden Dienst, der verwendet wird."
   ]
  },
  {
   "cell_type": "markdown",
   "id": "8e6207cfd79b9ebc",
   "metadata": {
    "lang": "de",
    "slideshow": {
     "slide_type": "subslide"
    },
    "tags": [
     "subslide"
    ]
   },
   "source": [
    "\n",
    "Im Folgenden finden Sie den Startercode mit separaten Klassen für jeden\n",
    "Messaging-Dienst.\n",
    "\n",
    "Ihre Aufgabe ist es, Adapter für diese Klassen zu erstellen, damit sie von der\n",
    "Chat-Anwendung auf einheitliche Weise verwendet werden können.\n",
    "\n",
    "Bitte stellen Sie sicher, dass Ihre Lösung diese Richtlinien befolgt:\n",
    "\n",
    "- Es sollte das Adapter-Muster verwenden, um eine gemeinsame Schnittstelle für alle\n",
    "  Messaging-Dienste zu erstellen.\n",
    "- Die Schnittstelle sollte Methoden zum Senden und Empfangen von Nachrichten\n",
    "  bereitstellen.\n",
    "- Die Chat-Anwendung sollte nicht über die spezifischen Details jedes\n",
    "  Messaging-Dienstes Bescheid wissen. Stattdessen sollte sie mit allen Diensten über\n",
    "  die gemeinsame Schnittstelle interagieren."
   ]
  },
  {
   "cell_type": "markdown",
   "id": "f7d96917bbb3a6ca",
   "metadata": {
    "lang": "de",
    "slideshow": {
     "slide_type": "subslide"
    },
    "tags": [
     "subslide"
    ]
   },
   "source": [
    "\n",
    "Nachdem Sie die Adapter erstellt haben, demonstrieren Sie deren Verwendung, indem Sie\n",
    "eine Chat-Anwendung erstellen, die Nachrichten über alle verfügbaren Dienste sendet\n",
    "und empfängt. Die Anwendung sollte dies unter Verwendung der gemeinsamen Schnittstelle\n",
    "tun, ohne direkt Methoden aufzurufen, die spezifisch für jeden Dienst sind.\n",
    "\n",
    "Viel Erfolg!"
   ]
  },
  {
   "cell_type": "code",
   "execution_count": 17,
   "id": "83dc91ddf678be3c",
   "metadata": {
    "tags": [
     "keep"
    ]
   },
   "outputs": [],
   "source": [
    "class SMS:\n",
    "    def __init__(self):\n",
    "        self.service_name = \"SMS\"\n",
    "\n",
    "    def send_text(self, number, message):\n",
    "        print(f\"Sending text to {number} via {self.service_name}: {message}\")\n",
    "\n",
    "    def receive_text(self, number):\n",
    "        print(f\"Receiving a text from {number} via {self.service_name}\")"
   ]
  },
  {
   "cell_type": "code",
   "execution_count": 18,
   "id": "731bd5049f6dcb23",
   "metadata": {
    "slideshow": {
     "slide_type": "subslide"
    },
    "tags": [
     "keep",
     "subslide"
    ]
   },
   "outputs": [],
   "source": [
    "class Email:\n",
    "    def __init__(self):\n",
    "        self.service_name = \"Email\"\n",
    "\n",
    "    def send_email(self, email_address, subject, message):\n",
    "        print(\n",
    "            f\"Sending email to {email_address} with subject {subject!r} \"\n",
    "            f\"via {self.service_name}: {message}\"\n",
    "        )\n",
    "\n",
    "    def receive_email(self, email_address):\n",
    "        print(f\"Receiving an email from {email_address} via {self.service_name}\")"
   ]
  },
  {
   "cell_type": "code",
   "execution_count": 19,
   "id": "4871feb49ef7a62a",
   "metadata": {
    "slideshow": {
     "slide_type": "subslide"
    },
    "tags": [
     "keep",
     "subslide"
    ]
   },
   "outputs": [],
   "source": [
    "class InAppChat:\n",
    "    def __init__(self):\n",
    "        self.service_name = \"In-App Chat\"\n",
    "\n",
    "    def send_message(self, username, message):\n",
    "        print(f\"Sending message to {username} via {self.service_name}: {message}\")\n",
    "\n",
    "    def receive_message(self, username):\n",
    "        print(f\"Receiving a message from {username} via {self.service_name}\")"
   ]
  },
  {
   "cell_type": "code",
   "execution_count": 20,
   "id": "358d3acdd9f86a51",
   "metadata": {
    "slideshow": {
     "slide_type": "subslide"
    },
    "tags": [
     "subslide"
    ]
   },
   "outputs": [],
   "source": [
    "from abc import ABC, abstractmethod"
   ]
  },
  {
   "cell_type": "code",
   "execution_count": 32,
   "id": "2a196a70",
   "metadata": {},
   "outputs": [],
   "source": [
    "class Person:\n",
    "    def __init__(self, phone, mail):\n",
    "        self.phone = phone\n",
    "        self.mail = mail"
   ]
  },
  {
   "cell_type": "code",
   "execution_count": 33,
   "id": "ab7b6683bf4820d7",
   "metadata": {
    "tags": [
     "alt"
    ]
   },
   "outputs": [],
   "source": [
    "class MessagingAdapter(ABC):\n",
    "    @abstractmethod\n",
    "    def send(self, to: Person, message):\n",
    "        pass\n",
    "\n",
    "    @abstractmethod\n",
    "    def receive(self, from_):\n",
    "        pass"
   ]
  },
  {
   "cell_type": "code",
   "execution_count": 54,
   "id": "71e2e7d0e8797558",
   "metadata": {
    "slideshow": {
     "slide_type": "subslide"
    },
    "tags": [
     "alt",
     "subslide"
    ]
   },
   "outputs": [],
   "source": [
    "class SMSAdapter(MessagingAdapter):\n",
    "    def __init__(self, sms: SMS):\n",
    "        self._sms = sms\n",
    "\n",
    "    def send(self, to: Person, message):\n",
    "        self._sms.send_text(to.phone, message)\n",
    "\n",
    "    def receive(self, from_):\n",
    "        self._sms.receive_text(from_)"
   ]
  },
  {
   "cell_type": "code",
   "execution_count": 55,
   "id": "8b6ad308fa23f6dc",
   "metadata": {
    "slideshow": {
     "slide_type": "subslide"
    },
    "tags": [
     "alt",
     "subslide"
    ]
   },
   "outputs": [],
   "source": [
    "class EmailAdapter(MessagingAdapter):\n",
    "    def __init__(self, email: Email):\n",
    "        self._email = email\n",
    "\n",
    "    def send(self, to, message):\n",
    "        self._email.send_email(to.mail, \"Mail from Chat App\", message)\n",
    "\n",
    "    def receive(self, from_):\n",
    "        self._email.receive_email(from_)"
   ]
  },
  {
   "cell_type": "code",
   "execution_count": 56,
   "id": "5194b6a5edbde219",
   "metadata": {
    "slideshow": {
     "slide_type": "subslide"
    },
    "tags": [
     "alt",
     "subslide"
    ]
   },
   "outputs": [],
   "source": [
    "class InAppChatAdapter(MessagingAdapter):\n",
    "    def __init__(self, chat: InAppChat):\n",
    "        self._chat = chat\n",
    "\n",
    "    def send(self, to, message):\n",
    "        self._chat.send_message(to.phone, message)\n",
    "\n",
    "    def receive(self, from_):\n",
    "        self._chat.receive_message(from_)"
   ]
  },
  {
   "cell_type": "code",
   "execution_count": 68,
   "id": "1842e1d9b576e16b",
   "metadata": {
    "slideshow": {
     "slide_type": "subslide"
    },
    "tags": [
     "alt",
     "subslide"
    ]
   },
   "outputs": [],
   "source": [
    "class ChatApplication:\n",
    "    def __init__(self, adapters: dict[str, MessagingAdapter]):\n",
    "        self._adapters = adapters\n",
    "\n",
    "    def send_message(self, to, service: str, message: str):\n",
    "        if service == \"all\":\n",
    "            for adapter in self._adapters.values():\n",
    "                adapter.send(to, message)\n",
    "        else: \n",
    "            adapter = self._adapters[service]\n",
    "            adapter.send(to, message)\n",
    "\n",
    "\n",
    "    def receive_message(self, from_):\n",
    "        for adapter in self._adapters:\n",
    "            adapter.receive(from_)"
   ]
  },
  {
   "cell_type": "code",
   "execution_count": 69,
   "id": "fd2fafcbc00d1ff5",
   "metadata": {
    "slideshow": {
     "slide_type": "subslide"
    },
    "tags": [
     "alt",
     "subslide"
    ]
   },
   "outputs": [],
   "source": [
    "sms = SMS()\n",
    "email = Email()\n",
    "chat = InAppChat()"
   ]
  },
  {
   "cell_type": "code",
   "execution_count": 70,
   "id": "cbb9dcdec24b5978",
   "metadata": {
    "tags": [
     "alt"
    ]
   },
   "outputs": [],
   "source": [
    "sms_adapter = SMSAdapter(sms)\n",
    "email_adapter = EmailAdapter(email)\n",
    "chat_adapter = InAppChatAdapter(chat)"
   ]
  },
  {
   "cell_type": "code",
   "execution_count": 71,
   "id": "bc58d8da5e4a0785",
   "metadata": {
    "tags": [
     "alt"
    ]
   },
   "outputs": [],
   "source": [
    "chat_app = ChatApplication({\"sms\": sms_adapter, \"email\": email_adapter, \"chat\": chat_adapter})"
   ]
  },
  {
   "cell_type": "code",
   "execution_count": 72,
   "id": "f3fdceb11d136e66",
   "metadata": {
    "tags": [
     "alt"
    ]
   },
   "outputs": [
    {
     "name": "stdout",
     "output_type": "stream",
     "text": [
      "Sending text to 555-1234 via SMS: Hello!\n",
      "Sending email to test@web.de with subject 'Mail from Chat App' via Email: Hello!\n",
      "Sending message to 555-1234 via In-App Chat: Hello!\n"
     ]
    }
   ],
   "source": [
    "chat_app.send_message(Person(\"555-1234\", \"test@web.de\"), \"all\", \"Hello!\")"
   ]
  },
  {
   "cell_type": "code",
   "execution_count": 74,
   "id": "e51aab3f",
   "metadata": {},
   "outputs": [
    {
     "name": "stdout",
     "output_type": "stream",
     "text": [
      "Sending email to test@web.de with subject 'Mail from Chat App' via Email: Hello!\n"
     ]
    }
   ],
   "source": [
    "chat_app.send_message(Person(\"555-1234\", \"test@web.de\"), \"email\", \"Hello!\")"
   ]
  }
 ],
 "metadata": {
  "jupytext": {
   "cell_metadata_filter": "tags,lang,-all",
   "main_language": "python",
   "notebook_metadata_filter": "-all"
  },
  "kernelspec": {
   "display_name": "cam-basic",
   "language": "python",
   "name": "python3"
  },
  "language_info": {
   "codemirror_mode": {
    "name": "ipython",
    "version": 3
   },
   "file_extension": ".py",
   "mimetype": "text/x-python",
   "name": "python",
   "nbconvert_exporter": "python",
   "pygments_lexer": "ipython3",
   "version": "3.12.8"
  }
 },
 "nbformat": 4,
 "nbformat_minor": 5
}
